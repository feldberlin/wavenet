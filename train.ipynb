{
 "cells": [
  {
   "cell_type": "code",
   "execution_count": 1,
   "metadata": {},
   "outputs": [],
   "source": [
    "import numpy as np\n",
    "import torch\n",
    "from torch.nn import functional as F\n",
    "import matplotlib.pyplot as plt\n",
    "\n",
    "from wavenet import model, utils, train, viz"
   ]
  },
  {
   "cell_type": "code",
   "execution_count": 2,
   "metadata": {},
   "outputs": [],
   "source": [
    "p, n_examples, n_samples = model.HParams(), 2**13, 4\n",
    "X = utils.stereo_impulse_at_t0(n_examples, n_samples, p)\n",
    "m = model.Wavenet(model.HParams(n_channels=2))\n",
    "animation = viz.LearningAnimation(n_samples)\n",
    "t = train.Trainer(m, X, None, train.HParams(max_epochs=1), animation)"
   ]
  },
  {
   "cell_type": "code",
   "execution_count": 3,
   "metadata": {},
   "outputs": [
    {
     "name": "stderr",
     "output_type": "stream",
     "text": [
      "epoch 1 iter 127: train loss 0.95625. lr 3.000000e-04: 100%|██████████| 128/128 [03:00<00:00,  1.41s/it]\n"
     ]
    }
   ],
   "source": [
    "t.train()\n",
    "animation.render('training.gif')"
   ]
  }
 ],
 "metadata": {
  "kernelspec": {
   "display_name": ".venv",
   "language": "python",
   "name": ".venv"
  },
  "language_info": {
   "codemirror_mode": {
    "name": "ipython",
    "version": 3
   },
   "file_extension": ".py",
   "mimetype": "text/x-python",
   "name": "python",
   "nbconvert_exporter": "python",
   "pygments_lexer": "ipython3",
   "version": "3.7.2"
  }
 },
 "nbformat": 4,
 "nbformat_minor": 4
}
