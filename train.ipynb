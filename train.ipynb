{
 "cells": [
  {
   "cell_type": "code",
   "execution_count": 2,
   "metadata": {},
   "outputs": [],
   "source": [
    "import numpy as np\n",
    "import torch\n",
    "from torch.nn import functional as F\n",
    "import matplotlib.pyplot as plt\n",
    "\n",
    "from wavenet import model, utils, train"
   ]
  },
  {
   "cell_type": "code",
   "execution_count": 3,
   "metadata": {},
   "outputs": [
    {
     "name": "stderr",
     "output_type": "stream",
     "text": [
      "epoch 1 iter 127: train loss 0.93103. lr 3.000000e-04: 100%|██████████| 128/128 [01:49<00:00,  1.17it/s]\n"
     ]
    }
   ],
   "source": [
    "p, n_samples = model.HParams(), 2**13\n",
    "X = utils.sample_bimodal_stereo_at_t0_then_silence(n_samples, p)\n",
    "m = model.Wavenet(model.HParams(n_channels=2))\n",
    "t = train.Trainer(m, X, None, train.HParams(max_epochs=1))\n",
    "t.train()"
   ]
  },
  {
   "cell_type": "code",
   "execution_count": 9,
   "metadata": {},
   "outputs": [
    {
     "data": {
      "text/plain": [
       "tensor([127])"
      ]
     },
     "execution_count": 9,
     "metadata": {},
     "output_type": "execute_result"
    }
   ],
   "source": [
    "logits, _ = m.forward(X[:128])\n",
    "predictions = utils.logits_to_audio(logits, p)\n",
    "torch.unique(predictions)"
   ]
  }
 ],
 "metadata": {
  "kernelspec": {
   "display_name": ".venv",
   "language": "python",
   "name": ".venv"
  },
  "language_info": {
   "codemirror_mode": {
    "name": "ipython",
    "version": 3
   },
   "file_extension": ".py",
   "mimetype": "text/x-python",
   "name": "python",
   "nbconvert_exporter": "python",
   "pygments_lexer": "ipython3",
   "version": "3.7.2"
  }
 },
 "nbformat": 4,
 "nbformat_minor": 4
}
