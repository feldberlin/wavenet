{
 "cells": [
  {
   "cell_type": "code",
   "execution_count": 1,
   "metadata": {},
   "outputs": [
    {
     "name": "stdout",
     "output_type": "stream",
     "text": [
      "/Users/purzelrakete/src/github.com/feldberlin/wavenet\n"
     ]
    }
   ],
   "source": [
    "%load_ext autoreload\n",
    "%autoreload 2\n",
    "%matplotlib inline\n",
    "%cd .."
   ]
  },
  {
   "cell_type": "code",
   "execution_count": 53,
   "metadata": {},
   "outputs": [],
   "source": [
    "import os\n",
    "\n",
    "\n",
    "from celluloid import Camera\n",
    "import numpy as np\n",
    "import torch\n",
    "import librosa\n",
    "from torch.nn import functional as F\n",
    "import torch.cuda.amp as amp\n",
    "import matplotlib.pyplot as plt\n",
    "import librosa.display\n",
    "import IPython.display as ipd\n",
    "from IPython.core.display import HTML\n",
    "\n",
    "import wandb\n",
    "\n",
    "from wavenet import model, train, sample, audio, datasets, utils, viz"
   ]
  },
  {
   "cell_type": "markdown",
   "metadata": {},
   "source": [
    "# What do the conditional distributions look like\n",
    "\n",
    "Let's take a look at the tiny distributions."
   ]
  },
  {
   "cell_type": "code",
   "execution_count": 3,
   "metadata": {},
   "outputs": [],
   "source": [
    "n_samples, n_examples = 30, 5_000\n",
    "p = model.HParams(\n",
    "    mixed_precision=False,\n",
    "    n_audio_chans=1, \n",
    "    n_classes=2*n_samples, \n",
    "    n_chans=32,\n",
    "    dilation_stacks=1,\n",
    "    n_layers=6,\n",
    "    compress=False, \n",
    "    sample_length=n_samples,\n",
    "    seed=131,\n",
    "    verbose=False\n",
    ")\n",
    "\n",
    "ds = datasets.Tiny(n_samples, n_examples)\n",
    "\n",
    "m = model.Wavenet(p)\n",
    "tp =  train.HParams(\n",
    "    max_epochs=10, \n",
    "    batch_size=64, \n",
    "    num_workers=1, \n",
    "    learning_rate=0.01\n",
    ")\n",
    "\n",
    "os.environ['WANDB_MODE'] = 'disabled'\n",
    "t = train.Trainer(m, ds, None, tp)"
   ]
  },
  {
   "cell_type": "code",
   "execution_count": 4,
   "metadata": {},
   "outputs": [
    {
     "name": "stderr",
     "output_type": "stream",
     "text": [
      "1:78 loss 1.26652 lr 2.818469e-03: 100%|██████████| 79/79 [00:07<00:00, 10.72it/s]\n",
      "2:78 loss 1.04940 lr 7.636796e-03: 100%|██████████| 79/79 [00:08<00:00,  9.36it/s]\n",
      "3:78 loss 0.96120 lr 9.999919e-03: 100%|██████████| 79/79 [00:07<00:00, 11.25it/s]\n",
      "4:78 loss 0.77883 lr 9.492449e-03: 100%|██████████| 79/79 [00:06<00:00, 11.84it/s]\n",
      "5:78 loss 0.87411 lr 8.095199e-03: 100%|██████████| 79/79 [00:06<00:00, 11.80it/s]\n",
      "6:78 loss 0.60508 lr 6.084910e-03: 100%|██████████| 79/79 [00:07<00:00, 10.71it/s]\n",
      "7:78 loss 0.63082 lr 3.859745e-03: 100%|██████████| 79/79 [00:07<00:00, 10.12it/s]\n",
      "8:78 loss 0.51836 lr 1.860426e-03: 100%|██████████| 79/79 [00:07<00:00, 10.10it/s]\n",
      "9:78 loss 0.47549 lr 4.829420e-04: 100%|██████████| 79/79 [00:08<00:00,  9.42it/s]\n",
      "10:78 loss 0.40495 lr 1.206838e-07: 100%|██████████| 79/79 [00:08<00:00,  8.93it/s]\n"
     ]
    }
   ],
   "source": [
    "t.train()"
   ]
  },
  {
   "cell_type": "code",
   "execution_count": 57,
   "metadata": {},
   "outputs": [
    {
     "data": {
      "text/html": [
       "<video width=\"432\" height=\"288\" controls autoplay loop>\n",
       "  <source type=\"video/mp4\" src=\"data:video/mp4;base64,AAAAIGZ0eXBNNFYgAAACAE00ViBpc29taXNvMmF2YzEAAAAIZnJlZQAAG+dtZGF0AAACrQYF//+p\n",
       "3EXpvebZSLeWLNgg2SPu73gyNjQgLSBjb3JlIDE2MSByMzA0OSA1NWQ1MTdiIC0gSC4yNjQvTVBF\n",
       "Ry00IEFWQyBjb2RlYyAtIENvcHlsZWZ0IDIwMDMtMjAyMSAtIGh0dHA6Ly93d3cudmlkZW9sYW4u\n",
       "b3JnL3gyNjQuaHRtbCAtIG9wdGlvbnM6IGNhYmFjPTEgcmVmPTMgZGVibG9jaz0xOjA6MCBhbmFs\n",
       "eXNlPTB4MzoweDExMyBtZT1oZXggc3VibWU9NyBwc3k9MSBwc3lfcmQ9MS4wMDowLjAwIG1peGVk\n",
       "X3JlZj0xIG1lX3JhbmdlPTE2IGNocm9tYV9tZT0xIHRyZWxsaXM9MSA4eDhkY3Q9MSBjcW09MCBk\n",
       "ZWFkem9uZT0yMSwxMSBmYXN0X3Bza2lwPTEgY2hyb21hX3FwX29mZnNldD0tMiB0aHJlYWRzPTYg\n",
       "bG9va2FoZWFkX3RocmVhZHM9MSBzbGljZWRfdGhyZWFkcz0wIG5yPTAgZGVjaW1hdGU9MSBpbnRl\n",
       "cmxhY2VkPTAgYmx1cmF5X2NvbXBhdD0wIGNvbnN0cmFpbmVkX2ludHJhPTAgYmZyYW1lcz0zIGJf\n",
       "cHlyYW1pZD0yIGJfYWRhcHQ9MSBiX2JpYXM9MCBkaXJlY3Q9MSB3ZWlnaHRiPTEgb3Blbl9nb3A9\n",
       "MCB3ZWlnaHRwPTIga2V5aW50PTI1MCBrZXlpbnRfbWluPTUgc2NlbmVjdXQ9NDAgaW50cmFfcmVm\n",
       "cmVzaD0wIHJjX2xvb2thaGVhZD00MCByYz1jcmYgbWJ0cmVlPTEgY3JmPTIzLjAgcWNvbXA9MC42\n",
       "MCBxcG1pbj0wIHFwbWF4PTY5IHFwc3RlcD00IGlwX3JhdGlvPTEuNDAgYXE9MToxLjAwAIAAAAj7\n",
       "ZYiEABL//vet34FNwEDta7pXOLTLq5Q0PVH2lKZ4tkgAAAMAA44es10aknua0GgABdnL/xiB/cwB\n",
       "qtKollBn86s6QoybK8WPzJ7XISb4g/455TnP7e/6Of8d1+aGfAwVZ16xXMNCeUMZhroh8LDFtABf\n",
       "Rl2st9uSr+XealBwkF4i4g2DkHhIbPoBW8BmLZg+r5L4H/0RSjTu3PclGTZ3F+2vG1gVmVQ1Ew/U\n",
       "KAPEqwzopDvEyGvZqymXyprNNRcjh7QLNNZQNXDwOtM8ENgtcCYnpL/e/HPxgiWa5nQvDEC90nXj\n",
       "aG8cQxY9MukHcz8qAIREIQE2Bh7WT/w2aId68qtoy2T8L6MxBSkTxt4Udv/nlEWpYrnxlPkPXtiw\n",
       "6ru432rwdj37m9pbD2bTs58DeqNPrOipzbmoWi6AAAen7WX0X1Xw210HewzdOINcywRpy+Y88pp7\n",
       "9XdABNex99xQrth+KITCYW+tLrYE1bZDPWveKMU58SUI1rB0hV34916mLKYrA/oBgkfwrJaWqvKL\n",
       "to0Fh6PZa9YjVjvzo7cOMjG4UIYaY1SHO84BPVp4dgYNc2hn7UTavpLBjS2KqKrTiy5DtaezZzQ+\n",
       "ngwsYwG415wnKfXGlL8O++Wm6t8nrFSHj3Dwq7xzHmOOB/W4z5dzOcOMM3NTL4287MSGtXUNpgf9\n",
       "7B/+GjkFjEjIr565VrU5fbK0An3iJq9NYJLcW1/lj+VoUocEF6z7kHom+BFOaIltKcgejZO1eWj3\n",
       "K023t51BJNg7RQIeos/xuBYxqyNFnlXUT7vZvu6jjH02ANlMuTEwTj9OF1EudRrz35SECeZRQ+VV\n",
       "e5IOrifJYORBnNDJlxWk7hZ69RR2mYaT4k10cnkBYILti0MVQxKPcVGRCKt0+W1zlnFDLVDYXAdf\n",
       "VSlnZoYgitTLjsKj9zDx6CScnaBgszBzdUuec8m1Uzah1LeHzUU+m5ETVQ1d5FPG/zBcxtMpU6Wq\n",
       "nPZ3ctl1CrEeKyc3IuxGMA3cPcoylJQXdbOBuT1v5SOMxhKI1OBRTzqYqCRT3IX1ej3XFCtEBOLj\n",
       "5wsoNtZwDeD+nS/kiZ2Wzklhx7yM88+JKQTlrhJFrbMsOKMsEVlRGXOw1o6gy1NQPY72NaPOVjvO\n",
       "zRJwuYQe31aaPlk9VRlKOvF3fg3TLPhdp5iSK7xkjFFtHQ8OUfWD9muR6DTwgPvNxM25NQWj0ute\n",
       "ciqj2rrqLXV3IdT/MvI7zep6wpowCpJTTTsnoBl/5gOD0/Sv6VqWpzuJ6PAu1ASaZpnGV9hp/r/r\n",
       "ngdTRG2nnDkTiaRYPno4YkRi299dyM35a+0pKOBVAYA5GFqS8tydaNtHk8QEFVT2o8BraCeyxI1e\n",
       "868lqjrx/yjVzep/DXhFnibrhnryFxNKQiJ/UWXaSfQP7SZfDBnc2exwc7ffUSoKdIWmfLZUaaOl\n",
       "VFTZtzXAc9MMxVN+lYhOYyY237ln7kimklP/uHgcHkS7PcPcwZTQd/197mEfo4GQUvuolnMKW/Cr\n",
       "+SNlT5mqC8w22cPkw+x2eroEc6h3lRGFb8oNx6/A0Ykt+n5jfmYpJM6RMAaZ5D8ajqv+hi+Bd6fX\n",
       "6POFulpH5kbUab//PykZtDDR7DKJH2Jcqtlrz3/B3Q+/AnAqS/W/boxNw6GSV7WLfSU6nlJf9XIM\n",
       "ww8jVJ+6V6VO0xQTB+Q4x7SY8yqp55T6742cUbierFncRsxrz/3HL6jKE4y89YZZG3+hEAMupF6C\n",
       "bfF1Rhg5N8QgD3qTo//ZMG6cZ+Q1EQPx+c704mjSJjz2mSYwgxkgzIbC1bBsyc2Dko22ivo1OtCb\n",
       "h0jd66sCKSwVFRBvPm8ZVI+3jkqLvFI6rNLBDRn3SCSX+WRw1iYslO8/34MOjydRWz1gSCq4wBkD\n",
       "n4abWKGyj+MuDgQgiAZeRlPRsrRbktQykiJgo5vcd1cxbOcYnweQhNhGr3amVn678yKtumTLIISp\n",
       "rN0/ZbRFiNUVmK1x0gV6VkDfg43eyLPg/+DYRJOLhbtzE0YQDC20KJei6pv0BJfNBObmULfUFEwU\n",
       "BepyaI0J85ouhQvuwek7tHs413a85G7ojXR1EuZTRvL9hn0PpFiq9zNQAJWdZJRUscfYss1XDnlX\n",
       "wT3kemSQFAHNzxDGCcL+5sxNewEGs3GFojiiL5BDq30FmzdtOb7Eeb/96wK11KFyNNtrgf5mOjwO\n",
       "1uLv143SHltrIWwugWO3vssEkFHqb+ILBVikMN2TK1+sMp9/c9wXeOW0TAwFX0EOHVHJgj9NCiu0\n",
       "j28WydNE2eDNkLZNIVW7VhJa469MyXoYxW+V69m/SB8WEdBP0TA4KFSFnTVDLuEoLrRFjAhvJyo7\n",
       "q6C8eKLtbHM7dim7/sU+S4wTeHo29jpt7xt2kqS5I1+MoUaRP1O/S8NB49i7aovhnM/gjid2Qq/p\n",
       "uGPbcwFq1LINNLfL+Ih5KkkIXqU5EkqTz/l3lNng4haFLWsXE0AQoJPEsb5zNf8ThAKzkmSaIn6C\n",
       "bGr+V3BDDDInmVm2g2jV6cRpylKoMyc+sXoFVHoVs4WfWAx2QmU1zgc3w///SiU8bVgvBGGkk8/A\n",
       "cZdze6oYk+0XCfU8z4+e2RQyz9mgrH5C7dVCQSrfAArRv+5Dvf+82e9IXyh8n6OFGBtF4wAUVizc\n",
       "tv20KyspUzHQY7PLB3Ja8dX4+TkurJoegXBXcgC4me31K+y2diM+vlTIeL6G+fmSbtVXKVLxr9cU\n",
       "RHnzBpzvc9yKC3cwKKR5zyR4CHQNMKgoi4e6iaH1TR9821ugcs9kkbqsyFb5MUpw69D7Jo38jnnx\n",
       "VFwCBLXLHNQuwIno56ixy+4QOTHSarkKtj52+pygOAP2laLPuK0xcVIvBiKsVF2LfxuztgScDHe/\n",
       "6rM/8Vt/4c55pANVBw1b2unP4mEmS5PndBM02Aj/BqxSlgdEhk969XRjaaefvvQAg0gSJu/7iQ0N\n",
       "R4WrxrT9SgjXGYArf+aiBzSmDm9xX2AP1iPmBJakAMEkf5hyty0s7+WelyzigwSNvM3xPY8RpZWP\n",
       "Z+yeM4lqTX3pstUoAAAVmY2RpQAAAglBmiNsQS/+tSqAFu+dY5DNGeLhik6aoVOOQzPz9JvAF+cc\n",
       "ihm6qLf6MERCDektfX0gVeDXLGDAEUyQX5ekzR9RtKdGt+kIwPrOYVZ7nm75gYYbH/AJqJLxj3n1\n",
       "QNeT6mFSoWo4QZ26w8t5BBtzRJWXzHgCJJK7RE7OxtlREMEAQP60FpSs+Q2MC3KZnad55bHUQPp0\n",
       "OrOwZyWS7U/oNiEWxRdUcXdbt0futywlxHhDQqWy+BxLZSa8LHcVEXlfaxzOV2HseMactFXj2E3O\n",
       "Q6dlbR0GGJdXmCON4Hw8D5bdCS0bkcgne61X/WKVlWUsjc4g6JnVAB+b0jxxsU798DqovZ9l17vM\n",
       "klJszrbQ4hO4cXV67YC9vxxAFiG06IdFDZVOczwH9J0yYvJgp0oSPsf8+nHQUZEAoNFYI364WKtZ\n",
       "7KUi8Vk3ZfRLpoZdHZOOfWzoRveQ5KpGNj9NVw5eKNwS1kA8jp6YUHIGBYE3OLQwMwysAsMfo5bT\n",
       "gMORNFwFZJA6synfNNcbb7EQliZm4KzrjSEiKoawv+tYBmHbGo6XfiQk8kxB8ndObFuuIQyAe3fj\n",
       "YWSy13niP1RV1sDOBW2YiC3/Q2si9kP/hpgcU+Ozprk+BB+PhElFEzzma+4KU1pxsuWhbaPLNGjs\n",
       "tx5lzliK3jS5hhZTiohaQ+WHm8OQBK+Dc30672weUAAAAEFBnkF4gh8AG3yn0slEJyVfKG7iyId+\n",
       "KDGN+xWh//kp0MCC/LWcl/K5Ym1Ltmv+cRgDDCq9yBFPJq3I+Sd/Y9NZZQAAAIEBnmJqQ/8APHhC\n",
       "hAx/qJ0gh/xklJwTNOtRaGlQDngtyw72ACaXQL+MTjJe8Hn2BVESYF0ZetSKmCcDfpclKuRr2QZv\n",
       "t8kV/fCgHCDjGxEZusgN3yxDXN7jj7bxzTsXKfF0umPMwqSj+okmSHsaKihcWivxbwQEEA7E1SJA\n",
       "YzjwA04AAAC+QZpkSahBaJlMCCX//rUqgArvE/8SE15ABTB/+bYzW0R/nOExZgwYYbcWgj4/An/N\n",
       "8juVfkE6LUfPrnk/zN8crN6q+SX1k1XkHx9faBovEEA2HbQTWFteMXkpY/IhwRwtWOE3pvEdh9gt\n",
       "B4/L20CeGCIoMeu4PKVgUl66no36sxBXkk4e7GkFP2TNQlHVjJ/8Xytd8mOJCKLvmnrmojvQtkBY\n",
       "8fVI/NAufk5qsaxdWJCA7/HC/tKw8M6fO94xwQAAALZBmoVJ4QpSZTAgl//+tSqACu/RIq3t7jPS\n",
       "X6OYlhCqZZh4H3apAAXa3NsrlL+2b1Ulxwhhb2qL4haaCS64rn9DJTV+Qq3mVyhUyglQD6F/pkcH\n",
       "V2Uce51swoGogrJ8lWRuN3h9leVi8/CKMlTaBGehas9aBylxE7efbKclRmYC9sUscQK+iaQ9FJOB\n",
       "8L4p3ODYebUGbfX/4bqUlso5jOMnjx7XYD5TLcLd1eY/0oDNWM81yumRYQAAAJNBmqZJ4Q6JlMCC\n",
       "f/61KoAFdf04/qAAKlUsznEvTyquTSC5iq88K1C+gb7LcVm45gQUSQTMj2K1ktCKqn9vfG5JbxYR\n",
       "fFi0wuLwK7ofFkAFjCs0XhDAPdmAydiUW+vMGSo1iKOnPlEpF4Hjx+OuI8mO0akCuqc5D/xpb/pu\n",
       "C0CzlfyqAK2Y4m3K3lAoBzxbsrVftG0AAACJQZrISeEPJlMFETwT//61KoAFd+mgSj3jtlcJAv8X\n",
       "XVlr/K1h09/x/SvRh8p3etsInGa0fQKwgqlK6JPHgImGhsZH+C+scw+mCoQvAa3XgouwoeDPurnr\n",
       "/9SDWXd8hgVULMJMnqp/CRwJZpMM7E1w1IGlEEDGpCul5Dz08JdBDDJBAEyzMaPuE/EAAABiAZ7n\n",
       "akP/AA7WEVagUZH5AT+b4hpgA/Jpfs8pa9VvuiPr2v1ndq6uTMfu5349G9F8Fplcg2/afN8VgdnZ\n",
       "C1Fk38GeeZQL3drII8Poa6VslYwtEmtp8jMS61GtHtaTfTput9AAAABRQZrqSeEPJlMFPBP//rUq\n",
       "gAVMkEVLlZ13906aWgwM8KL2CxmJQLdwAFyyFmD4ekBx7kQMAfK3mmi1YUnqlma+y2cJqDaRLq3s\n",
       "R0vYQuqpWwagAAAAVgGfCWpD/wAOWuj9r/KHoPjdwvnQvjYT4IbmACFPVWCfD+1kC7CMrLzXVn0R\n",
       "9r7oRBbbhBXJtcxRfPkTHjEG89dbwaQtktk7zXMCCzyLPgBEeLfqGqXZAAAAd0GbDEnhDyZTBTwT\n",
       "//61KoAFS9c3B9NN5z8+O+BxNe8AGs49azTDmSzoZMZdF8UuF5/dqdfuhzwHYrhi9QfN6F2A7eAF\n",
       "M4eWS0s9yQqi5Kt7IeEdkAkYRCi+e30C+7MS0OwExCitmJtQJgXNDczKH2jgx5cKCFY4AAAAYQGf\n",
       "K2pD/wAOe1R0v2QRvC8+x9nf3oYB0sLE7ZR6NPHtGXwQjToAEQYfz9fMYEIoxDfTXlF/paevZjYF\n",
       "0TdJFMmRCIHsiSkmapKRj3TLElT/cMjpyleWjDIn77nKQ+jYdPAAAACgQZswSeEPJlMCCf/+tSqA\n",
       "BVPpgO9gg4YaHEqomABdMzL+/yjLafl4voJiRC5I7Nvw2wnVnbibfViUwCOv//itH0CD5wKPvWbM\n",
       "xj78OiHbPDGE2PsYPJV7bkV/QNv3is/GEBIrXXZZXy57X9Hm4mxag2YPQoefmzH9LciKwOX7Gilx\n",
       "JKrYRABmSAJ628rPxuByiY/+QVWaLuO0TDapISRAwQAAAHBBn05FETwQ/wAGlod2Ib2/8wAaOZmY\n",
       "X3s08a6pb/mjQ/Gcn/n//P5UehBr+2fTsFEUOFntxUZ7xmpH7ouIaUxd4msSaZem0s3xfCl1Zf+Q\n",
       "EnqUCW8kXB411Mc8e5y3M91yxry7iD1JNxloIhu6j6oTAAAAVQGfbXRD/wAOfXgmIGfAI7CADywp\n",
       "al64yitlajOiEOBufQvPnLYw5m7wH7jHMua/b06qBTM+d0FUtfEV8GJUpOFpsk8eD0xT21C92sQ1\n",
       "RgbopQjUWcEAAABLAZ9vakP/AA4C6P7k/wUA3gBuhjyKjU3KCgbwKRxOcvSuMnW81SNwBYCOQSVJ\n",
       "+kD/xr0YRipkUDebgUPd67MqcYs9LHA1icvGXKKAAAAAp0GbdEmoQWiZTAgn//61KoACl/Z1m+wg\n",
       "249iqKD2zmsN3T3T2aZKynR0ACJ287E2h/if6fTKCFaySZ1LObmoSq4nn3Y59gCFzMZOH8T6c3eq\n",
       "+qMghMhTHcVZnuWWNI4KOpyS/n4olozOhegLLlkXoRt71fxGPzxi8x220JjOscun32xZLtphs2dL\n",
       "ZW0HwgKOIduvttNrXWowdxpGhWWfEFiKVlYTHLJQAAAAbUGfkkURLBD/AAzDH/w9ULMALD8+BrBP\n",
       "vkTd5e+RFlDBC/12MNgExvJcP9zhxnsLXgv2HI/jvmLLUjHORAoHrUpfBK/px7rRS+X92gC3fSFh\n",
       "PC1gurk8gKaimftUXCBChw9Fc6AY5546BWRgFysAAAAyAZ+xdEP/ABxK+Oo/1s7dE7f64Nl+lsEf\n",
       "PwAAEFi5KucVGA6EjJgt42DwchkbuHeZzn4AAAA4AZ+zakP/ABxMJewpVc570DjGwmYvJcX4Knhr\n",
       "4+k3j3F6EcuADanvP+vmMCEVwvNzT2baa1EGT4AAAACFQZu2SahBbJlMFEwT//61KoAKUVbYADar\n",
       "XJ/+/gdCPeWjWsnstineoI1h1y/Y1xodKXi8VSnzGaL2BLGTexlu/RSkho7WNKnTpofkUZP0Bw9+\n",
       "op9vSQPwszNakKLbywtum1+epC/C2Tl9Nr7xw2h9zkma58K3o7pmupjMBKylEtrG18RtQQAAAHkB\n",
       "n9VqQ/8AHE7GRWyJUwHIMiAC5W//hAYEs3aiWk7lc2K15szX8GGteCvH8Rnwhhc7qnA9wR+MPv+6\n",
       "wX4ci4AislhWFn/Qzw8hoNOzWUqz4651pwfXpNLr8jQqeGLC+Ep4iYi6DKoR2fBsDbb4cJCo4LGj\n",
       "7oVdOv/eAAAA+kGb2knhClJlMCCP//61KoAKX9BilG9pASZKfE7lyt/DK/gx8jABOStXJIDKqtxX\n",
       "N1QZ3OCfSQF6AL6BBdWuLll0171PCzmxOeD4mFlt47Nzpso7aH3u4pDt6xSSzcA46XtD3Jc0Jciu\n",
       "+X49IP82cE+HTFMKoBaY7FPYo/oR1B2njz+Nd3MdqZEISBXjdfdAdd2FkFdPgIwzr4bmHh+3cu2T\n",
       "/zP95tbZyfGuTXdeicyXcjG5Oo6oZny9pC9KjXOIFPnf5k8t4+H6qjUVPGNCd2Vk6puV8n9rnMwH\n",
       "B3DEqhIcw7cVUJjLI0rA2cKDe0j4LHTjByrgaSlfp8EAAACAQZ/4RTRMEP8ADN0O7zvDr+cVS+Yo\n",
       "ImABtKPkqTsMX857WEZBxOIkDbFfyXlfpgSq9KPX7vvkvjR03a7VA/0dbGNby//Tx374jbIEQUq4\n",
       "M/9DSh2huYJY4f5pSuFq4gggTYq3OuNyYlJqCL/6n0yaUf7iPTTzP1xqgPafviLitwMAAABYAZ4X\n",
       "dEP/ABxK9mQAWtJ0DHBPFEQAnEOB/GIqjYvavT9hNnJ1KtwUQqkvybWGh9vPGLB+fzz//SCMN/Nf\n",
       "5y6OEk94d6BoHOnSwA9iXjLcJuwKQeJb00IVsAAAAHEBnhlqQ/8AG58eGVhz7T09IzACabVTHnZW\n",
       "Vxyb2DJbGQekGs4tYymEUWH5/H4YPy0hA6mc1Ge4d/43rebeo2fnuYHi7v+YgtzjD2VhdnbmT2du\n",
       "qH1IO2UZVoG60H7TzRO4TRsMIn4qggs4CDe3qOsIYQAAALFBmhtJqEFomUwII//+tSqAAoXEf9Ab\n",
       "iAAL2O3qrBcpPKfyS5M7bF53Eo9kUKKdhDc4iMGBhZyj/3xTlfIw4Gr0leUVpIHKPaPK2yFk0tdI\n",
       "P8sNUiPepCaJXPsotKYMK4wN6q4iB/0o6VNM45kfjpuQSqfkIjOC/G6t3UiZ0V5amE8xDHelkQ9q\n",
       "bun3Tl0/BhltSC5B6bqWAMqw3WC5WAXCCLvBTmr20pcLiWA44OTqmmAAAAC4QZo8SeEKUmUwIIf/\n",
       "/qpVAAUL4vatXWeje/bAvdms9d/BkEiAD86i0kyWge4I/GIFHJWU2oHOa3OvcrcsYdDqVd0zP7Fo\n",
       "1VzR8SfYcPxVJB+PRUDs8WTjIvmY/kiCMpWbHdXZozhVrOd6ePB6SWMnhiEeOGcnh6oLjD5VaQl5\n",
       "4hC+TRjsf7mHI3dyt1CldOIYz9YR/0I+MmVbU/DG+KWeL/VpJXkZEkMBkn8tlMhxPfUFoe8qzLss\n",
       "8QAAAKdBml1J4Q6JlMCH//6plgATnlf0uKXAgAnWqdopfsp88tvG5Yeb/JuZrCAx+0+f0FaLNKUP\n",
       "c0OnDV8UrUhqsEv0kcoEjH4adGAmW3MDdXABrDlmIsVOCfYaFAfg+9dGRIpvsjBUI2ogYX20bK7m\n",
       "gDOZ9790hXb8YQRFEl/srkooKSmqOMbbwhMoPsjtkGQU03NaajxvMi3f9f2Gb9xlczUxyg7FVUTg\n",
       "YQAABHJtb292AAAAbG12aGQAAAAAAAAAAAAAAAAAAAPoAAAXcAABAAABAAAAAAAAAAAAAAAAAQAA\n",
       "AAAAAAAAAAAAAAAAAAEAAAAAAAAAAAAAAAAAAEAAAAAAAAAAAAAAAAAAAAAAAAAAAAAAAAAAAAAA\n",
       "AAACAAADnHRyYWsAAABcdGtoZAAAAAMAAAAAAAAAAAAAAAEAAAAAAAAXcAAAAAAAAAAAAAAAAAAA\n",
       "AAAAAQAAAAAAAAAAAAAAAAAAAAEAAAAAAAAAAAAAAAAAAEAAAAABsAAAASAAAAAAACRlZHRzAAAA\n",
       "HGVsc3QAAAAAAAAAAQAAF3AAABAAAAEAAAAAAxRtZGlhAAAAIG1kaGQAAAAAAAAAAAAAAAAAACgA\n",
       "AADwAFXEAAAAAAAtaGRscgAAAAAAAAAAdmlkZQAAAAAAAAAAAAAAAFZpZGVvSGFuZGxlcgAAAAK/\n",
       "bWluZgAAABR2bWhkAAAAAQAAAAAAAAAAAAAAJGRpbmYAAAAcZHJlZgAAAAAAAAABAAAADHVybCAA\n",
       "AAABAAACf3N0YmwAAAC3c3RzZAAAAAAAAAABAAAAp2F2YzEAAAAAAAAAAQAAAAAAAAAAAAAAAAAA\n",
       "AAABsAEgAEgAAABIAAAAAAAAAAEAAAAAAAAAAAAAAAAAAAAAAAAAAAAAAAAAAAAAAAAAAAAY//8A\n",
       "AAA1YXZjQwFkABX/4QAYZ2QAFazZQbCWhAAAAwAEAAADACg8WLZYAQAGaOvjyyLA/fj4AAAAABx1\n",
       "dWlka2hA8l8kT8W6OaUbzwMj8wAAAAAAAAAYc3R0cwAAAAAAAAABAAAAHgAACAAAAAAUc3RzcwAA\n",
       "AAAAAAABAAAAAQAAANhjdHRzAAAAAAAAABkAAAABAAAQAAAAAAEAACAAAAAAAgAACAAAAAADAAAQ\n",
       "AAAAAAEAABgAAAAAAQAACAAAAAABAAAYAAAAAAEAAAgAAAAAAQAAGAAAAAABAAAIAAAAAAEAACgA\n",
       "AAAAAQAAEAAAAAABAAAAAAAAAAEAAAgAAAAAAQAAKAAAAAABAAAQAAAAAAEAAAAAAAAAAQAACAAA\n",
       "AAABAAAYAAAAAAEAAAgAAAAAAQAAKAAAAAABAAAQAAAAAAEAAAAAAAAAAQAACAAAAAADAAAQAAAA\n",
       "ABxzdHNjAAAAAAAAAAEAAAABAAAAHgAAAAEAAACMc3RzegAAAAAAAAAAAAAAHgAAC7AAAAINAAAA\n",
       "RQAAAIUAAADCAAAAugAAAJcAAACNAAAAZgAAAFUAAABaAAAAewAAAGUAAACkAAAAdAAAAFkAAABP\n",
       "AAAAqwAAAHEAAAA2AAAAPAAAAIkAAAB9AAAA/gAAAIQAAABcAAAAdQAAALUAAAC8AAAAqwAAABRz\n",
       "dGNvAAAAAAAAAAEAAAAwAAAAYnVkdGEAAABabWV0YQAAAAAAAAAhaGRscgAAAAAAAAAAbWRpcmFw\n",
       "cGwAAAAAAAAAAAAAAAAtaWxzdAAAACWpdG9vAAAAHWRhdGEAAAABAAAAAExhdmY1OC43Ni4xMDA=\n",
       "\">\n",
       "  Your browser does not support the video tag.\n",
       "</video>"
      ],
      "text/plain": [
       "<IPython.core.display.HTML object>"
      ]
     },
     "execution_count": 57,
     "metadata": {},
     "output_type": "execute_result"
    },
    {
     "data": {
      "image/png": "[encoded data removed]",
      "text/plain": [
       "<Figure size 432x288 with 1 Axes>"
      ]
     },
     "metadata": {
      "needs_background": "light"
     },
     "output_type": "display_data"
    }
   ],
   "source": [
    "y, logits, *_ = sample.fast(m, ds.transforms, utils.decode_random, n_samples=30, batch_size=10)\n",
    "posterior = F.softmax(logits, dim=1).cpu().numpy()\n",
    "\n",
    "fig = plt.figure()\n",
    "camera = Camera(fig)\n",
    "for i in range(n_samples):\n",
    "    plt.bar(list(range(n_samples * 2)), posterior[0, :, 0, i], color='green')\n",
    "    camera.snap()\n",
    "\n",
    "HTML(camera.animate().to_html5_video())"
   ]
  }
 ],
 "metadata": {
  "kernelspec": {
   "display_name": ".venv-wavenet",
   "language": "python",
   "name": ".venv-wavenet"
  },
  "language_info": {
   "codemirror_mode": {
    "name": "ipython",
    "version": 3
   },
   "file_extension": ".py",
   "mimetype": "text/x-python",
   "name": "python",
   "nbconvert_exporter": "python",
   "pygments_lexer": "ipython3",
   "version": "3.7.2"
  }
 },
 "nbformat": 4,
 "nbformat_minor": 4
}
