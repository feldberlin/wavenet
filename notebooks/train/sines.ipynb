{
 "cells": [
  {
   "cell_type": "code",
   "execution_count": null,
   "metadata": {},
   "outputs": [],
   "source": [
    "%load_ext autoreload\n",
    "%autoreload 2\n",
    "%matplotlib inline\n",
    "%cd ../.."
   ]
  },
  {
   "cell_type": "code",
   "execution_count": null,
   "metadata": {},
   "outputs": [],
   "source": [
    "import copy\n",
    "import os\n",
    "import pprint\n",
    "\n",
    "import numpy as np\n",
    "import torch\n",
    "import librosa\n",
    "from torch.nn import functional as F\n",
    "import matplotlib.pyplot as plt\n",
    "\n",
    "import librosa.display\n",
    "import IPython.display as ipd\n",
    "\n",
    "from wavenet import model, train, sample, audio, datasets, utils, viz, debug"
   ]
  },
  {
   "cell_type": "code",
   "execution_count": null,
   "metadata": {},
   "outputs": [],
   "source": [
    "pp = pprint.PrettyPrinter(indent=2)"
   ]
  },
  {
   "cell_type": "markdown",
   "metadata": {},
   "source": [
    "# Train on 440 hz Sines with random phases\n",
    "\n",
    "A very simple dataset, should be able to crush this. Sines all at 440 hz, unit amplitude, random phases. Some ways of reducing the size of the problems:\n",
    "\n",
    "- 4 cycles of sin should do, no need for a full second of audio. 160 samples\n",
    "- Mu compress to 7 bits\n",
    "- Fast generate only 160 samples\n",
    "- Mono\n",
    "\n",
    "We will try to train in around 10 minutes. "
   ]
  },
  {
   "cell_type": "code",
   "execution_count": null,
   "metadata": {
    "tags": [
     "parameters"
    ]
   },
   "outputs": [],
   "source": [
    "# this cell contains papermill tagged parameters\n",
    "# they can be overriden by the cli when training:  \n",
    "# papermill in.ipynb out.ipynb -p batch_norm True\n",
    "\n",
    "learning_rate = 0.015\n",
    "batch_size = 16\n",
    "max_epochs = 10"
   ]
  },
  {
   "cell_type": "code",
   "execution_count": null,
   "metadata": {},
   "outputs": [],
   "source": [
    "p_small = model.HParams(\n",
    "    mixed_precision=True,\n",
    "    embed_inputs=True,\n",
    "    n_audio_chans=1, \n",
    "    n_classes=2**7, \n",
    "    compress=False, \n",
    "    sample_length=160, \n",
    "    dilation_stacks=1,\n",
    "    n_layers=7,\n",
    "    sample_from_gpu=True,\n",
    "    seed=32455,\n",
    "    n_chans=32,\n",
    "    n_chans_embed=256,\n",
    "    n_chans_skip=256,\n",
    "    n_chans_res=32,\n",
    "    n_chans_end=64,\n",
    ")\n",
    "\n",
    "pp.pprint(dict(p_small))"
   ]
  },
  {
   "cell_type": "code",
   "execution_count": null,
   "metadata": {},
   "outputs": [],
   "source": [
    "tp = train.HParams(\n",
    "    max_epochs=max_epochs, \n",
    "    batch_size=batch_size, \n",
    "    num_workers=1, \n",
    "    learning_rate=learning_rate\n",
    ")\n",
    "\n",
    "pp.pprint(dict(tp))"
   ]
  },
  {
   "cell_type": "code",
   "execution_count": null,
   "metadata": {},
   "outputs": [],
   "source": [
    "utils.seed(p_small)\n",
    "ds = datasets.Sines(640, p_small, hz=440, amp=1.0)\n",
    "viz.plot_audio_dataset(ds, p_small)"
   ]
  },
  {
   "cell_type": "code",
   "execution_count": null,
   "metadata": {},
   "outputs": [],
   "source": [
    "utils.seed(p_small)\n",
    "m = model.Wavenet(p_small)\n",
    "debug.summarize(m)"
   ]
  },
  {
   "cell_type": "code",
   "execution_count": null,
   "metadata": {},
   "outputs": [],
   "source": [
    "t = train.Trainer(m, ds, None, tp, None)\n",
    "t.metrics"
   ]
  },
  {
   "cell_type": "code",
   "execution_count": null,
   "metadata": {},
   "outputs": [],
   "source": [
    "utils.seed(p_small)\n",
    "t.train()"
   ]
  },
  {
   "cell_type": "code",
   "execution_count": null,
   "metadata": {
    "scrolled": false
   },
   "outputs": [],
   "source": [
    "for sampler in [sample.fast, sample.simple]:\n",
    "    utils.seed(p_small)\n",
    "    viz.plot_model_samples(m, ds.transforms, sampler, p_small)"
   ]
  },
  {
   "cell_type": "code",
   "execution_count": null,
   "metadata": {},
   "outputs": [],
   "source": [
    "t.metrics.finish()"
   ]
  },
  {
   "cell_type": "markdown",
   "metadata": {},
   "source": [
    "# Train on random Sinusoids\n",
    "\n",
    "Harder."
   ]
  },
  {
   "cell_type": "code",
   "execution_count": null,
   "metadata": {},
   "outputs": [],
   "source": [
    "p_moderate = copy.copy(p_small)\n",
    "p_moderate.n_layers = 8\n",
    "p_moderate.n_chans_skip = 512\n",
    "p_moderate.__dict__"
   ]
  },
  {
   "cell_type": "code",
   "execution_count": null,
   "metadata": {},
   "outputs": [],
   "source": [
    "utils.seed(p_moderate)\n",
    "ds = datasets.Sines(6400, p_moderate, amp=1.0, minhz=20, maxhz=400)\n",
    "viz.plot_audio_dataset(ds, p_moderate)"
   ]
  },
  {
   "cell_type": "code",
   "execution_count": null,
   "metadata": {},
   "outputs": [],
   "source": [
    "tp = train.HParams(\n",
    "    max_epochs=50, \n",
    "    batch_size=128, \n",
    "    num_workers=1, \n",
    "    learning_rate=0.03\n",
    ")\n",
    "\n",
    "pp.pprint(dict(tp))"
   ]
  },
  {
   "cell_type": "code",
   "execution_count": null,
   "metadata": {},
   "outputs": [],
   "source": [
    "m = model.Wavenet(p_moderate)\n",
    "debug.summarize(m)"
   ]
  },
  {
   "cell_type": "code",
   "execution_count": null,
   "metadata": {},
   "outputs": [],
   "source": [
    "t = train.Trainer(m, ds, None, tp, None)\n",
    "t.metrics"
   ]
  },
  {
   "cell_type": "code",
   "execution_count": null,
   "metadata": {},
   "outputs": [],
   "source": [
    "utils.seed(p_moderate)\n",
    "t.train()"
   ]
  },
  {
   "cell_type": "code",
   "execution_count": null,
   "metadata": {},
   "outputs": [],
   "source": [
    "for sampler in [sample.fast, sample.simple]:\n",
    "    utils.seed(p_moderate)\n",
    "    viz.plot_model_samples(m, ds.transforms, sampler, p_moderate)"
   ]
  },
  {
   "cell_type": "code",
   "execution_count": null,
   "metadata": {},
   "outputs": [],
   "source": [
    "t.metrics.finish()"
   ]
  },
  {
   "cell_type": "markdown",
   "metadata": {},
   "source": [
    "## 🚨 Observations and Questions\n",
    "\n",
    "- This seems to need much longer to converge. Using 2x epochs\n",
    "- Using 2x params\n",
    "- Why do we need to up the model and training so much? It is a harder problem, but surely not that much harder?\n",
    "- The problem seems to come up with low frequency sinusoids"
   ]
  },
  {
   "cell_type": "markdown",
   "metadata": {},
   "source": [
    "# Train on 20 hz Sines\n",
    "\n",
    "Here's a bit of a puzzle. Given the same resources as training on 440 hz sines with random phases, training on 20 hz sines performs much worse:"
   ]
  },
  {
   "cell_type": "code",
   "execution_count": null,
   "metadata": {},
   "outputs": [],
   "source": [
    "utils.seed(p_small)\n",
    "ds = datasets.Sines(640, p_small, hz=20, amp=1.0)\n",
    "viz.plot_audio_dataset(ds, p_small)"
   ]
  },
  {
   "cell_type": "code",
   "execution_count": null,
   "metadata": {},
   "outputs": [],
   "source": [
    "tp = train.HParams(\n",
    "    max_epochs=10, \n",
    "    batch_size=16, \n",
    "    num_workers=1, \n",
    "    learning_rate=0.015\n",
    ")\n",
    "\n",
    "pp.pprint(dict(tp))"
   ]
  },
  {
   "cell_type": "code",
   "execution_count": null,
   "metadata": {},
   "outputs": [],
   "source": [
    "m = model.Wavenet(p_small)\n",
    "debug.summarize(m)"
   ]
  },
  {
   "cell_type": "code",
   "execution_count": null,
   "metadata": {},
   "outputs": [],
   "source": [
    "t = train.Trainer(m, ds, None, tp, None)\n",
    "t.metrics"
   ]
  },
  {
   "cell_type": "code",
   "execution_count": null,
   "metadata": {},
   "outputs": [],
   "source": [
    "utils.seed(p_small)\n",
    "t.train()"
   ]
  },
  {
   "cell_type": "code",
   "execution_count": null,
   "metadata": {
    "scrolled": false
   },
   "outputs": [],
   "source": [
    "for sampler in [sample.fast, sample.simple]:\n",
    "    utils.seed(p_small)\n",
    "    viz.plot_model_samples(m, ds.transforms, sampler, p_small)"
   ]
  },
  {
   "cell_type": "code",
   "execution_count": null,
   "metadata": {},
   "outputs": [],
   "source": [
    "t.metrics.finish()"
   ]
  },
  {
   "cell_type": "markdown",
   "metadata": {},
   "source": [
    "## 🚨 Observations and Questions\n",
    "\n",
    "- Why is this doing so much worse, given the only difference is 20 hz vz 440 hz?"
   ]
  }
 ],
 "metadata": {
  "@webio": {
   "lastCommId": null,
   "lastKernelId": null
  },
  "kernelspec": {
   "display_name": ".venv-wavenet",
   "language": "python",
   "name": ".venv-wavenet"
  },
  "language_info": {
   "codemirror_mode": {
    "name": "ipython",
    "version": 3
   },
   "file_extension": ".py",
   "mimetype": "text/x-python",
   "name": "python",
   "nbconvert_exporter": "python",
   "pygments_lexer": "ipython3",
   "version": "3.7.2"
  }
 },
 "nbformat": 4,
 "nbformat_minor": 4
}
