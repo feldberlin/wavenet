{
 "cells": [
  {
   "cell_type": "markdown",
   "metadata": {
    "tags": [
     "papermill-error-cell-tag"
    ]
   },
   "source": [
    "<span style=\"color:red; font-family:Helvetica Neue, Helvetica, Arial, sans-serif; font-size:2em;\">An Exception was encountered at '<a href=\"#papermill-error-cell\">In [13]</a>'.</span>"
   ]
  },
  {
   "cell_type": "code",
   "execution_count": 1,
   "metadata": {
    "execution": {
     "iopub.execute_input": "2021-08-28T09:47:24.363629Z",
     "iopub.status.busy": "2021-08-28T09:47:24.363054Z",
     "iopub.status.idle": "2021-08-28T09:47:24.591153Z",
     "shell.execute_reply": "2021-08-28T09:47:24.591502Z"
    },
    "papermill": {
     "duration": 0.253102,
     "end_time": "2021-08-28T09:47:24.591712",
     "exception": false,
     "start_time": "2021-08-28T09:47:24.338610",
     "status": "completed"
    },
    "tags": []
   },
   "outputs": [
    {
     "name": "stdout",
     "output_type": "stream",
     "text": [
      "/home/purzelrakete/src/github.com/feldberlin\n"
     ]
    }
   ],
   "source": [
    "%matplotlib inline\n",
    "%cd .."
   ]
  },
  {
   "cell_type": "code",
   "execution_count": 2,
   "metadata": {
    "execution": {
     "iopub.execute_input": "2021-08-28T09:47:24.616100Z",
     "iopub.status.busy": "2021-08-28T09:47:24.615696Z",
     "iopub.status.idle": "2021-08-28T09:47:25.839193Z",
     "shell.execute_reply": "2021-08-28T09:47:25.838551Z"
    },
    "papermill": {
     "duration": 1.236493,
     "end_time": "2021-08-28T09:47:25.839350",
     "exception": false,
     "start_time": "2021-08-28T09:47:24.602857",
     "status": "completed"
    },
    "tags": []
   },
   "outputs": [],
   "source": [
    "from pathlib import Path\n",
    "import os\n",
    "import pprint\n",
    "\n",
    "import numpy as np\n",
    "import torch\n",
    "import librosa\n",
    "from torch.nn import functional as F\n",
    "import matplotlib.pyplot as plt\n",
    "import IPython.display as ipd\n",
    "\n",
    "from wavenet import model, train, sample, audio, datasets, utils, viz, debug"
   ]
  },
  {
   "cell_type": "code",
   "execution_count": 3,
   "metadata": {
    "execution": {
     "iopub.execute_input": "2021-08-28T09:47:25.871219Z",
     "iopub.status.busy": "2021-08-28T09:47:25.870812Z",
     "iopub.status.idle": "2021-08-28T09:47:25.873747Z",
     "shell.execute_reply": "2021-08-28T09:47:25.873073Z"
    },
    "papermill": {
     "duration": 0.021524,
     "end_time": "2021-08-28T09:47:25.873884",
     "exception": false,
     "start_time": "2021-08-28T09:47:25.852360",
     "status": "completed"
    },
    "tags": []
   },
   "outputs": [],
   "source": [
    "pp = pprint.PrettyPrinter(indent=2)"
   ]
  },
  {
   "cell_type": "markdown",
   "metadata": {
    "papermill": {
     "duration": 0.008656,
     "end_time": "2021-08-28T09:47:25.896061",
     "exception": false,
     "start_time": "2021-08-28T09:47:25.887405",
     "status": "completed"
    },
    "tags": []
   },
   "source": [
    "# Train on Maestro"
   ]
  },
  {
   "cell_type": "code",
   "execution_count": 4,
   "metadata": {
    "execution": {
     "iopub.execute_input": "2021-08-28T09:47:25.917362Z",
     "iopub.status.busy": "2021-08-28T09:47:25.916964Z",
     "iopub.status.idle": "2021-08-28T09:47:25.919290Z",
     "shell.execute_reply": "2021-08-28T09:47:25.919623Z"
    },
    "papermill": {
     "duration": 0.014752,
     "end_time": "2021-08-28T09:47:25.919732",
     "exception": false,
     "start_time": "2021-08-28T09:47:25.904980",
     "status": "completed"
    },
    "tags": [
     "parameters"
    ]
   },
   "outputs": [],
   "source": [
    "# this cell contains papermill tagged parameters\n",
    "# they can be overriden by the cli when training:  \n",
    "# papermill in.ipynb out.ipynb -p batch_norm True\n",
    "\n",
    "batch_norm = False\n",
    "learning_rate = 0.0044\n",
    "batch_size = 12\n",
    "max_epochs = 2"
   ]
  },
  {
   "cell_type": "code",
   "execution_count": 5,
   "metadata": {
    "execution": {
     "iopub.execute_input": "2021-08-28T09:47:25.943467Z",
     "iopub.status.busy": "2021-08-28T09:47:25.943054Z",
     "iopub.status.idle": "2021-08-28T09:47:25.945172Z",
     "shell.execute_reply": "2021-08-28T09:47:25.945597Z"
    },
    "papermill": {
     "duration": 0.015334,
     "end_time": "2021-08-28T09:47:25.945722",
     "exception": false,
     "start_time": "2021-08-28T09:47:25.930388",
     "status": "completed"
    },
    "tags": [
     "injected-parameters"
    ]
   },
   "outputs": [],
   "source": [
    "# Parameters\n",
    "batch_size = 15\n",
    "batch_norm = True\n"
   ]
  },
  {
   "cell_type": "code",
   "execution_count": 6,
   "metadata": {
    "execution": {
     "iopub.execute_input": "2021-08-28T09:47:25.970301Z",
     "iopub.status.busy": "2021-08-28T09:47:25.969915Z",
     "iopub.status.idle": "2021-08-28T09:47:25.972428Z",
     "shell.execute_reply": "2021-08-28T09:47:25.972037Z"
    },
    "papermill": {
     "duration": 0.014547,
     "end_time": "2021-08-28T09:47:25.972517",
     "exception": false,
     "start_time": "2021-08-28T09:47:25.957970",
     "status": "completed"
    },
    "tags": []
   },
   "outputs": [],
   "source": [
    "# automatically scale up the learning rate when using batch norm\n",
    "if batch_norm:\n",
    "    learning_rate *= 5"
   ]
  },
  {
   "cell_type": "code",
   "execution_count": 7,
   "metadata": {
    "execution": {
     "iopub.execute_input": "2021-08-28T09:47:25.998231Z",
     "iopub.status.busy": "2021-08-28T09:47:25.997832Z",
     "iopub.status.idle": "2021-08-28T09:47:26.005854Z",
     "shell.execute_reply": "2021-08-28T09:47:26.005241Z"
    },
    "papermill": {
     "duration": 0.022431,
     "end_time": "2021-08-28T09:47:26.006003",
     "exception": false,
     "start_time": "2021-08-28T09:47:25.983572",
     "status": "completed"
    },
    "tags": []
   },
   "outputs": [
    {
     "name": "stdout",
     "output_type": "stream",
     "text": [
      "{ 'batch_norm': True,\n",
      "  'compress': True,\n",
      "  'dilation_stacks': 3,\n",
      "  'embed_inputs': True,\n",
      "  'kernel_size': 2,\n",
      "  'mixed_precision': True,\n",
      "  'n_audio_chans': 1,\n",
      "  'n_chans': 128,\n",
      "  'n_chans_embed': 256,\n",
      "  'n_chans_end': 256,\n",
      "  'n_chans_res': 96,\n",
      "  'n_chans_skip': 256,\n",
      "  'n_classes': 256,\n",
      "  'n_layers': 11,\n",
      "  'resample': True,\n",
      "  'resampling_method': 'soxr_hq',\n",
      "  'sample_from_gpu': True,\n",
      "  'sample_length': 16000,\n",
      "  'sampling_rate': 16000,\n",
      "  'seed': 5763,\n",
      "  'squash_to_mono': True,\n",
      "  'use_deterministic_algorithms': False}\n"
     ]
    }
   ],
   "source": [
    "p = model.HParams(\n",
    "    embed_inputs=True, \n",
    "    n_audio_chans=1, \n",
    "    squash_to_mono=True,\n",
    "    batch_norm=batch_norm\n",
    ")\n",
    "\n",
    "pp.pprint(dict(p))"
   ]
  },
  {
   "cell_type": "code",
   "execution_count": 8,
   "metadata": {
    "execution": {
     "iopub.execute_input": "2021-08-28T09:47:26.033723Z",
     "iopub.status.busy": "2021-08-28T09:47:26.033340Z",
     "iopub.status.idle": "2021-08-28T09:47:26.036299Z",
     "shell.execute_reply": "2021-08-28T09:47:26.036669Z"
    },
    "papermill": {
     "duration": 0.016572,
     "end_time": "2021-08-28T09:47:26.036798",
     "exception": false,
     "start_time": "2021-08-28T09:47:26.020226",
     "status": "completed"
    },
    "tags": []
   },
   "outputs": [
    {
     "name": "stdout",
     "output_type": "stream",
     "text": [
      "{'project_name': 'feldberlin-wavenet', 'max_epochs': 2, 'batch_size': 15, 'learning_rate': 0.022000000000000002, 'onecycle': True, 'betas': (0.9, 0.95), 'grad_norm_clip': None, 'callback_fq': 8, 'num_workers': 8, 'finder': False}\n"
     ]
    }
   ],
   "source": [
    "tp = train.HParams(\n",
    "    max_epochs=max_epochs, \n",
    "    batch_size=batch_size, \n",
    "    num_workers=8, \n",
    "    learning_rate=learning_rate\n",
    ")\n",
    "\n",
    "print(dict(tp))"
   ]
  },
  {
   "cell_type": "code",
   "execution_count": 9,
   "metadata": {
    "execution": {
     "iopub.execute_input": "2021-08-28T09:47:26.063168Z",
     "iopub.status.busy": "2021-08-28T09:47:26.062555Z",
     "iopub.status.idle": "2021-08-28T09:47:26.143511Z",
     "shell.execute_reply": "2021-08-28T09:47:26.142885Z"
    },
    "papermill": {
     "duration": 0.094388,
     "end_time": "2021-08-28T09:47:26.143652",
     "exception": false,
     "start_time": "2021-08-28T09:47:26.049264",
     "status": "completed"
    },
    "tags": []
   },
   "outputs": [],
   "source": [
    "utils.seed(p)\n",
    "nas_path = Path('/srv/datasets/maestro/maestro-v2.0.0')\n",
    "ssd_path = Path('/srv/datasets-ssd/maestro/maestro-v2.0.0')\n",
    "ds_train, ds_test = datasets.maestro(nas_path, 2017, p, ssd_path)"
   ]
  },
  {
   "cell_type": "code",
   "execution_count": 10,
   "metadata": {
    "execution": {
     "iopub.execute_input": "2021-08-28T09:47:26.170624Z",
     "iopub.status.busy": "2021-08-28T09:47:26.170222Z",
     "iopub.status.idle": "2021-08-28T09:47:26.226856Z",
     "shell.execute_reply": "2021-08-28T09:47:26.226108Z"
    },
    "papermill": {
     "duration": 0.069866,
     "end_time": "2021-08-28T09:47:26.227001",
     "exception": false,
     "start_time": "2021-08-28T09:47:26.157135",
     "status": "completed"
    },
    "scrolled": false,
    "tags": []
   },
   "outputs": [
    {
     "name": "stdout",
     "output_type": "stream",
     "text": [
      "+-------------------------------+------------+\n",
      "|            Modules            | Parameters |\n",
      "+-------------------------------+------------+\n",
      "|          embed.weight         |   65536    |\n",
      "|         shifted.weight        |   65536    |\n",
      "|      shifted.norm.weight      |    128     |\n",
      "|       shifted.norm.bias       |    128     |\n",
      "|      layers.0.conv.weight     |   49152    |\n",
      "|   layers.0.conv.norm.weight   |    192     |\n",
      "|    layers.0.conv.norm.bias    |    192     |\n",
      "|     layers.0.res1x1.weight    |   12288    |\n",
      "|  layers.0.res1x1.norm.weight  |    128     |\n",
      "|   layers.0.res1x1.norm.bias   |    128     |\n",
      "|    layers.0.skip1x1.weight    |   24576    |\n",
      "|  layers.0.skip1x1.norm.weight |    256     |\n",
      "|   layers.0.skip1x1.norm.bias  |    256     |\n",
      "|      layers.1.conv.weight     |   49152    |\n",
      "|   layers.1.conv.norm.weight   |    192     |\n",
      "|    layers.1.conv.norm.bias    |    192     |\n",
      "|     layers.1.res1x1.weight    |   12288    |\n",
      "|  layers.1.res1x1.norm.weight  |    128     |\n",
      "|   layers.1.res1x1.norm.bias   |    128     |\n",
      "|    layers.1.skip1x1.weight    |   24576    |\n",
      "|  layers.1.skip1x1.norm.weight |    256     |\n",
      "|   layers.1.skip1x1.norm.bias  |    256     |\n",
      "|      layers.2.conv.weight     |   49152    |\n",
      "|   layers.2.conv.norm.weight   |    192     |\n",
      "|    layers.2.conv.norm.bias    |    192     |\n",
      "|     layers.2.res1x1.weight    |   12288    |\n",
      "|  layers.2.res1x1.norm.weight  |    128     |\n",
      "|   layers.2.res1x1.norm.bias   |    128     |\n",
      "|    layers.2.skip1x1.weight    |   24576    |\n",
      "|  layers.2.skip1x1.norm.weight |    256     |\n",
      "|   layers.2.skip1x1.norm.bias  |    256     |\n",
      "|      layers.3.conv.weight     |   49152    |\n",
      "|   layers.3.conv.norm.weight   |    192     |\n",
      "|    layers.3.conv.norm.bias    |    192     |\n",
      "|     layers.3.res1x1.weight    |   12288    |\n",
      "|  layers.3.res1x1.norm.weight  |    128     |\n",
      "|   layers.3.res1x1.norm.bias   |    128     |\n",
      "|    layers.3.skip1x1.weight    |   24576    |\n",
      "|  layers.3.skip1x1.norm.weight |    256     |\n",
      "|   layers.3.skip1x1.norm.bias  |    256     |\n",
      "|      layers.4.conv.weight     |   49152    |\n",
      "|   layers.4.conv.norm.weight   |    192     |\n",
      "|    layers.4.conv.norm.bias    |    192     |\n",
      "|     layers.4.res1x1.weight    |   12288    |\n",
      "|  layers.4.res1x1.norm.weight  |    128     |\n",
      "|   layers.4.res1x1.norm.bias   |    128     |\n",
      "|    layers.4.skip1x1.weight    |   24576    |\n",
      "|  layers.4.skip1x1.norm.weight |    256     |\n",
      "|   layers.4.skip1x1.norm.bias  |    256     |\n",
      "|      layers.5.conv.weight     |   49152    |\n",
      "|   layers.5.conv.norm.weight   |    192     |\n",
      "|    layers.5.conv.norm.bias    |    192     |\n",
      "|     layers.5.res1x1.weight    |   12288    |\n",
      "|  layers.5.res1x1.norm.weight  |    128     |\n",
      "|   layers.5.res1x1.norm.bias   |    128     |\n",
      "|    layers.5.skip1x1.weight    |   24576    |\n",
      "|  layers.5.skip1x1.norm.weight |    256     |\n",
      "|   layers.5.skip1x1.norm.bias  |    256     |\n",
      "|      layers.6.conv.weight     |   49152    |\n",
      "|   layers.6.conv.norm.weight   |    192     |\n",
      "|    layers.6.conv.norm.bias    |    192     |\n",
      "|     layers.6.res1x1.weight    |   12288    |\n",
      "|  layers.6.res1x1.norm.weight  |    128     |\n",
      "|   layers.6.res1x1.norm.bias   |    128     |\n",
      "|    layers.6.skip1x1.weight    |   24576    |\n",
      "|  layers.6.skip1x1.norm.weight |    256     |\n",
      "|   layers.6.skip1x1.norm.bias  |    256     |\n",
      "|      layers.7.conv.weight     |   49152    |\n",
      "|   layers.7.conv.norm.weight   |    192     |\n",
      "|    layers.7.conv.norm.bias    |    192     |\n",
      "|     layers.7.res1x1.weight    |   12288    |\n",
      "|  layers.7.res1x1.norm.weight  |    128     |\n",
      "|   layers.7.res1x1.norm.bias   |    128     |\n",
      "|    layers.7.skip1x1.weight    |   24576    |\n",
      "|  layers.7.skip1x1.norm.weight |    256     |\n",
      "|   layers.7.skip1x1.norm.bias  |    256     |\n",
      "|      layers.8.conv.weight     |   49152    |\n",
      "|   layers.8.conv.norm.weight   |    192     |\n",
      "|    layers.8.conv.norm.bias    |    192     |\n",
      "|     layers.8.res1x1.weight    |   12288    |\n",
      "|  layers.8.res1x1.norm.weight  |    128     |\n",
      "|   layers.8.res1x1.norm.bias   |    128     |\n",
      "|    layers.8.skip1x1.weight    |   24576    |\n",
      "|  layers.8.skip1x1.norm.weight |    256     |\n",
      "|   layers.8.skip1x1.norm.bias  |    256     |\n",
      "|      layers.9.conv.weight     |   49152    |\n",
      "|   layers.9.conv.norm.weight   |    192     |\n",
      "|    layers.9.conv.norm.bias    |    192     |\n",
      "|     layers.9.res1x1.weight    |   12288    |\n",
      "|  layers.9.res1x1.norm.weight  |    128     |\n",
      "|   layers.9.res1x1.norm.bias   |    128     |\n",
      "|    layers.9.skip1x1.weight    |   24576    |\n",
      "|  layers.9.skip1x1.norm.weight |    256     |\n",
      "|   layers.9.skip1x1.norm.bias  |    256     |\n",
      "|     layers.10.conv.weight     |   49152    |\n",
      "|   layers.10.conv.norm.weight  |    192     |\n",
      "|    layers.10.conv.norm.bias   |    192     |\n",
      "|    layers.10.res1x1.weight    |   12288    |\n",
      "|  layers.10.res1x1.norm.weight |    128     |\n",
      "|   layers.10.res1x1.norm.bias  |    128     |\n",
      "|    layers.10.skip1x1.weight   |   24576    |\n",
      "| layers.10.skip1x1.norm.weight |    256     |\n",
      "|  layers.10.skip1x1.norm.bias  |    256     |\n",
      "|     layers.11.conv.weight     |   49152    |\n",
      "|   layers.11.conv.norm.weight  |    192     |\n",
      "|    layers.11.conv.norm.bias   |    192     |\n",
      "|    layers.11.res1x1.weight    |   12288    |\n",
      "|  layers.11.res1x1.norm.weight |    128     |\n",
      "|   layers.11.res1x1.norm.bias  |    128     |\n",
      "|    layers.11.skip1x1.weight   |   24576    |\n",
      "| layers.11.skip1x1.norm.weight |    256     |\n",
      "|  layers.11.skip1x1.norm.bias  |    256     |\n",
      "|     layers.12.conv.weight     |   49152    |\n",
      "|   layers.12.conv.norm.weight  |    192     |\n",
      "|    layers.12.conv.norm.bias   |    192     |\n",
      "|    layers.12.res1x1.weight    |   12288    |\n",
      "|  layers.12.res1x1.norm.weight |    128     |\n",
      "|   layers.12.res1x1.norm.bias  |    128     |\n",
      "|    layers.12.skip1x1.weight   |   24576    |\n",
      "| layers.12.skip1x1.norm.weight |    256     |\n",
      "|  layers.12.skip1x1.norm.bias  |    256     |\n",
      "|     layers.13.conv.weight     |   49152    |\n",
      "|   layers.13.conv.norm.weight  |    192     |\n",
      "|    layers.13.conv.norm.bias   |    192     |\n",
      "|    layers.13.res1x1.weight    |   12288    |\n",
      "|  layers.13.res1x1.norm.weight |    128     |\n",
      "|   layers.13.res1x1.norm.bias  |    128     |\n",
      "|    layers.13.skip1x1.weight   |   24576    |\n",
      "| layers.13.skip1x1.norm.weight |    256     |\n",
      "|  layers.13.skip1x1.norm.bias  |    256     |\n",
      "|     layers.14.conv.weight     |   49152    |\n",
      "|   layers.14.conv.norm.weight  |    192     |\n",
      "|    layers.14.conv.norm.bias   |    192     |\n",
      "|    layers.14.res1x1.weight    |   12288    |\n",
      "|  layers.14.res1x1.norm.weight |    128     |\n",
      "|   layers.14.res1x1.norm.bias  |    128     |\n",
      "|    layers.14.skip1x1.weight   |   24576    |\n",
      "| layers.14.skip1x1.norm.weight |    256     |\n",
      "|  layers.14.skip1x1.norm.bias  |    256     |\n",
      "|     layers.15.conv.weight     |   49152    |\n",
      "|   layers.15.conv.norm.weight  |    192     |\n",
      "|    layers.15.conv.norm.bias   |    192     |\n",
      "|    layers.15.res1x1.weight    |   12288    |\n",
      "|  layers.15.res1x1.norm.weight |    128     |\n",
      "|   layers.15.res1x1.norm.bias  |    128     |\n",
      "|    layers.15.skip1x1.weight   |   24576    |\n",
      "| layers.15.skip1x1.norm.weight |    256     |\n",
      "|  layers.15.skip1x1.norm.bias  |    256     |\n",
      "|     layers.16.conv.weight     |   49152    |\n",
      "|   layers.16.conv.norm.weight  |    192     |\n",
      "|    layers.16.conv.norm.bias   |    192     |\n",
      "|    layers.16.res1x1.weight    |   12288    |\n",
      "|  layers.16.res1x1.norm.weight |    128     |\n",
      "|   layers.16.res1x1.norm.bias  |    128     |\n",
      "|    layers.16.skip1x1.weight   |   24576    |\n",
      "| layers.16.skip1x1.norm.weight |    256     |\n",
      "|  layers.16.skip1x1.norm.bias  |    256     |\n",
      "|     layers.17.conv.weight     |   49152    |\n",
      "|   layers.17.conv.norm.weight  |    192     |\n",
      "|    layers.17.conv.norm.bias   |    192     |\n",
      "|    layers.17.res1x1.weight    |   12288    |\n",
      "|  layers.17.res1x1.norm.weight |    128     |\n",
      "|   layers.17.res1x1.norm.bias  |    128     |\n",
      "|    layers.17.skip1x1.weight   |   24576    |\n",
      "| layers.17.skip1x1.norm.weight |    256     |\n",
      "|  layers.17.skip1x1.norm.bias  |    256     |\n",
      "|     layers.18.conv.weight     |   49152    |\n",
      "|   layers.18.conv.norm.weight  |    192     |\n",
      "|    layers.18.conv.norm.bias   |    192     |\n",
      "|    layers.18.res1x1.weight    |   12288    |\n",
      "|  layers.18.res1x1.norm.weight |    128     |\n",
      "|   layers.18.res1x1.norm.bias  |    128     |\n",
      "|    layers.18.skip1x1.weight   |   24576    |\n",
      "| layers.18.skip1x1.norm.weight |    256     |\n",
      "|  layers.18.skip1x1.norm.bias  |    256     |\n",
      "|     layers.19.conv.weight     |   49152    |\n",
      "|   layers.19.conv.norm.weight  |    192     |\n",
      "|    layers.19.conv.norm.bias   |    192     |\n",
      "|    layers.19.res1x1.weight    |   12288    |\n",
      "|  layers.19.res1x1.norm.weight |    128     |\n",
      "|   layers.19.res1x1.norm.bias  |    128     |\n",
      "|    layers.19.skip1x1.weight   |   24576    |\n",
      "| layers.19.skip1x1.norm.weight |    256     |\n",
      "|  layers.19.skip1x1.norm.bias  |    256     |\n",
      "|     layers.20.conv.weight     |   49152    |\n",
      "|   layers.20.conv.norm.weight  |    192     |\n",
      "|    layers.20.conv.norm.bias   |    192     |\n",
      "|    layers.20.res1x1.weight    |   12288    |\n",
      "|  layers.20.res1x1.norm.weight |    128     |\n",
      "|   layers.20.res1x1.norm.bias  |    128     |\n",
      "|    layers.20.skip1x1.weight   |   24576    |\n",
      "| layers.20.skip1x1.norm.weight |    256     |\n",
      "|  layers.20.skip1x1.norm.bias  |    256     |\n",
      "|     layers.21.conv.weight     |   49152    |\n",
      "|   layers.21.conv.norm.weight  |    192     |\n",
      "|    layers.21.conv.norm.bias   |    192     |\n",
      "|    layers.21.res1x1.weight    |   12288    |\n",
      "|  layers.21.res1x1.norm.weight |    128     |\n",
      "|   layers.21.res1x1.norm.bias  |    128     |\n",
      "|    layers.21.skip1x1.weight   |   24576    |\n",
      "| layers.21.skip1x1.norm.weight |    256     |\n",
      "|  layers.21.skip1x1.norm.bias  |    256     |\n",
      "|     layers.22.conv.weight     |   49152    |\n",
      "|   layers.22.conv.norm.weight  |    192     |\n",
      "|    layers.22.conv.norm.bias   |    192     |\n",
      "|    layers.22.res1x1.weight    |   12288    |\n",
      "|  layers.22.res1x1.norm.weight |    128     |\n",
      "|   layers.22.res1x1.norm.bias  |    128     |\n",
      "|    layers.22.skip1x1.weight   |   24576    |\n",
      "| layers.22.skip1x1.norm.weight |    256     |\n",
      "|  layers.22.skip1x1.norm.bias  |    256     |\n",
      "|     layers.23.conv.weight     |   49152    |\n",
      "|   layers.23.conv.norm.weight  |    192     |\n",
      "|    layers.23.conv.norm.bias   |    192     |\n",
      "|    layers.23.res1x1.weight    |   12288    |\n",
      "|  layers.23.res1x1.norm.weight |    128     |\n",
      "|   layers.23.res1x1.norm.bias  |    128     |\n",
      "|    layers.23.skip1x1.weight   |   24576    |\n",
      "| layers.23.skip1x1.norm.weight |    256     |\n",
      "|  layers.23.skip1x1.norm.bias  |    256     |\n",
      "|     layers.24.conv.weight     |   49152    |\n",
      "|   layers.24.conv.norm.weight  |    192     |\n",
      "|    layers.24.conv.norm.bias   |    192     |\n",
      "|    layers.24.res1x1.weight    |   12288    |\n",
      "|  layers.24.res1x1.norm.weight |    128     |\n",
      "|   layers.24.res1x1.norm.bias  |    128     |\n",
      "|    layers.24.skip1x1.weight   |   24576    |\n",
      "| layers.24.skip1x1.norm.weight |    256     |\n",
      "|  layers.24.skip1x1.norm.bias  |    256     |\n",
      "|     layers.25.conv.weight     |   49152    |\n",
      "|   layers.25.conv.norm.weight  |    192     |\n",
      "|    layers.25.conv.norm.bias   |    192     |\n",
      "|    layers.25.res1x1.weight    |   12288    |\n",
      "|  layers.25.res1x1.norm.weight |    128     |\n",
      "|   layers.25.res1x1.norm.bias  |    128     |\n",
      "|    layers.25.skip1x1.weight   |   24576    |\n",
      "| layers.25.skip1x1.norm.weight |    256     |\n",
      "|  layers.25.skip1x1.norm.bias  |    256     |\n",
      "|     layers.26.conv.weight     |   49152    |\n",
      "|   layers.26.conv.norm.weight  |    192     |\n",
      "|    layers.26.conv.norm.bias   |    192     |\n",
      "|    layers.26.res1x1.weight    |   12288    |\n",
      "|  layers.26.res1x1.norm.weight |    128     |\n",
      "|   layers.26.res1x1.norm.bias  |    128     |\n",
      "|    layers.26.skip1x1.weight   |   24576    |\n",
      "| layers.26.skip1x1.norm.weight |    256     |\n",
      "|  layers.26.skip1x1.norm.bias  |    256     |\n",
      "|     layers.27.conv.weight     |   49152    |\n",
      "|   layers.27.conv.norm.weight  |    192     |\n",
      "|    layers.27.conv.norm.bias   |    192     |\n",
      "|    layers.27.res1x1.weight    |   12288    |\n",
      "|  layers.27.res1x1.norm.weight |    128     |\n",
      "|   layers.27.res1x1.norm.bias  |    128     |\n",
      "|    layers.27.skip1x1.weight   |   24576    |\n",
      "| layers.27.skip1x1.norm.weight |    256     |\n",
      "|  layers.27.skip1x1.norm.bias  |    256     |\n",
      "|     layers.28.conv.weight     |   49152    |\n",
      "|   layers.28.conv.norm.weight  |    192     |\n",
      "|    layers.28.conv.norm.bias   |    192     |\n",
      "|    layers.28.res1x1.weight    |   12288    |\n",
      "|  layers.28.res1x1.norm.weight |    128     |\n",
      "|   layers.28.res1x1.norm.bias  |    128     |\n",
      "|    layers.28.skip1x1.weight   |   24576    |\n",
      "| layers.28.skip1x1.norm.weight |    256     |\n",
      "|  layers.28.skip1x1.norm.bias  |    256     |\n",
      "|     layers.29.conv.weight     |   49152    |\n",
      "|   layers.29.conv.norm.weight  |    192     |\n",
      "|    layers.29.conv.norm.bias   |    192     |\n",
      "|    layers.29.res1x1.weight    |   12288    |\n",
      "|  layers.29.res1x1.norm.weight |    128     |\n",
      "|   layers.29.res1x1.norm.bias  |    128     |\n",
      "|    layers.29.skip1x1.weight   |   24576    |\n",
      "| layers.29.skip1x1.norm.weight |    256     |\n",
      "|  layers.29.skip1x1.norm.bias  |    256     |\n",
      "|     layers.30.conv.weight     |   49152    |\n",
      "|   layers.30.conv.norm.weight  |    192     |\n",
      "|    layers.30.conv.norm.bias   |    192     |\n",
      "|    layers.30.res1x1.weight    |   12288    |\n",
      "|  layers.30.res1x1.norm.weight |    128     |\n",
      "|   layers.30.res1x1.norm.bias  |    128     |\n",
      "|    layers.30.skip1x1.weight   |   24576    |\n",
      "| layers.30.skip1x1.norm.weight |    256     |\n",
      "|  layers.30.skip1x1.norm.bias  |    256     |\n",
      "|     layers.31.conv.weight     |   49152    |\n",
      "|   layers.31.conv.norm.weight  |    192     |\n",
      "|    layers.31.conv.norm.bias   |    192     |\n",
      "|    layers.31.res1x1.weight    |   12288    |\n",
      "|  layers.31.res1x1.norm.weight |    128     |\n",
      "|   layers.31.res1x1.norm.bias  |    128     |\n",
      "|    layers.31.skip1x1.weight   |   24576    |\n",
      "| layers.31.skip1x1.norm.weight |    256     |\n",
      "|  layers.31.skip1x1.norm.bias  |    256     |\n",
      "|     layers.32.conv.weight     |   49152    |\n",
      "|   layers.32.conv.norm.weight  |    192     |\n",
      "|    layers.32.conv.norm.bias   |    192     |\n",
      "|    layers.32.res1x1.weight    |   12288    |\n",
      "|  layers.32.res1x1.norm.weight |    128     |\n",
      "|   layers.32.res1x1.norm.bias  |    128     |\n",
      "|    layers.32.skip1x1.weight   |   24576    |\n",
      "| layers.32.skip1x1.norm.weight |    256     |\n",
      "|  layers.32.skip1x1.norm.bias  |    256     |\n",
      "|          a1x1.weight          |   65536    |\n",
      "|        a1x1.norm.weight       |    256     |\n",
      "|         a1x1.norm.bias        |    256     |\n",
      "|          b1x1.weight          |   65536    |\n",
      "|        b1x1.norm.weight       |    256     |\n",
      "|         b1x1.norm.bias        |    256     |\n",
      "+-------------------------------+------------+\n",
      "receptive field size: 6144\n",
      "model total params: 3139968\n"
     ]
    }
   ],
   "source": [
    "utils.seed(p)\n",
    "m = model.Wavenet(p)\n",
    "debug.summarize(m)"
   ]
  },
  {
   "cell_type": "code",
   "execution_count": 11,
   "metadata": {
    "execution": {
     "iopub.execute_input": "2021-08-28T09:47:27.399777Z",
     "iopub.status.busy": "2021-08-28T09:47:27.399069Z",
     "iopub.status.idle": "2021-08-28T09:47:30.775351Z",
     "shell.execute_reply": "2021-08-28T09:47:30.775889Z"
    },
    "papermill": {
     "duration": 4.534852,
     "end_time": "2021-08-28T09:47:30.776073",
     "exception": false,
     "start_time": "2021-08-28T09:47:26.241221",
     "status": "completed"
    },
    "tags": []
   },
   "outputs": [
    {
     "name": "stderr",
     "output_type": "stream",
     "text": [
      "Failed to detect the name of this notebook, you can set it manually with the WANDB_NOTEBOOK_NAME environment variable to enable code saving.\n",
      "\u001b[34m\u001b[1mwandb\u001b[0m: Currently logged in as: \u001b[33mpurzelrakete\u001b[0m (use `wandb login --relogin` to force relogin)\n",
      "\u001b[34m\u001b[1mwandb\u001b[0m: wandb version 0.12.1 is available!  To upgrade, please run:\n",
      "\u001b[34m\u001b[1mwandb\u001b[0m:  $ pip install wandb --upgrade\n"
     ]
    },
    {
     "data": {
      "text/html": [
       "\n",
       "                Tracking run with wandb version 0.10.32<br/>\n",
       "                Syncing run <strong style=\"color:#cdcd00\">winter-valley-131</strong> to <a href=\"https://wandb.ai\" target=\"_blank\">Weights & Biases</a> <a href=\"https://docs.wandb.com/integrations/jupyter.html\" target=\"_blank\">(Documentation)</a>.<br/>\n",
       "                Project page: <a href=\"https://wandb.ai/purzelrakete/feldberlin-wavenet\" target=\"_blank\">https://wandb.ai/purzelrakete/feldberlin-wavenet</a><br/>\n",
       "                Run page: <a href=\"https://wandb.ai/purzelrakete/feldberlin-wavenet/runs/3ke35z1j\" target=\"_blank\">https://wandb.ai/purzelrakete/feldberlin-wavenet/runs/3ke35z1j</a><br/>\n",
       "                Run data is saved locally in <code>/home/purzelrakete/src/github.com/feldberlin/wandb/run-20210828_114729-3ke35z1j</code><br/><br/>\n",
       "            "
      ],
      "text/plain": [
       "<IPython.core.display.HTML object>"
      ]
     },
     "metadata": {},
     "output_type": "display_data"
    },
    {
     "data": {
      "text/html": [
       "<h1>Run(3ke35z1j)</h1><iframe src=\"https://wandb.ai/purzelrakete/feldberlin-wavenet/runs/3ke35z1j\" style=\"border:none;width:100%;height:400px\"></iframe>"
      ],
      "text/plain": [
       "<wandb.sdk.wandb_run.Run at 0x7fb73aaa53d0>"
      ]
     },
     "execution_count": 11,
     "metadata": {},
     "output_type": "execute_result"
    }
   ],
   "source": [
    "t = train.Trainer(m, ds_train, ds_test, tp, None)\n",
    "t.metrics"
   ]
  },
  {
   "cell_type": "code",
   "execution_count": 12,
   "metadata": {
    "execution": {
     "iopub.execute_input": "2021-08-28T09:47:30.812223Z",
     "iopub.status.busy": "2021-08-28T09:47:30.811820Z",
     "iopub.status.idle": "2021-08-28T09:47:31.019081Z",
     "shell.execute_reply": "2021-08-28T09:47:31.018716Z"
    },
    "papermill": {
     "duration": 0.227236,
     "end_time": "2021-08-28T09:47:31.019186",
     "exception": false,
     "start_time": "2021-08-28T09:47:30.791950",
     "status": "completed"
    },
    "tags": []
   },
   "outputs": [
    {
     "data": {
      "text/html": [
       "\n",
       "                <audio  controls=\"controls\" >\n",
       "                    <source src=\"data:audio/wav;base64,UklGRiR9AABXQVZFZm10IBAAAAABAAEAgD4AAAB9AAACABAAZGF0YQB9AAAq+icGng+bFmAciyOmKKYofSCbFu4MOAmvCTQLrQo4CTgJ7gwlEaAUmxbqGWAcDh+LI4sjfSBgHGAcYBzDGI8NPf/J8T3n8uAF3tTaWtda11rX1Nry4D3n2+4u+Z0COAnuDJ4PJRGeDzcOJRGYFakXoBSeD3sGD/gW5n/V6sr/xV/DosBfw+rKWtdl6XL4wwNUDLITHht9IIsjLCWmKN8miyPqGTcO2/5i8D3n8uDU2n/VidGJ0X/V1Nry4GXpP/T/ATcOwxiLI3Esdy6UMMgyFjUBOqE8Xj87QqE8lDB9IOYO2/7b7gXeOM2iwMi6yLqiwILIOM2P03XcFuYx7XHyU/XI9i759f7xByURoBRdEFoIs/93+qb3UfYu+Sb/jAN7BisKNw6yE+oZfSCLI6YogSqBKt8m+yGwHWAcwxieD3sB2+513InR6spfw8i6Z7QAsam3/8XU2tvuewElEQ4fpihxLHculDDIMn43oTw4RVdIV0heP5QwfSDuDMD6aOoF3n/VbM9sz4nRWtd13FDiZelg6wvuzPQF/JkAnQI3BC4HrwlaCHMC0vhO7AXebM//xV/D/8XqyonR1Nry4Ffoo++F+XsGmBV9IN8mpiiBKnEslDDIMn43ATp+N5QwLCXqGeYONwTS+GDrg99a11rXg99l6WLwYvBO7D3n4uSg46DjPefJ8aj8ewaPDSURzxKeD1oICwEF/MD6Rv51BMEL9RGgFJgVoBSgFLITqRceG2AcHhseGx4b6hmbFp4P0gY9/AvuBd5sz1/DosBfw//FOM1/1YPfV+hx8gX80gayE/shcSx3LqYoDh/DGB4b+yGmKCwlYBz1EfsDrPOg43/V6sqCyOrKbM9/1YPfYOsH+9IGjw1dEJ4PzxJgHN8mdy53LnEsLCUeG48NRv6j7+Lkddwh2SHZIdl13FDiFuY95z3nZekL7jn3ugE3DqkX6hmpF6kX6hkOH30gHhuYFfURNw57Bnf6TuxQ4gXeddx13HXcBd7y4GXpEvMF/LP/Z/9NAJoBof89/D38CwHxBysKWAMP+AvuZelo6gvuEvMq+okFzxIOHywl3ybfJiwlLCXfJt8miyOLI6YolDB3Lt8mqRfSBnL4Tuzy4CHZidHqyv/FX8Nfw1/DgsiJ0QXeMe2j/l0QYBx9IPsh+yH7IYsjLCWLI4sjDh/1EdwByfEW5oPfddwh2SHZddwW5hLzLABaCDcOshOpF+oZmBU3Dq8JNAvmDvURng+vCQsBP/Sg44nR/8X/xerKf9V13FDiZekx7dvuyfGm90oCjw2bFg4f3yaBKncuyDIWNRY1lDCmKPshYBybFp4P0gYF/HHyMe0x7Qvuo+9x8sz0yPZT9cnx2+5l6VDiBd4F3vLg4uQ95xbmUOIF3lrXf9Uh2aDjGvGuAF0QDh+BKpQwFjV+NwE6fjcWNRY1fjd+N8gycSyLI+oZ7gzA+uLkidFfw6m3ALFntKLAbM913PLgoONg69L4xwipF4sjcSx3LpQwyDIWNcgydy5xLN8m6hmOB1H2ZelQ4iHZbM/qyoLIgshszyHZFuYL7sj2DgAnBtIG8QePDbITqRceG+oZ9RFABTn3aOqD31rXidGP0yHZ8uA952jqC+6s8zn3cvio/MgCOAnPEmAcfSD7IYsj+yF9IH0g+yEOH6kXjw3WBcgCCwG2/Xf6cvjM9AvuFuZQ4j3nYvAq+gAAfP89/HT8LAD7A0AFNwSdAroBhADJ+6zzMe0x7cj2ewHSBloIxwhUDLITmxayEyURng+eDyURzxKgFMMYYBzqGfURtgRy+AvuoOPU2lrXf9WP04/Tf9V13FDioOMW5hrx8gBUDLITHhsOH30gfSAOH7AdsB0OH7AdqRfmDjcELvkL7lfoV+hg6wvuGvFT9QAAVAyyE5gV6hkOH7AdqRfmDscIQAUuB60KLgeL+wvuoOMF3iHZWtd/1Y/TWtfU2nXcddx13PLgMe3A+vYC0gbuDKkXfSD7IbAdmxaeDzQLJwaP/8D6wPpm/oQA3AEmA7YELgdUDM8SwxgeG+oZmxabFpsWJRH5BHL4cfIL7mXpUOJa1+rKX8PFvcW9osCCyH/VFubS+DgJoBRgHH0gLCWBKnculDB3LsgyoTw4RVdIV0iZSzhFfjeLI1oIMe0h2WzPOM2CyF/DosBfw+rKj9PU2hbmU/X5BPUR6hmbFo8N8Qc3DqAUshOPDYkFZv4596PvPedQ4gXeddyD31DiFuZo6gvuUfbDAPEHNw7PEpgVwxgOH4sjiyOLI4sjDh/1EboBcfI95/LgBd6D34Pf8uA952DrMe1O7GjqaOpi8Nr8jgclEcMYsB19IPshsB2yEysKiQWJBS4HKwruDJ4P9RGYFZgV7gxzAsn7D/hT9T/0cfJx8nHy2+5l6RbmUOKD3/Lg4uRQ4iHZidFsz3/V1NoW5tX18QfqGaYoFjUBOgE6fjcWNZQwpih9IGAcYBywHWAc6hn1EZ0CcfI954PfIdmP04/TWtcF3qDjFubi5BbmTuzV9UEBwQuyEx4b+yEsJX0gYBzqGZsW9RE0C4kF8v/a/Kj8BfwP+BLzYvDJ8dX10vh3+tv+KwrDGCwl3yYOHyUR9gLZ+VP12+4W5gXeWtdsz4LIxb2pt8i6gsgh2T3n2+4S88j2PfyMA1QMshMeG4sjcSyUMBY1FjWUMKYoYBw0C4X5YvBO7GXpV+ho6gvuEvMq+owDwQueD/URoBTqGX0g3yamKIsjYBybFl0QJwZT9eLkddwh2Y/TgsiiwMi6qbfIuv/Fj9MF3jHtPf/mDsMYfSAsJYEqcSyBKqYopih3LsgyAToBOncuYBxaCMz0UOKP0+rK6so4zWzPidGP04/T1Npo6kr7OAmyE6kXHhsOH/sh+yGwHZsWng+PDVQM8QeMA/YC3AEk/g/4yfFO7Bbm4uRX6AvuzPR0/PYCxwjmDpgVwxgeGw4fiyMsJfshwxieD8cIrgDM9Gjq4uQW5j3nZell6T3n4uQ952DrMe1g62DrC+5x8sj2Lvly+FH2P/Sj72DrFuag41focvieD4sjdy7IMhY1yDKBKvshHhuyE48Nrwl7Bl0BD/gL7j3noONQ4oPfIdmP04nRidGP03/V1NoW5nL4rwmpFywllDB+N6E8Xj9ePwE6FjV3LqYo+yHqGV0QLgd7AUr7o+9Q4iHZf9Va1wXeUOLi5D3nC+7M9C75PfwOAEAFNAvmDp4P7gw4CScGZ/8599vuPeeD33Xc1Np13KDjYOtx8sD6JAL7AyYDiQWPDcMYiyN3LgE6oTwBOsgypiiwHSURSgJx8uLkIdmCyMi6ALEAsam3osDqyonRddxo6jn3j/9ABTcOqRd9IIEqfjehPF4/oTwBOpQwiyPPEnMCOffb7lfoFuY952XpTuxi8Mz0KvqEACsKoBTqGR4bsB2wHR4bmBU3DvkELvlg69TabM+CyF/Dxb3Iusi6yLqiwILIj9OD307sB/vBCx4bpijIMn43fjd+NxY1FjV+N6E8Xj9ePxY1LCWbFloIdPys8wvuZemg43Xcj9PqyurKbM8F3mjq1fUOAI4HwQvmDl0Q5g5UDK0KrwmvCa0Kjw03DuYO5g7uDCsKtgQ4/cz0o+8L7jHtTuwL7mLwYvAa8azzD/jZ+Xf6i/s4/Tj9d/pR9j/0U/XV9T/0Ufbc/dYFVAwlEV0Qrwm2BMMDWANn/8D60vhy+NL40vjV9dvuPedQ4gXe1Np13BbmzPQ4CWAcpih3LsgyyDKUMHcudy5xLN8mfSCpFysKZv7I9mLwZelQ4tTaf9WP04/Tj9OP04/Tj9Mh2eLkyPavCeoZ3yaUMAE6oTyhPMgypij7IR4bJRH5BC75Me2g43XcWteJ0YnRf9Xy4Avu0vjc/dwB0gavCVQM5g6eD10QoBQeG2AcwxjPEuYONAv2Ajn3aOqD39Ta1NqD32XpEvN3+tv+hABj/Q/4cvi6ASURiyOUMH43ATp+N8gycSyLI8MYJRGJBcz0UOKP0//Fxb3Iusi6X8M4zX/VBd5o6sz02fnZ+Xf62/4nBo8N9RHPEl0QJRFdEK0KmgE596PvC+5i8MnxcfI59+P/8QetCq8JxwitCvURHht9IPshLCWmKKYoiyPDGPEH1fVo6qDj1NqP0zjNOM04zWzPbM84zTjNj9N13E7scQCyE4sjlDB+N343yDJxLIEqgSqBKoEq3yaLI/shsB2bFp4Pjw2PDfEHtv1x8mjqUOJa12zPbM9a1wXeUOJl6THt2+7b7k7sFuZQ4qDjaOpi8Dn3CwGeD7Ad3ybfJosjDh/DGLIT9RHPEiUR5g7uDDQLjAPS+MnxGvGj71fo8uDU2nXcFubb7tvuMe3J8Ur7/wEmA/YCLgf1EX0ggSpxLIEqiyMeG88SwQudAnL4GvFg6+Lk1Npsz4LI/8XqyonR1Npo6gr9rwldELITqRd9IIEqyDJ+N8gycSwOHyURtgTI9hbmf9WCyP/F6sqP01rXf9WJ0VrXoOMx7cnxD/h7BmAclDBePzhFOEVXSFdIXj9xLJsW/wES82Xpg9+P0+rKOM2J0X/Vf9Va13XcZenV9XEANAvDGCwldy6UMMgyfjehPKE8ATqUMKYoDh9dENwBP/QW5tTaj9Nsz3/Vg9/i5IPfWteJ0YnRddwx7Sb/5g4eGywlcSyBKvshqRfuDDcEPf/S+GLwMe0x7VfoBd6P0zjNidGD307s1fW2/Y4HJRGYFbITXRA3DjcOng9UDIkFPAAK/cD6D/gS82jq4uQW5qPvzPQa8THtcfLcAc8SDh/fJnEsyDIBOjtCV0g4RQE6gSqwHZ4PJgOm92jqddyP04nRbM/qyl/DosDIume0Z7TIujjN4uTc/fURDh8sJYsjDh+pF+YOLgcnBlQMoBQeGw4fDh8OHw4ffSD7IWAcqReYFZgVXRCMA6zzaOpl6U7s2+5O7KDjddzU2nXcBd7U2lrXWtd13D3n2+4L7k7srPPaACsKng+pF/shcSzIMsgylDCUMMgylDDfJqkXKwrDA9z9pves83HycfLM9Kb3KvrJ+w/4cfJi8BLz1fV3+kEB0gY4CccIQAXJ+2DrIdnqyv/FgsjqyoLIX8OiwF/DX8P/xTjNddw/9OYOLCUWNThFI1puaz5wPnDSZiNamUt+Nw4fWgga8VrXosAAsQCxALEAsQCxALEAsQCxqbf/xSHZC+51BOoZdy44RSNa0mbSZmliI1pDVplLoTymKJgVewGj7xbmUOJ13I/TbM+P03XcoONX6DHtP/RK+/kEng+YFaAUVAyaAcj2GvFx8nL4qPyo/A/4YvCg41rXj9Mh2fLgaOo/9Hf6BfwF/GP9JwaYFYsjpigsJQ4fHhseG5gV8QfA+lP1U/VT9XHyC+5X6IPff9WJ0VrXg9895xrxLvlxACsKoBTqGR4bYBywHbAdDh/7IX0g6hklEa0K8Qf7Az38rPNO7D3nUOLy4FfoEvMq+gr9yAJUDJgVsB2wHZgVKwokAov7zPTb7mXp4uTy4AXeddzU2iHZIdkF3hbmTuxO7GXpZenJ8dz9rwmbFosjgSpxLIsjmBWvCXUE8gAq+sj2dPwuBzcO5g5UDO4MoBR9IKYocSyUMMgylDBxLCwlsB2pF/UR7gxaCMgCOP0q+qb3rPNO7OLk8uAF3tTaWtch2fLgV+ga8dX1Offa/CcGng+YFZgVXRBABdX14uTU2lrXf9WP03/Vddzi5GDrcfIK/ccIng+YFcMYqRebFuoZHhupF5sWYBx9IOoZrwlR9uLkWtdsz+rKOM1szzjNX8PIusi6yLpfw2zPBd4/9F0Qdy5XSENW0mY+cIR6/3//f0R10mZDVjtC3ybHCKPvg99/1erKxb1ntACxALFntACxALFntMW9OM2D3xrx/wElEWAcsB1gHB4b6hmYFbITshM3DnUECv3S+FP1YvBo6j3nZelx8qH/Kwo3DuYO9RHDGH0gfSBgHJsW7gwO/6zzGvE/9IX5dPwH+3HyoON/1WzPidHU2lfo1fUkAsELzxLqGfsh3yZxLMgyfjd+N8gygSp9IOoZwxiYFZ4PjgdKAh0AJP5y+Nvu4uR13FrXidE4zWzPddxX6NvuGvFo6vLgIdla19TaUOJl6WDraOpl6WjqYOvb7hLzU/XI9iT+xwglEeoZLCV3LsgyFjUWNcgycSx9IKAUKwqdAtr8pvdx8mDrUOJa12zPgshfw//FOM3U2mjqzPQ591H2D/j/ASUR+yHIMl4/O0JeP343lDCLI5gVjw2tCisKxwh7BvkELgetCisKWggrCrITDh8sJX0gmBWeD/EHcvhQ4mzP/8Vfw1/D/8WCyOrKj9N13FDig9/U2oPfMe2o/CsKmBWwHfshiyPfJnEsdy5xLKYofSBdEJkAzPRo6oPfWteP04nRidGJ0X/Vg98x7Ub+5g5gHN8mcSxxLIEqcSwWNTtCAE9XSH43iyPPEtIGtv3I9k7sddyJ0TjN6sr/xcW9Z7RntMi6/8WP06DjBfzDGMgyoTx+N3cugSp3LpQwgSoOH5gV7gzyAGLwddxsz+rKbM9szzjNOM2J0VrX1NoF3lDiYOsH+ysKshOYFZgV6hkOH/sh+yGwHcMYoBQ3DicGAf5R9qPvaOpX6DHtD/h7AYkFxwj1EX0gcSwWNQE6oTwBOpQw+yHPEjgJrwk3DiURng8rCiUBU/VX6HXcWteP0yHZUOIx7Rrx2+5X6Bbm4uRQ4gXeIdl/1SHZg9/i5BbmaOrJ8cn7yAKJBY4H5g7qGX0g+yFgHPURwQsrCjQLrQp7BjwAKvpx8lfo8uAF3gXe8uDi5OLk8uB13HXcg99Q4mDrcvj7A1QMmxYsJRY1OEWNUiNaaWIvXgBPXj8WNXcu3yZgHDcO9gJ0/Hf6UfZl6VrXOM2CyP/F/8WCyDjNj9Na11rXWtd/1VrXddzi5AvuUfaL+2b+2/6o/NL4zPQa8aPvU/Um/ycGOAmeD8MYLCWUMAE6O0I4RVdIOEV+NywlJRG2/QvuUOJa12zP6so4zTjNOM3qyurKbM/U2hbmEvOZAFQMmBUOH4Eqfjc7QldIV0iZS1dIO0IWNYsjoBQrCtwBpvdO7KDjBd7U2o/TOM2J0VDiOff5BHsG8gA9/AH+jAMnBsgCB/us807sFuby4HXcIdla14/TbM84zTjNOM1sz4nRj9OP01rX8uDJ8dYFqRemKBY1ATqhPF4/Xj9eP14/Xj+hPMgyDh/xB1P1YOug43XcIdkh2dTa1Np13OLkC+7S+PsDVAz1EcMY+yGmKHEsdy53LncugSr7IWAcYBxgHJsWrwku+WXpg9+D3xbmV+ho6gvuYvCj7wvuo++s81P1cfJg66Djg98F3gXe8uAW5gvuyPZm/tT/jf1K+wH+JgMrCvURmxapF6kXmBXmDnUEhfli8GjqV+hX6FfoFuZQ4oPfg9+D36DjTuxK+68JoBSwHd8mlDAWNRY1FjUWNX43AToBOncufSCyE8cIAf6s807sYOuj7xLz2+6g4yHZj9OP0yHZg9+g42XpcfJj/fkENAslEc8S5g6vCYkF8gAK/dn51fXJ8WLwYvDb7k7saOo956DjoOM95wvuzPTA+r/+8v9fAI//d/oS8wvuo+8P+PYCNAs3DjQLWAN3+hLzyfHV9dL4Lvkq+tv+WgigFPshcSwBOplLL17SZtJm0mYvXo1SO0JxLLITZv6j71fooOMF3iHZj9Nsz4LIX8P/xY/Tg98W5mjqC+7J8VP11fXJ8U7sTuxT9VL/9gIk/tX1C+5X6BbmFuag43Xcf9WP03XcYOvJ+60KmxZ9IN8mgSqBKiwlYBzDGKAU5g6vCTcESvsx7XXcbM9sz3/VWtda1yHZBd7i5GXpTuwx7cnxZv7mDn0gdy6hPFdImUtXSFdIOEU7QjhFV0g7QqE8yDJ9ICsKP/Sg43XcIdl/1YnROM1sz2zPbM/qyl/Dxb3FvV/D6sqJ0dTa4uRX6FfoaOpx8iT+0gatCisKWgg4CY8N9RGyE6AUqRfDGKkXshOeD10QzxKYFeoZ6hldEDj9aOry4FDiV+hO7BrxpvdG/iYD0gY0C88SsB2mKMgyATqhPF4/O0KhPJQw+yGgFDgJxP9y+BLzo+9g6+Lkddx/1WzPidHU2j3nU/WZAK0KJRGyE7ITXRCvCV8AOfcS83Hy2+7i5FrXOM3qyjjNOM04zWzPj9N13KDjFubi5GXpU/X2AjQLzxLqGbAdDh99ICwlcSx3LoEqfSCyE60KtgRBAST+Cv3S+Kzzo+/b7tvucfLI9j38+QT1EQ4f3yamKIsjsB2pFyURVAw4CTgJjw3mDq8JQQEu+RLzMe0956Dj8uAF3oPfoONl6Rrxcvgm/0AFrwnmDpsWYBwOH7AdYBybFjgJLvlg6+Lk4uQ95xbmg9913PLgPedl6T3nYOvZ+UAF+QQu+aPvEvOo/IwDQAXcAcn7hfnZ+S75pvfV9VH2yPY/9MnxyfHA+loIoBR9IHEsATpXSENWL14vXo1SOEXIMt8mfSAeG88SjgcP+Gjqddw4zV/Dxb3FvV/DgsiCyP/F/8Vfw//FgsjqymzP1Npl6Tn3JP5zAisKmxZ9IIEqlDCUMIEqfSCbFo8NtgR0/NX1pvf/AY4H8gAa8eLkUOKg41Di1Np/1SHZ8uDi5FDig9+D32XpOff5BMELwQtdEB4bpih3LhY1oTw7QjhFO0IBOsgycSyBKt8mLCUsJfshHhslEfYCU/Vl6fLg1Np/1WzP6srqyonRBd4x7Sr60gY3DiURXRBdEM8SmBXDGOoZoBTBC3T8YOt13GzP/8Vfw6LAxb2pt6m3osCJ0aDj1fXIAlQM9RH1EV0QXRCYFbAdLCWLI7AdHhvDGPURNwQ/9DHtcfI4/dIGKwouB/YCJQF7AXEAxP/WBc8SDh8sJYsjsB2wHQ4ffSB9ILAdmxbBCzwA2fk/9AvuZek95xbmYOsa8RLzGvEa8T/02fksAPYC3AE9/yr6yfE95wXe1Np13IPf4uRo6qPvGvEx7T3n8uDy4FfoMe3b7jHtMe1O7E7sEvOdApsWpigWNV4/OEU4RTtCfjeBKg4fmxb1ETcOewbc/Tn3yfEx7VfoPedi8NwBng+yEyURNw43DjQLdQRG/kb+ewFBAaj8Ofd3+icG5g7mDnUEUfYL7jHtGvHI9o//xwj1EZsWmxayE+YOOAn2Ag7/2/5j/Tn3YOt13InRbM84zf/FyLoAsWe0osA4zSHZoOMx7T/0cvg9/Hz/nQJ7Bq0Kjw0lEZgVHhuLI6YopigsJYsjLCWmKKYogSqBKvshqRfmDq0KrwlUDPURmBWgFFQMCv1g64Pfg9/i5NvuU/UP+Cr6SvvS+D/0rPMq+koCOAn1EWAcLCUsJX0gmxaeDysK1gWF/qzzaOoW5j3nZek951Diddxa14/TOM3/xaLAX8Nsz6Djhfk0C6kXYBywHX0giyOBKsgyATpePztCO0KhPHcuwxh7Bqb3YOtQ4iHZbM//xcW9Z7QAsWe0xb3qygXezPSOB5gViyN3LgE6O0JXSJlLmUtXSF4/FjUsJakXng84CboB1fVg6xbmoOOg46DjoOOg4/LgIdlsz4LIgsg4zYnRidGJ0VrXBd7y4KDjoOM959vupvfb/nUENAuyE+oZHhseGx4bYBz7IYEqlDB3LqYosB1dEI4HyAIF/HHy4uQh2Y/TWtd13HXc1NrU2tTaBd7y4OLkMe2L++4MsB3fJoEqlDDIMhY1fjdePwBPI1ppYtJmL14AT343HhsuB4392fk/9GDrBd5/1Y/Tj9M4zYLI/8X/xf/Fxb2pt6m3yLpfw+rKj9N13Bbmo+/I9oX5yfu6ATcO6hkOH/shLCUsJX0gYBxgHA4fLCWmKN8mfSAOH7AdmxbHCDn3ZemD3yHZbM//xcW9qbdntMi6bM8952P9NAuyE5sWwxhgHA4fDh/7IYEqlDCUMIEqiyOwHbAdYByYFeYOwQuPDSURshPPEvURjw3DAzn3Me1l6Vfo4uQF3n/VbM/qyjjNidGJ0WzPOM3qyurKbM/U2mjq0viMAzgJ7gz1EakXYBx9ICwlgSp3LoEq+yGpF/URng80C3UEB/us8zHtPeeg41DioONQ4uLkZenb7jn3SgI3DmAcgSoWNV4/V0iZS1dIXj8BOgE6oTwBOpQwfSDmDr/+EvPi5I/TX8NntACxALFzrd2l3aVzram36spQ4sz0CwE4CTcO9RGbFg4fpih3LncuLCXqGcELhf6s8wvuMe0x7THt2+4S89X1pvfI9nHyMe1o6k7sMe1X6D3nTuyj72LwyfEP+CQCrQpUDC4H3AH1/vsDXRD7IXcuFjV+NxY1FjV+N343yDJxLKYo3yaLIx4bJRF1BFH2YOvi5NTabM+CyILIOM1sz1rXg99X6GLwrPM/9NX1pvdR9nHyC+6j78D6rQqpF2AcsB0OHw4fwxg3Do4HewZ7Bi4H0gbj/9X1GvHb7mjqPecW5uLk4uRQ4uLko+8F/AsBUv89/Mn7yfs592Lwo++m99wBKwqPDZ4PzxKpF8MYmxabFh4b+yGmKIEqLCX7ISwlgSpxLN8mHhuPDfYCD/hg64Pff9WP03/VIdl13HXcddx13AXeFuZx8sn7PfzV9XHyU/XV9XHy2+5O7GXpZelX6OLk4uRX6GLwLvn7A54P6hkOHx4bshNdEPURqRewHYsjpiimKPshmxaOB9L42+5o6hbmoOPy4AXef9Vsz4nRWtdQ4mDrEvPJ+/EHqReLI4EqcSyBKqYogSosJWAcshPPEpsWqRegFI8NLgfIArP/d/rJ8WXpMe1R9gX8ugHxB+4MXRBdEDQLjAOF/j3/dQQrCjQL1gXa/HHyZeni5AXeWtc4zf/FX8OiwKLAosBfw+rKidEF3gvujf2tCpsWfSBxLH43OEWZSwBPmUtXSAE63yb1EZ0CSvs/9Gjq8uAF3vLgPecL7hLzyPZR9j/0YvBo6hbmV+is8wsBjw2pFx4bHhvDGPURwQutCl0QwxgOH30gYBzqGcMYoBQ3DtYFPf/A+tX1YvAx7WXpPeeg43Xcf9XqyqLAqbdntKm3osCCyH/VTuxYA88SwxjqGcMYsB0sJXEsFjV+NxY1dy4sJR4boBSpF2AcYBybFp4PKwouB4wDo/7A+i75i/sB/nf6UfY598D6yfsq+nf6o/4nBsEL7gyPDSURzxIlEcELewb5BI4HrwmtCnsGSgImA9YF+wMF/MnxaOo956Djddwh2XXc4uRo6lfooOPy4HXcf9WJ0Y/T1Nqg42XpMe1i8BLzOfeL+9T/QAU3DsMY+yEsJd8miyMOH8MY9RE3Dq0K+QRG/sj22+4951Di1Np/1YnRf9WD32jqcfJ3+scIwxjfJpQwFjV+NxY1yDLIMn43AToBOsgyLCWgFPsDD/jb7j3nUOLy4KDj4uSg41Di4uTi5KDj8uCD31DioOPy4HXcIdkF3uLkMe1T9QX88gDDA/kEWAO6AfYCLgePDSURng+PDVQMng+bFg4fiyPfJiwlDh/DGJsWqReYFfURrwnIAib/Lvkx7QXeidE4zY/Tddw959vuo+9O7GjqTuyj7z/0dPwrCuoZgSoBOjhFmUuZS1dIOEVeP343dy59IM8SewZ3+qPvFuZ13I/T6sqiwMi6Z7QAsWe0xb2CyI/TIdl13PLgPecx7XHywPrSBvUR6hlgHA4f+yEsJSwlDh8eG8MYqReYFfURrQp7AYX5Ofcq+gf7yPaj71fog99a14nRbM9/1dTag99l6ab3+QSeD8MY+yGBKsgyfjd+NxY1yDKUMHEs3yb7IR4bshOPDcEL7gzuDMcIJQEH+9n50vg/9E7s8uBa14/Tj9Na19TaddyD3/Lgg9/y4D3nrPMK/fYC1gXxB60KNAuvCY4HxwjuDOYO7gyOB7YEiQXxB44HnQIK/Qf7d/rI9qPvZelX6DHtEvM599n5OP1m/ov7U/Wj78nxBfx7BlQMXRCgFMMYHhvqGZsWzxLPEpgVqRfDGKkXoBTmDisKjgcnBsMDAf7J8fLgj9Nsz3/Vg99l6azzyftm/mb+Af4sADcEjgcrCjcOoBTqGeoZmxZdEDgJfP+s82jqoOPy4FDioOOg41DiUOKg4z3nYOtg62XpV+hX6GDrGvEu+fYCVAwlEfURzxKYFcMYwxiYFZgVwxjqGeoZ6hkeG2AcHhuYFeYOrQorCloI0gYuB1oIKwrBC+4MrQrDA8n71fXJ8U7sPefi5GXpcfIq+tz9OP2F+T/0o+9O7GDrTuwx7Rrxpvfb/icGVAzmDiURzxKyE/URXRBdECUR9RElEeYOrQryAHHy4uTU2o/Tj9Na1/LgPedl6WXpaOox7RrxUfZ3+qP+NwQrCuYO9RGyE6AUmxYeG/shpihxLHcucSwsJQ4fmxb1EfURJRHBC/IA1fUx7RbmUOKg4xbmV+hX6OLkUOLy4OLkMe0/9Cr6fP+MA3sGxwhUDF0QmBXDGOoZHhtgHOoZshMrCqP+cvgq+vX+of9y+GDrg9/U2tTa1NrU2iHZ1NqD3+LkZekx7WLwyfFR9tr8wwPHCMEL5g4lEfURshPPEiURzxKpF2AcsB0OH4sjgSpxLIsjmBVABTn3TuxQ4tTa1NoF3j3nrPM9/Lb9i/tR9qPvZekW5j3n2+4u+dwBxwhUDOYO5g6tCtYFyAL7A8cIwQs0C+4MXRCyE88Sjw0rCnsGLAA59wvu4uQF3tTaddzi5AvuUfY9/Lb9j//2AiUBCv2F+Tn39f4rCiURoBSgFLITwxiwHWAcmBWtCtoAhflT9VH2i/sdAHsB4/89/Er7Svsq+jn3cfLM9Kj8SgJABdIG1gXHCJ4PshOyE/URzxKyE/URVAw3BMD6EvML7j3nUOKg4zHtB/u2BNIGQAULASr6o+9Q4iHZf9V/1QXeV+gL7snxzPQ/9FH2yfv/AXsGxwhUDOYOwQsuB7YEewZUDCURmBXDGMMYmxayE/URshPqGbAdsB0eG6kXqRepF88SKwq2/XHy2+7b7hLzhfkF/Kj8o/66AfkEtgTIAiYD9gKN/azzaOoW5mDr0viOB6AUDh+LI4sjDh8eG6kXzxKPDY4HtgRYA9T/dPwH+y75OffM9Avu4uTU2onRgsjIume0ALEAsam3/8Va1+LkaOpl6eLkFuYx7XL4+wOeD+oZ+yGmKIEqpiiBKnEsgSrfJosjfSB9IIsj3ybfJiwl+yGwHR4bwxibFuYOJgPA+g/4pvfV9RrxC+7J8VH2U/UL7uLkBd4h2SHZIdkF3lDioOM959vuU/Uq+qj8Pf/SBo8N9RGyE10QVAwnBsMAWAM3DuoZYBzDGJsWshPmDvsDyPYx7U7sC+5l6eLkUOJQ4j3nTuxi8BLzEvOj72DroOPU2n/Vf9V13D3n1fV7BqAUDh+LIywlfSAeG6kXmBWpF+oZ6hnDGJsWmBXPEuYONAutClQMNAtABTj9Ofes82LwMe1i8Hf6JAJYA9T/Kvqm9y75KvoH+439xP+JBV0QHhsOH5sW8Qdn/z3/cQDJ+xLzC+7b7gvuZek952XpcfIH+9z92vym9zHtg99/1Y/TddxX6FP1xP/HCF0QmxYeGw4ffSB9IA4fsB2wHQ4ffSAsJXEslDAWNRY1lDCBKrAdNAs/9NTa/8WiwF/DOM2P0yHZddyD3/LgBd4h2X/Vf9XU2lDiTuzV9WP9wwM4CfUR6hmwHfshcSwWNaE8ATqUMKYoLCWLI30gHhuYFY8NQQES81foUOKD33Xc1Np13PLgg9/U2n/Vj9OP03/VWtfU2oPf4uRg6z/0OP3/AXUEKwqYFYsjlDDIMoEq+yHqGZsWshNdEF0QoBSpF5gVNw57BowD1gU4CVoICwHV9WjqUOIF3gXeoONO7Kzzhf6vCeYOwQuMA8j2Tuw95+LkTux3+scIzxKbFsMYqRegFI8N+QSZAI//qPwS8z3ng9913HXcBd6D3/LgUOLy4HXcIdla19TaoONx8roBwQslEZgVsB0sJYEqpiiLI4sjgSqUMMgylDB3LncugSqLI+oZjw3/AVH2Zel13InROM3qyurKOM2J0SHZddzU2lrXj9OP01rXBd5l6ab3JwagFH0g3yamKKYopihxLMgyFjWUMHEsgSpxLHEs3yb7IX0giyMsJbAdNw5R9nXcgsjIume0Z7RntKm3yLrFvV/D6spsz4/T1NpQ4uLkYOvV9XMCKwrBC1QM9RFgHKYoyDIBOqE8Xj8BOhY1FjV+NwE6FjWBKmAczxLBC4wDhfka8Qvu2+7b7k7sPeeg4+LkZeli8BLzo+9X6BbmTuwa8WLwYOto6snxo/7BC5gVsB37IX0g6hmeD9IGcwJdAQsBhAAO/8n71fVi8NvuyfHV9VH2GvFo6lDiddzU2oPfPedx8gr9xwiYFX0giyMOH7ITjgdBAT3/BfyF+Tj9+QTuDF0QNw7uDO4MNAudAlP1ZelQ4oPfg9+D3/Lg4uRo6mLwLvkk/ir6EvPJ8XL42gB7BisKNw6bFg4fLCXfJt8m3yb7IWAcHhuwHfsh+yGwHWAcDh99ILAdmBUrCo39YvBQ4lrXbM/qyurKOM2P0yHZ1NrU2tTa1Noh2X/VidGP04PfyfFfAMcI5g6YFbAd3yZxLJQwlDB3LnEsLCWwHcMYqRepF6kXwxjqGZsW5g6JBWP9rPNl6YPfWteP02zPOM04zYnR1Nqg42XpTuxi8Mz0zPRx8nHyOfcF/AX82fna/HsG9RHDGMMYmxapFx4bDh/7IX0gHhugFF0Qng9dEOYONAs4CVoIdQTJ+xrxaOpg66PvP/Q590r7hADDA8MDJQEk/gf7yPZi8E7sC+5T9WP9NwQrCuYO9RH1ETcONAvxB8MDo/6F+Tn3pvfA+iwAdQR7BrYEY/0S8zHtMe0x7WXpFuZo6g/4jgf1EakXYBz7IfshHhueDzcERv49/IX51fU/9FH2Cv3SBp4P9RGtCqP+zPTb7mjqFuaD3yHZf9WP04nRj9Mh2YPfUOKg41foP/QkAq0K5g6gFGAc+yEsJd8mpiiBKnEscSymKIsj+yH7IYsjLCXfJiwlfSDqGV0QewY9/GLwFuby4AXeIdmP04nRf9UF3qDj4uRQ4lDiFuZX6D3noOOg4z3nYOvJ8dn5wwNUDJ4PXRDPEqAUoBSyE6AUqRdgHPshLCUsJd8miyN9IGAc6hnPEsgC2+6D33/VbM/qyv/F6sqP04PfoOOg4/LgUOLi5BbmFuY952DrGvE593z/JwatCl0QwxiLI3Esdy53LoEqLCV9IB4bmBWgFKkX6hmbFp4PLgfy/4X5P/Rx8tX1Bfy6AYwD9gImAyYDJAI8ADj9Lvk/9NvuZekW5hbmYOus8z38+QRUDDcOKwq2BDwA2fmj7z3nZelx8gX8mQBn/6j8BfxK+zn3o+9l6T3nFubi5D3nC+7S+IkF9RFgHIsjLCUsJX0gHhuyE8ELNwS6AScGjw2yE6kX6hnDGF0QNwQq+tX1EvML7hbmUOLy4IPfddwh2X/V1Nri5DHtYvCs8w/4Y/32AvEHVAzPEuoZfSDfJoEqpigOH6kXqRdgHH0giyMsJSwl+yEeG54PdQS2/Xf6U/Vg64Pfj9M4zf/FosCiwP/FbM9a14PfFuZo6k7sTuxg62DryfE9/McImBUOHywl3yamKHEsdy5xLKYoLCV9IB4bzxI0C8cIjw2yE5sWoBT1EeYO0gbM9IPfbM+CyDjNj9PU2oPf4uRl6QvuGvFx8hrx2+7b7nHy1fU/9KPvTuzb7g/4WAOPDakXfSCLI30gYBzDGKkXqReYFaAUshP1EcELAAAa8eLkddzU2nXcg9+g42XpC+6s8y75j/+2BMcI7gwlESURVAwnBnMCdQSvCeYOshMeG/shLCV9IKAU8Qdj/azzYOs951foTuyj79vuYOto6gvuEvM598D6PfzJ+8n7Rv51BFQM9RGpF30gcSzIMpQwpiiwHTcOHQDI9lP1Svv/AYwDj/+F+VH2P/Sj71foUOKD34PfBd5a14nRgsj/xf/FOM0h2VDiaOoS8yr6of97AZ0CQAXBC5sWfSAsJaYo3yYsJYsjfSD7IaYolDDIMncuLCUeG7IT7gzSBsgCLAA4/dX1V+h13I/TidGJ0X/VBd5X6BrxKvrj/4QABfzM9BrxzPQH+yUB1gWvCY8N9RGyE7ITwxiLI6YoLCUeG/URKwp1BJkAhf4OACcGjw3PEs8SNAtj/THtg99a14/Tj9OJ0Y/TWtcF3lDiPedg6xrx1fVy+Hf6Y/1n/wH+2fnI9nL42/4nBu4MJRElEeYOwQvSBroBXQHWBcELJRGgFJgVshM3DscIiQWMA/YCQAWvCZ4P9RHmDsELwQslEakXwxigFOYOLgd0/AvuUOIF3vLgYOtT9Tj9nQLWBXUEBfwa8WXpPedo6hrxcvhK+3f6D/im99L4wPpK+8n7Svty+Mz0YvDb7nHyKvr5BPUR+yGUMAE6fjd3LosjHhugFCURVAzHCIkFugE4/ab3cfLJ8T/0yPZT9aPvPed13InR6sqCyILIgshsz9TaaOrM9Hf6j/+MA9YF8Qc0C+YOmBVgHPshfSBgHGAcDh/7IYsjgSqUMHcuLCXDGO4MLgd7BvEHJwZn/zn32+7i5CHZOM3/xaLAX8M4zdTa4uRg6xLz0vgP+Kzzo+9x8nf6+wNUDM8SqRceG/shpihxLHcucSzfJrAdzxI0C/kEAABS/3sGNw5dEOYOrQq2BAf7YvBX6PLgBd513HXcg9/y4FDiZeka8Tn3jf22BC4H+wNj/dX12+5X6OLkPedg68z0DgCvCTcOwQsuB50CQQE3BK8J5g6eD1QMxwhABaP+pvcP+EEBVAz1EbIT9RFdEDcOKwouB9IGKwqPDe4MOAl1BIQAqPzS+NL43P03BMcIjw3PEpgV9RGvCdoALvlx8jHtTuwx7U7saOpg6xrxSvt1BPEHQAXy/0r7cvga8RbmUOI95z/0jANdEMMYYBxgHLAd+yGLI30gYBzqGZsWXRA4CTcEXwAOANwBewF0/NX1yfHb7j3nIdk4zYLIX8OiwKLAX8Pqyo/TddxQ4qDjFuYa8b/+KwqyEx4b+yEsJSwl3yZxLBY1ATqhPH43lDDfJvshsB2pFyURVAyPDTcOKwoLAazzPefy4HXcf9Vsz2zPWtdQ4lfoaOpg607sYOtO7GLwUfYH+7b9of//AdIGng+pF7AdfSAOHx4boBTBC/sDCv1y+Af7iQX1EeoZwxigFJ4PrQrDA6j8zPTb7mDrV+ji5PLgoONO7FP1i/s9/3MC+wNdAYv7zPSj707sC+4S89X1U/XM9IX5v/4sAB0AZv49/Dj9JgMrCu4MrwnWBVgDmgFzAscIJRGYFbIT5g7uDFQMNAsrCsELjw2eD/URXRCtClgDPf+N/dn5U/Vx8hrxGvGs84X5xP8LATj9cvhT9RLzo+9O7GjqZelo6gvuGvEa8XHyUfbZ+Qf72fk593HyMe0x7cz08v+tCqAUDh+mKHEslDCUMMgyyDJxLPshmBU0C9YF+QTDAyQCugGaAaH/wPqs82Dr8uB/1TjN/8WiwF/Dgshsz9Ta4uTb7sz0UfbI9oX5XQHuDMMYsB0eG5sWmBWwHaYody53Lncudy5xLCwlHhvPEjcOVAw0C9IGZv5R9tvuFubU2mzPgshfw1/D/8XqyonR1Nqg49vuyPbZ+XT8xP9KAjcEjgfmDsMYiyN3LhY1fjd+NxY1yDKBKmAcng8uB3sBwPo/9HHyU/Wm91H2P/Q/9HL4Pf8kAqj8yfFo6mjq2+6s89L4dPzy/4wDJwbWBSUBCv04/Sb/Cv1R9qPvTuwL7mLwcfJT9Tn31fXb7uLkoONl6T/0Svt3+jn3OffA+vX+/wG2BPEHrQqPDZ4P5g5UDFQMng+gFMMY6hlgHH0g+yH7IbAdmBU3DloIjAPa/FP1cfLM9Dn31fXJ8WDr4uSg4+LkPedX6E7srPPZ+aj8o/7IAscIjw2PDa0KiQWF/i750vh0/EoCrwklEZgVmxbDGLAd+yH7IQ4fmxY0CwsByfsH+3L4U/VR9gr9ugFG/tX1C+495wXeWtdsz4LIosDIusW9gsiP0wXe4uQ952jqcfJj/Y4HXRDqGYsjpihxLJQwyDIWNcgylDB3LqYo+yFgHMMYmBXPEuYONAvSBiQCqPw/9GjqUOIF3iHZj9Nsz4nRWteg4xrxJP75BLYE8gA9/Nn5yfvaAHsGrQqPDSURoBSYFaAUoBSYFZgVXRB7Btn52+5g69vuP/RR9tX1U/U593f6Rv6uAHz/Cv3a/Eb+Pf+j/lL/+wOvCVQMNw4lEZgVmBWyE10QNAvDA9L4Tuzy4AXeoONO7GLwC+5X6KDj8uBQ4j3n2+7M9C75JP7IAokF8QfuDJsWDh+LI4sjiyMsJd8mLCUOH+oZwxjqGWAcwxieD44HmgHJ+6zzZeny4NTa1NoF3hbmC+5x8j/0rPOj72XpoONQ4qDjFuZl6QvurPPZ+a4A0gY0C+YOzxIlEccIj//J+3EAWgg3DiURshPqGfshpiiBKqYoiyN9IGAcmBU3Dq8JewaMA3EAdPwP+FP1U/VR9j/0o+9l6YPff9Vsz+rKbM8h2eLkMe2j72DrV+hX6GDrGvHI9qH/OAmeDyUR9RGyE5sWHhsOH4sjLCUsJSwlfSDDGPURXRD1EfUR5g6vCdwBcvga8U7sUOKP0//FX8Pqyo/Tddzy4OLkV+ho6gvuyfFy+F0BKwqeD/URmxZgHIsjgSqUMBY1yDKmKB4bjw37A6P+3P3j/wsB2/7a/Eb+8gD2AvYC3AFNAKP+OP0H+6b3zPTM9FH2Ufam96j8NwQ0C+YO5g6tCkEBP/Rl6fLgddx13PLgFuZX6D3n4uRQ4lDiPecL7hLzU/XI9nL42fnA+gf7i/tj/XMCrwmeDyUR9RH1EbITqRewHSwlgSqBKqYo3yYsJX0gmBWvCdz9UfY/9NX10viL+wX8KvrI9nHyC+5g61foFuY952DrTuxO7AvupvdABV0QmxabFiURJwYF/FH21fVy+IX+0gaPDSUR9RH1EfURzxKgFKAUJRE3DjcONw4rCvsDPf8k/qP+JP62/ST+i/us8xbmWteCyMW9yLqiwILIbM+P03/Vf9Va13XcFuas8yQCjw2YFR4bYBwOH30g+yGLI6Yody7IMpQwpih9IB4bYBywHWAcmBWPDccI1gVdAdL42+4W5lDig98F3oPfoONo6qPvEvPM9FH20vjA+sD6KvpK+z38Y/2h//YCrwmgFPshcSyBKvshmxZUDHUEB/sa8WDrYOuj73HycfJi8BrxrPNT9VP1P/TM9Mj2OfdT9azzrPM59yb/NAvDGPsh3yaBKqYoDh8lEUAFhf44/Wb+jf1y+MnxTuw95/LgIdmP04/TWtd13IPf8uBQ4lDi4uQL7sD6jgf1EcMYmxbPEs8S6hn7IaYogSp3LpQwyDLIMnEsfSCyEzgJugGL+8z0YvCj72Lwo+8L7k7sTuwx7dvu2+5g6xbm8uAF3gXe4uQa8XEANAs3Dq0KjAOL+1P1rPNT9dn5PADWBSsK7gzmDvURmxYeG7AdDh9gHKkXshMlEVQMtgRS/7/+HQCdAo4H7gyeD+4MQAWF+QvuZelo6k7saOo95+LkFuZX6E7s2+4a8RLzyPbJ+w7/tv3S+Mz0P/QP+LP/LgetCjgJQAXcAcMACwGaAfYCQAVaCFQMng/1ETcOJwZn/6b32+5l6VfoaOpg69vuEvPA+sMD7gyYFR4bsB2wHR4bmBVdEDcOXRCbFrAdLCWmKN8msB1dEJoBcfI951Di8uDy4AXeIdl/1VrX1Nry4GXprPMK/bYExwjHCNIG1gXSBq8JwQs3DqAUDh/fJt8mDh+yEzQLjgfWBZ0C3P2F+ab3UfYa8WXpoOOD34Pf8uBQ4lDiBd4h2YnRbM9/1VDiGvGF+S75zPRx8qb33AHBC/UR6hmLI3EslDCUMJQwdy5xLCwlYBwlETgJiQUmA+P/i/vS+NL4wPrc/fX+OP3A+g/4cfJO7FfoYOtT9UAFzxLqGeoZqRf1EVoIBfwS82LwGvFi8DHtPeeg4+LkZekx7dvucfIq+vsDNAtUDK0KWgiOB4kF3AG//poBNAuYFcMY9RFaCMgCcwLyAAf7P/Sj7zHtMe0x7WjqV+hl6aPvyPYH+6j8OP0F/A/4zPTM9Er7ewbmDp4PKwomA9v+Cv3a/AH+JALHCOYOzxKgFJgVmBWgFM8SNw57BiT+cvjV9XHyTuxX6GjqcfI4/fkExwitCjQLOAmdAir6yPao/PEHoBR9IN8mLCUOH6AUewbS+BrxC+5O7Ffo4uTy4AXeg99Q4j3nMe2s8yr6JP6//o39tv1xAIwDiQU4CfURYBwsJYEqgSqmKIsjYBybFjcO+QQ4/Q/4EvNg6+Lk8uCD31DiFuZl6Vfo4uSD39TaIdnU2qDjo+8q+toA+wM3BPYC9gKJBTQL9RGbFh4bDh8sJaYogSqBKosjHhvPEu4MKwrSBpkA0vhx8tvu2+4L7jHtMe0L7mjq4uR13FrXf9Va14PfTuw9/DQLmBWpF6AU5g44CYkF+QSJBScG8QcrCjQLKwpaCMcIjw2yE8MYwxipF8MYqRegFOYOwQuPDfURoBSgFPUR5g43DlQM8QddAcD6yPZx8mDrUOIh2YnROM1sz3/VddwW5k7s2+5g61Di1NrU2lDiC+4P+DwA+QT5BNwBfP88ALYEwQtdEJ4PKwqJBdYFxwgrCvEHwwN7AY//qPxR9tvuZelO7KzzwPqEALYEVAybFrAdsB3DGM8S5g7uDJ4PmxYOHywlcSx3LoEqiyOwHZsW7gxS/2Lw4uR13H/Vj9N/1VrXg99X6NvuYvAa8T/0cviL+8n7B/tn//EHJRGbFh4bYBweG+oZmBU0C1gDugGdAgH+rPNl6fLgddzU2lrXf9Va1wXeoOOg41Dig9/y4BbmTuxT9YX+cwIkAq4ADgBn/4wDVAygFLAd3yZ3LhY1oTw7QjtCoTwBOn43yDKmKJsWjAPV9WDrBd6J0YLIosCiwKLAosCiwKLA/8Xqyo/T4uQH++YOfSB3LgE6Xj9eP6E8FjV3LiwlqRcrCsn7o+895+LkPeej74X5CwE3BNIGWgitCjcO9RGbFh4bsB0eG6kXmBWgFF0QewYu+WDrBd5/1TjN/8Vfw//Fgsg4zX/V8uAa8doANAslEbITshNdEOYO5g5dEOYOJwYu+U7sUOJ13FrXWtch2XXc8uBg6zn3NwRdEB4bLCWUMAE6oTx+N3cupij7IZsWNAvU/zn3cfIL7lfoFubi5KDj8uDy4OLkC+6L+60KYBx3Ll4/mUsAT1dIoTxxLOoZLges8/LgOM3FvQCxc61zrQCxxb3qyiHZPefJ8Ur7LgebFosjgSrIMqE8O0I7QgE6cSwOH7ITewbV9RbmIdmJ0erK/8Vfw1/DgsiP0wXeZek/9MD6v/5YAzgJng+yE5sWqReYFZ4P1gUk/tn5cvhy+C75Cv22BJ4P6hkOH/shcSwWNaE8ATrIMnEsLCVgHJ4Pjf1o6iHZOM1fw8W9qbdntGe0ALEAsWe0xb3qygXeyfHWBcMYpih+N14/O0JePwE6yDLfJsMYKwpj/cz0o+8x7U7sMe1x8tn5fP/DA1oI5g6bFg4f+yEsJYEqlDDIMpQwpih9IJsWrQqP/xLzPeeD3yHZj9OJ0WzPOM2J0dTaoONl6U7sTuwL7snxUfYu+dn5wPoF/Mn70vgS89vuTuxX6D3naOpx8nT8ewbmDpgVsB3fJpQwFjXIMpQwdy6BKvshmxbxBz38cfJo6qDjg9913HXcddwF3gXeg9+g407sLvk4CeoZpijIMgE6ATp+N5Qwpih9IJsWKwrJ+9vuFuby4IPfBd513AXeg9+g42XpyfHA+q4ALgeeD5gV6hkOH4sjLCWLI2AcXRAkAj/0PeeD31rXbM+CyF/DX8P/xYnRBd5l6RrxyPaL+3z/3AGMA9YFjgfHCDgJxwjxB/kEhAAF/C75LvmN/YkF7gygFH0gdy5+N6E8Xj9eP6E8ATqUMN8mHhutCnL4FuZa12zPgsj/xaLAyLpntGe0ALEAsci6gsjU2hrxxwiwHXEsFjUBOgE6fjfIMqYoDh+yE/EHqPxi8BbmUOKg4z3nTuys8wf79gI4CVQMng+pF30gpihxLIEqpigsJQ4fmxY0Cw4AyPaj72XpUOLU2n/Vj9Na14PfV+hi8Kb3tv26ASYDyAJBASUBSgJYA8gCDgCF/jj91fVo6qDj8uBQ4uLkV+gL7nL4ewayE7AdLCVxLJQwlDB3LoEqiyOwHZgVOAl0/BLzMe1g62jqV+ji5PLgddx13HXc8uBo6i757gx9IHEsyDLIMsgyyDJxLH0gzxLSBsn7o+9Q4n/VOM2CyILIgshszyHZFuZi8A/4Pf+JBTcOwxiLI4EqlDAWNRY1lDCmKLAdshPBCycGtv2j7/Lgj9M4zTjNOM1sz1rXUOJg69vuC+4L7mLwEvNT9Tn3Bfz2AjgJKwpABST+cvg594X5Z//xB/URHhssJXcufjehPF4/O0I7QqE8yDL7ITcOLvni5InR/8WiwMi6qbcAsb2p3aXdpb2pc62pt+rKPef2ApsWiyN3Ln43oTxeP6E8oTx+N3EsDh/PEscI8gDA+g/4cviF+Yv7Jv8kAvsD1gU4CTcOoBRgHPshLCUsJSwl+yHqGeYOiQVfAD381fUL7qDj1Np/1X/VWtcF3j3nYvBR9nL40viF+S75pvfI9lP1zPTV9T/0YvBg66Djddxa11rX1Nry4GXpGvFK+/EHmxb7IaYody7IMn43ATp+N3cu+yHPEnsGtv059xLzYvBO7GjqV+hQ4tTaj9N/1YPfC+5G/lQMqRf7IaYody6UMHcucSymKH0gmxbBCx0AP/RX6AXe1NoF3hbmTuyj78nxrPNy+NT/8QddEMMY+yEsJYsjsB2pF88Sjw17BiT+zPRO7FDiIdlsz//FosBfwzjNWteD3+LkaOqj78nxGvEa8azzCv04CSURzxKeDysKiQV7ASb/ewEnBisK5g6gFLAd3yZ3LhY1ATqhPDtCO0KhPHcuHhtABRLz4uQh2WzPgsj/xf/FX8PFvam3ALFntF/DWtdg6/X+9RGLI5QwATpePztCOEU4RaE8cSywHZ4PwwCs82jqoONQ4uLkV+hl6WXpYOvb7hLzLvklATgJ9RHqGQ4fDh/qGc8S5g7uDCsKewYkAqj8zPRo6oPf1NqD31foYvDM9Dn3LvnA+nf6Ofdx8hrxP/Q59w/4Ofdx8mXpg98h2VrXWtch2QXe4uTb7tn5wwNUDJgVfSBxLH43Xj9eP6E8yDIsJakXjw35BIv7yfEL7jHtYOvi5NTaj9OJ0VrXg99X6D/0LABUDJsWDh/fJnEslDCUMHEs3yYeG+4MqPzb7uLkg9913HXc8uA952DrC+7b7snxD/i6ASsKJRGpF2AcfSB9IA4fsB3qGaAUXRA0CyYDpvdo6gXej9OJ0Y/TWtd13BbmGvEP+C75cvjS+MD6fP/SBjcOzxLPEjcOewbj/z38LvnM9HHyrPMq+iYDOAk3DqAUDh+mKMgyoTxeP14/FjWmKOoZ8QfV9T3nBd7U2lrXidH/xci6ALFzrXOtZ7Rfw4/TFuY/9CUBNw4eG98mlDABOl4/oTx+N6Yo6hnBC7P/OfcS8xrxcfLM9FH21fVT9ab3OP3WBSURYByLI98m3yYsJYsjfSAeG5sWoBT1EcELQQGs82XpoOPy4IPf8uAW5gvurPPM9BLzYvAL7jHto+8S86b3hflR9qPvZekW5lDig98F3oPfoONX6GDrGvGF+YwD7gypFywllDB+N343FjWUMKYosB3mDkEBD/hT9azzo+9l6eLkg9/U2iHZ1NpQ4mjqrPMO/68JzxLqGYsjdy5+N6E8ATrIMqYosB31EUAFcvgL7mjqZell6WDrMe0x7THtC+4a8Q/4Af4mA8cIjw0lEc8SJRHmDlQMwQs0CzgJXQFT9WXpBd6P0zjN6spsz3/VddxQ4uLk4uSg4+LkTuxR9kEBKwqeD88SoBSyE+YOWggmA5oB/wG6AboBdQRaCI8NoBSwHd8myDKhPDtCXj9+N6Yo6hmvCQf7o+8W5gXeWtdsz//Fxb1ntACxALGpt1/DidHy4NvudPytCuoZpih+NztCOEU4RV4/FjWmKGAcjw0kAj382fku+dX12+5X6D3nZekL7nHy0vjDAC4Hrwk0C1QMwQutCsELjw03DlQMWgi6AYX5yfFg61foFuZX6NvuOfck/p0CdQQ3BHMCJAL5BFoILge6Acn7yPaj71fooOMF3iHZWtda1yHZddyg42DrUfbIAp4PsB1xLBY1oTxeP6E8yDLfJmAczxI4CZkAhfnM9NvuV+jy4CHZWtch2QXeoONX6DHtEvN3+owDng9gHN8mgSpxLHEspih9IKAUewYF/Dn3yPbI9tX1P/Ss83HyyfGs8w/42vwlAdIGNw6yE5gVshP1Ec8SmBWYFSURrwkLAXL42+6g4yHZidFsz4nRj9Mh2fLgoOOg4+LkaOpi8FP1yfsmA68JNw6eD+YOng+eD+4MjgeaAfL/nQJ1BMMD+wMrCpgVfSCmKJQwfjd+N5Qw3yYeG54PwwMP+E7sUOIh2YnRgsiiwKm3Z7RntKm3osBszyHZ8uAx7ST+ng+wHYEqFjWhPF4/Xj9+N4EqsB2gFDcOWggmA8MAZ//J+1H2cfLJ8RLzzPSm94v7ugGOB60KNAvuDCURmBXqGQ4ffSAOHx4bshMrCnsB0vga8U7sYOtO7GjqFubi5BbmZelg69vuEvNR9nL4UfZi8D3n8uAF3tTaf9Vsz2zPbM+J0VrX8uBO7MD6jw37IcgyXj84RThFO0IBOpQw3yZgHF0QdQQu+dvuV+ji5KDj8uDy4OLkYOsa8WLw2+5i8Mz02vx7BuYOoBTqGX0gLCWLIw4fHhuYFfURzxLDGLAdDh9gHJsWJRE0CzcEqPxT9THtFuag4xbmYOvJ8Tn3PfyaAY4H7gzuDI4HRv7M9GjqBd6J0YLIX8Nfw//FOM0h2VDiZeka8Qf7JwYlEeoZYBzqGakXmBWeDy4Ho/6m98nxo+8/9Kj8yALWBcELqRffJhY1O0I4RTtCoTzIMiwloBT7A1H2aOpQ4oPfBd7U2o/TOM3qymzPf9UF3uLk4uTi5FfoC+4S8w/4s/84CbITDh/fJoEq3yYOH6kXwxhgHA4fHhvPEloIJv/I9qPvPecF3tTaBd7i5AvuUfbb/icGNw4eG6YolDCUMIEqiyPDGCsKBfyj7/Lgf9WJ0X/V1NpQ4mjqEvPA+kAF9RHqGeoZshM3Do4H3P0S81fo1Npsz4LIgsiCyILIOM2P04PfYvDxBw4fyDJePzhFOEVeP343cSweGzgJLvkL7j3nUOJ13CHZIdmD31foGvFR9oX5SvuN/UEBWAOaAdv+Zv4lAS4Hng+pF2AcHhvDGKkX6hmwHX0gfSAeG/UR7gyvCXMCUfZo6qDj8uCg42jqo+/J8cj2SgLmDqkXYBwOH2Acwxj1Ea8JdPxg63XcidHqyoLIOM2P0yHZg99g6yr68Qf1EcMYYBywHQ4fDh/qGe4MZv6s8zHtaOo95+Lk4uQ952LwJv8lEYsjyDJeP1dImUtXSKE8lDB9IOYOUv8S82jq8uBa14nROM04zYnRWtch2VrXWtd13AXeBd513IPfoONg64X5xwiYFQ4f3yaBKoEqdy7IMsgycSzfJg4fmxbHCHT8cfJX6FDiUOI95zHtGvHV9b/+wQvqGd8mcSxxLHEscSwsJakXewbI9mXpddx/1Y/Tj9N/1dTaFuY/9EEBrwnuDO4M7gzBCy4HAf5i8PLgj9PqyqLAxb3FvaLAX8OCyH/VFuaF+cELsB13LqE8OEU4RV4/FjWmKA4foBStCvsDof8q+lP1UfZ0/PIAUv8F/MD6pvcS8wvuV+hQ4nXcddxQ4mjq1fX5BCUR6hl9IKYolDCUMHcudy6BKiwlDh+gFDgJqPzJ8WjqV+gW5qDjFuZg68z0rgArCl0QshObFqkXoBTBC5kAEvPi5FrX6spfw8W9yLrIul/Dj9MW5tX1HQCJBTgJNw6yE5gV9RHBC9YFwwCo/Cr60vhy+C75Rv7WBTQL5g6YFQ4fgSrIMgE6Xj+hPBY1cSz7IaAUWghS/1H2TuwW5hbmV+hl6WjqaOpX6BbmoOPy4HXcf9WP04nRidGP03XcTuyF/p4PsB2mKJQwFjUWNcgydy6BKiwlsB31EXMCGvGg43XcIdkh2SHZddxX6Kb3JwaeD5sWsB3fJnEscSwsJeoZ7gyuAMj2YvBo6uLk8uCg4zHtLvl7BiURmxapF+oZHhvDGJ4PNwRR9j3n1NqP0+rKX8PFvaLA/8XqyonRIdlQ4qPv3AGgFPshgSp3LsgylDBxLCwlsB2YFTcOLgdBAQH+tv31/mf/hf62/T380vjJ8Vfo8uB13FrXj9OJ0X/VBd5o6nf6wQtgHIEqyDJ+N343FjXIMnEsLCUeGyURxwhfAC75EvML7mXpZeli8Hf6cwIuBzQL5g4lESURjw3WBdL4Tuyg4wXeWtdsz4LIX8Nfw2zP8uAS83EAKwrPEqkX6hkeG8MYzxI3DisKiQW2/RLzYOto6jHtEvPS+D38BfwF/NoAxwglEakXsB37ISwliyOwHZgVNAslASr6D/gP+C75d/pK+wX8Cv0K/dn5yfFX6PLgBd5a12zP/8Vfw//FOM3U2tvu+QTDGIEqFjWhPAE6AToWNXcuiyPDGO4M8v/M9GDroON13HXc4uTJ8dr80gb1EWAcLCVxLMgylDCBKvshwxiPDbYEOP0S8z3ng9+D3z3no+/S+PIALgfuDCUR9RE3DnsG2/4u+azzZekF3onRgsj/xTjNf9V13IPfoONo6qzzi/sLAXsGNw6bFrAd+yH7IQ4f6hmpF5sWmBWbFsMY6hmpF6kX6hmpF54PwwPS+BrxZeny4CHZbM+CyP/FgsiP06DjOffuDH0glDChPDtCO0IBOsgycSyLI6kX5g4uBzj9yfFo6lfoZekL7qzzD/gH+/X+tgTHCMcIJwbcAUr7rPNg61DiIdlsz//FosCiwILIf9VQ4mLw3P1aCJ4PJRE3Dq0KxwhaCCcGmgGF+RrxTuxO7Kzzjf2MAycGxwhUDJ4PzxKgFJgVqRewHSwlLCV9IOoZshPuDNYF3AEAAE0AyALSBlQMXRBdEFoIhfll6QXef9U4zaLAZ7QAsWe0yLpfw4nRUOJT9VQM+yGUMH43fjd+N343FjWUMHEsiyPDGI8NXQES807so++F+cMDKwo3DrIT6hmwHR4bwxigFFQMyAKF+dvuFuaD39TaIdnU2qDjYvDZ+SwAOAmYFX0g3yYsJYsjfSAOH+oZshPHCC75YOug43XcIdla1yHZg9/i5KDjBd5a14/TWtd13IPfFuZg63HycvjDAK0KshPDGMMYHht9IIsjiyOwHaAUJRH1Ec8SwQtS/xLzTuzi5HXcf9Va1/LgEvOvCWAcgSoWNQE6oTx+N6Yo6hnBC0EBd/px8mXpoOOg4z3nTuyj7xLzUfbZ+cn7Z/+vCaAU6hmYFeYO5g4lEZ4PrQoLAcj2GvFO7D3noOM952LwBfwkAvL/i/s596PvPefy4AXeddwF3oPf4uRO7BLzZv6tCs8SqRfDGPURxwgkAiT+2/7SBp4PshOyE54PNAsrCjgJOAk3DpsW+yGBKpQwlDBxLPsh9RHc/T3nf9XqyqLAqbdzrd2l0aGXnd2lqbfqyvLgSvuYFXEsATpeP6E8oTwBOhY1yDKUMKYosB0lEfEHjANzAvYCNwT5BNYFNAvmDlQMKwqOB/8BdPzA+sD6i/uL+w/4U/Wm9wX82vxK+9n5KvrJ+9r8o/57AYkFOAnBCysK0gZn/8nxFuby4FDiPeej79n5cwLWBTwAzPQW5n/Vgsj/xYLIidHU2vLgFuZi8KP+VAzPEs8SwxgsJXcudy6BKiwlfSDqGY8N/wGN/QX8B/su+RLzYOtX6FfoaOpx8iQCmBWmKBY1AToBOhY13ybqGZ4POAkmA4//Dv88AJoB0gZdEKAU9RGtCowDXQH5BFoIjgcmA9z9KvoS8xbmIdlsz+rKgshfw6LAgsha1z3nrPOo/CwADgCN/Sr6dPz7A3sGcwIO/9z9Jv8k/jn3rPPS+EEB8QfuDDcOVAxaCP8BwPrA+p0Cjw2pFw4f3yZxLHEsLCV9IPsh3yaBKqYo3ybfJg4fng/c/THtg9+P0zjN6srqyjjN6srqyjjNidFa1wXeFuYS80EBwQv1EbITmBWbFl0QjgdxAAf7P/Sj79vucfLa/DgJoBSwHYsjfSAeG6AUXRDmDjQLcwLS+KzzGvHb7jHtZelX6GDro+/V9Sb/OAklEaAUoBRdEMELKworClQMng8lEeYOjgeN/dX1rPMP+HsBNw6pF8MY9RFABT/0UOKP04LI/8X/xerKbM9a11DiMe2F+YwDKwqyEw4f3yamKKYo3yaLI2AcNw4dAMnxoOMh2YnR/8XFvci6osCP02XpCv3mDvshlDChPDhFXj9+N5QwgSp9ILITWggB/jn3EvMS89n5cwKvCY8Nng/PEuoZYBweG8MYwxjqGeoZshM4Cdz9o+/y4FrXj9N/1QXePedi8Mz0rPNx8qzzzPTM9FH2D/hK+0b+2vwq+g/41fU/9D/0rPM/9Cr6Uv/c/cj2YvAL7jHtaOpg6xLzPfz1/r/+cwJUDB4b3yZxLHcudy53Lncu3yYeGzQLB/sx7aDjg9913CHZj9M4zYLI/8WCyGzP1Npo6qb3/wGvCTcOJRGyE8MYsB2LI98mLCWwHakXmBXDGH0g3yZ3Lsgydy4sJR4b5g6aAVH2TuwW5j3nZelo6k7s2+4a8T/0rPMS8w/4of9ABa8J7gzBC/kEd/oS8z/0pvfI9tvuUOJ13IPfV+hx8kr7ewagFPshiyPqGa0Khfk951rXOM3/xaLAxb2iwP/F6sqP06DjD/iPDfshyDKhPDhFV0g7QgE6yDJxLN8mDh/1EYwDP/QW5nXcIdl13BbmEvOF/q0KmxZ9ICwlLCX7IbAdHhubFjcOiQWo/Kzzo++j78nxEvMS81H2hf6OBzQLWgjWBTgJ5g4lEY8NtgQu+dvuV+ig4wXeIdl/1X/VIdkF3qDjFuZQ4oPf8uCg42jqYvBR9qj88v98/0b+PfzZ+Yv7ugErCrIT6hmpFyURjgcm/7b9JgM0C7ITqRfDGMMYYBz7IaYolDDIMn43ATp+N3cu+yGYFbYEcfJQ4iHZWtch2dTaddyD3/LgBd5/1WzPj9MF3j3nYOto6mjq2+4/9NL4d/rS+NX1EvOj78nxd/qJBV0QHhssJZQwfjcWNXEsDh/mDoX+rPOj76PvMe1l6VfoZelO7KPvzPQF/NIGmBWLI4EqgSosJbAdqRebFuoZsB0eGyUROAknBiYDqPwP+Kj8WgiYFQ4fiyP7IakX1gUL7tTaOM2iwKm3ALEAsci6X8OCyDjNIdlO7FgDoBRgHPshpih3LncugSp9IKAULgdR9hbm1NqJ0TjNgsiCyDjNf9WD32DrD/jyAHsGVAyyE2AciyOmKKYoiyPDGDcO0gadAv8BewY3DpgVYBx9IA4f6hmpF7AdgSqUMMgydy6BKosjYByyEy4Hyftx8k7sV+gW5qDjddyJ0f/FosCiwP/F6sp/1Rbm0vgnBisKrwnxB8cIwQs3DjcOwQt7Bmf/cvjJ8WXpg99/1TjNOM2J0SHZoONi8PL/JRF9IHEsFjV+N8gypihgHF0Qewa2/VP1C+5o6mjqaOpo6mXpYOvb7lH2cQDxBzgJjgfWBdYFOAnuDF0QmBXDGJsWng/HCHUE9gK2BCsKoBT7IXEsFjUBOsgy3yabFnUEP/Rl6eLkoOMW5hbmFuY951foYOvJ8XL4Z//WBSsKNw5dEDcOrQqMA8j2V+gF3iHZIdkh2SHZIdnU2vLgTuw9/FQMmxbDGKAU5g4rCvsDLvlo6gXef9WJ0YLIosDFvf/FIdlx8nsGshMOH6YoyDIBOjtCV0iZS5lLO0IBOpQw+yH1EQsBP/Tb7jHtTuxg62jqMe1i8NvuZekW5k7shflaCPURmBWgFDcO8QdABYkFQAVABScGLgfHCHsGwwNzApoBhf4u+azzo+8x7THt2+7b7tvuC+6j72LwcfJi8FfoBd4h2SHZ1Npa14/TWtdQ4tvuUfZ3+nz/8Qf1EcMYYBx9IH0gsB3qGcMY6hkeG5sWjw11BGP9hfnM9DHtZems89YFHht3Ll4/V0iZS5lLO0LIMg4frQoB/i751fUL7hbmg9/U2tTa1Noh2XXc8uAW5j3nYOuj7xrxo+9l6fLg1Noh2SHZWtd/1SHZ8uBl6azzhf7uDMMYfSCLIywl3yb7IeoZshPmDjQL1gV8/4X5UfZR9i75hABUDMMYDh99IGAcsB37ISwlfSCbFuYOjgdKAj381fXM9FH21fUS88z0wwA3DuoZiyOmKHEsgSr7IZgVxwg9/Gjqj9PFvb2pLpmSlC6Z0aFzrcW9bM+D3z/0ewb1EcMYYBz7Id8mcSxxLIsjwxjuDCUBOffb7j3n1Npsz+rKgsg4zWzPj9N13Gjqi/tUDB4b3yaUMH43Xj87QjhFO0IBOpQwiyPqGZ4PJwaZAA4A+QStCp4PmBUeG30giyOLIywlgSoWNV4/Xj9+N98mshN0/FDi6sqpt72pl52SlJKUl51zrcW9bM/y4KPvqPzxB10QHhumKMgyfjeUMIsj9RHDAKPvIdmiwHOt0aHRoXOtosB/1WDrcwKYFYsjcSx3Lncudy6UMJQwcSz7IZgVLgcm/yT+LAC//g/4yfFO7GDraOpg62Lw0vgmAzQL5g4lEfURshOYFZsWwxiwHSwldy7IMsgydy6mKLAd5g5KAqb3Me3y4H/VbM84zYnRf9Va19TaoOPb7mP9rwn1ER4biyMsJX0gmxbuDLoBEvPy4InR6sqCyILIbM9a16DjC+7M9MD63AHBC5sWfSDfJoEqcSzfJqkXmgFo6lrXgsiiwMi6yLrFvV/DOM113DHtPf/mDrAddy6hPABPI1ppYi9eQ1aZS14/FjWBKg4fng8lAWLwg9+J0V/DosCiwF/Dgsg4zVrXFuYH++YOsB2mKHcudy6BKt8mfSCbFisKJv/M9E7sFuaD33Xcddzy4OLkYOvJ8YX5JwagFPshgSqBKosjqRdaCHT8GvFQ4mzPyLrdpZedl529qam3bM9X6Kj8wQuyEx4biyN3Ln43Xj87QldIV0g4RaE8cSybFib/YOuD3wXe4uTb7nT8rQqpF30gLCX7IWAcmxYlETQLJwaZAEr7wPoF/Er7D/is8xrxo+9O7BbmUOJQ4vLg8uCD33XcIdmJ0erK/8X/xTjNIdkW5sz0JgOeD5sWmxYlETcO9RHDGOoZshM4CQH+zPTb7gvuMe2j79L4JgPuDKAUsB0sJXEslDDIMn43ATqhPAE6yDKLI6AU+wPM9DHtC+4592f//wHcAZ0CiQVaCK8JrQruDF0QJRGPDY4H2gDZ+dvug9+J0V/DZ7S9qd2l3aUAsaLAbM913FforPMm/y4HVAz1EZgV6hlgHLAdDh99ILAdoBRYA8nxoOMh2Y/Tj9OP04/Tj9OP01rX8uBx8i4HDh8WNVdIjVJDVo1SAE84RX43gSp9IB4bmBWPDXsGnQIm/yr6cvgB/q0KwxgsJZQwATpeP6E8yDKLI6AUwwBX6DjNqbe9qdGhLpkumZedvanIuurKIdll6YX5LgclEZsWHhsOHw4fHhuYFcELv/5O7CHZ6sr/xf/FgsiCyOrKidEF3qPvNwSbFosjcSx3LoEqLCWwHcMYmBWYFakX6hkeG+oZqReYFV0QLgdG/tn5PfwkAo4Hxwh7Bh0AU/Ux7WDrGvGo/FQM6hmLI98m3yaLIw4fwxjPEjgJJP5T9dvuZeni5FDiUOKg4xbmV+gx7dX1Z/8nBq8Jjw3PEpgVoBQlEVQM+QSm96Djj9PqyjjNf9UF3qDjPecx7WLwzPQF/HsGzxKwHYsjLCUsJfshYBygFOYOrQpYA3L4aOrU2mzP/8XFvcW9X8OJ0eLk2fkrCpgVDh8sJaYogSqUMKE8V0gATwBPmUteP8gyDh/HCMnx1NrqysW9qbcAsWe0yLpfw4nRUOI591QMDh9xLBY1fjd+N5Qw3yZgHJ4PyAJT9eLkj9OCyF/D6sp/1fLgTuzA+jQL6hksJXEsFjWhPAE6lDAOH68JcfLU2l/DALG9qb2pc62pt//FWtdl6cz0i/v2Al0Q+yF3LgE6O0I7QqE8lDD7IZsWNw6OB3sB2fkS89vuo+8S81H2hfmj/vsDJwY4CY8NJRHPEvURng83DsELxwgnBkAF1gVABQsBpvcL7j3noOOg41Dig98h2YnR6srqyjjNf9Xy4Nvui/v5BK8JVAyeD6AUwxgeG8MYshNUDFgDdPyF+Qf72vw9/D38CwFaCOYO9RElEc8SqRcOHywldy4WNX43yDLfJuoZ7gxABUEBRv6N/boBLgcrCjgJ1gULAXf6P/TJ8T/0OfcH+wr9v/7/AXUEWAMm/y75GvE959Ta6srFvWe0Z7TIuqLAgsiJ0VrX1NqD31foyPYuB5gV+yGBKsgyFjXIMoEqDh8lEcMD1fVX6CHZOM3/xaLAxb3FvV/Df9Xb7q0KiyMWNTtCV0iZS5lLmUuZS1dIXj+UMGAcwQtzAmb+B/uF+QX89gKPDeoZLCV3LhY1FjXIMncu3yZgHFQMLvni5I/TX8NntNGhLpkumdGhALHIul/DbM8F3jHtdPytCpgV6hmbFvUR5g7mDl0QXRBUDLYEKvpg69TaOM2CyOrKWteg49vu2fl7Bl0QmxbqGR4bDh+LI98mpiiBKnEscSyLI8MY7gyJBSUBRv7J+yr6Kvoq+oX5cvjV9azzU/Uu+Z0Cjw2pF2AcHhubFp4PLgdS/1H2TuxQ4nXcddyD36DjoOPi5FfoMe2s86b3Svvb/lgDrQrPEuoZDh99IOoZ9RErCokF8gDA+qzz2+7b7tvuMe1o6lfoV+hl6WDro+9T9QX8JQFYA7YELgfBC/UR6hn7IaYogSr7IeYOd/po6lDig9/y4OLkYOvJ8ab3jf3WBTcOmBVgHIsjdy6hPFdImUuZSzhFfjeLI8ELrPMF3mzPgsiiwMW9qbept6m3xb3qynXcMe0F/McIoBSwHd8mdy6UMIEqHhvSBj/0Pefy4AXe8uDi5FfoaOpO7NvucfKF+fYC5g6wHXEsFjV+N8gygSoOH10QZv5g6wXef9Vsz+rKgsiCyOrKj9OD3wvuZv6PDcMY+yGBKpQwFjUWNcgylDDIMpQwgSpgHMELdPzb7qDjWtdszzjNj9N13BbmcfLb/isK9RGpF2AcDh99IA4fHhupF6AUng9aCEr7YOt13InR/8Vfw//F6sqP0yHZg98W5k7sGvE/9FH2cvja/CQCewZaCFoIQAXDANn5cfJi8Kzzi/u2BDQLNw43DsELxwguBzgJNw6gFOoZDh8sJXEsyDIWNZQwpiiwHZgV5g6vCfkEyAKMA/sDCwGF+RrxaOo95z3nV+hg69vurPPS+CT++QSPDaAUshM0Cx0AOfej7z3nBd5a14nR6sqCyP/F6sqJ0QXeaOrI9sgCjw2pF7AdiyOBKncucSzfJmAczxLxB9L4Zel13I/TidGJ0X/V1Nqg407sGvFR9mb+xwiYFQ4f3yZxLJQwyDJ3Lt8msB2yE+4MWggnBrYE+QR7Bi4H0gaOBzgJrQpUDI8NzxLDGA4fLCWLIx4bng+2BNL4V+h/1f/FyLqpt8i6osCCyGzPf9UF3hbmC+7S+DcE7gyyE2Ac3yZ3LnEsiyObFokFzPQW5lrX6sqCyOrKidEh2Rbm1fXWBZsWpigBOjhFOEVePxY1gSqLI7AdzxIuB9r8P/RO7OLkoOM952DryfHZ+Z0C7gyyE6AU5g6vCVoI8QfIAi75YvBX6PLgddwh2VrXIdl13BbmrPN8/ycGLgc3BAsBnQKOB8cIdQSo/D/0YvAa8dX1Rv57BjcOoBSbFqkXmBWeD3sGOP0P+Mj21fVT9cj2i/vj/0oCcwK//i751fUu+Y4HwxjfJqYofSCbFu4MewEa8fLgf9WJ0Y/T1No951H2dQSgFN8mlDABOn43gSrDGO4M7gz1ESURKwoLAT/04uQh2Y/Tf9XU2lDiTuxy+HMCJwbb/mLwV+g951foPedQ4lDioONX6HHyRv5ABa8JNw6yE6kX6hlgHB4bmBXuDCcGo/4P+NX1U/XI9qP+wQvqGX0giyPfJnEsFjWhPH43iyOtCsnx8uB/1erKX8OiwP/Ff9VO7B0A7gyyE+oZDh/fJpQwATp+N5Qw3ybqGa8JzPQF3oLIZ7RzrQCxxb1sz4PfyfGtCqYoO0KZS5lLXj9+N5QwgSosJakXZv6g44/TX8NntHOtc62pt4LIg9/Z+eYO6hlgHGAc9RF1BMj2V+gh2WzPidEh2XXcWtdsz+rKgsg4zYPfGvEkAiUR6hnqGcMY6hmbFlQM9gJBAYkFNAslEWAcpijIMjtCmUuZSztCyDKLI5gVwQtzAg/4o+9l6Wjq2+4S8z/0U/XS+HsBNw6wHaYocSxxLCwlYBybFuYOfP9g6yHZidGJ0X/V1Np13HXcoONy+F0QDh/fJt8mLCUOH8MYng9zAsnxUOJa1+rKosCpt2e0Z7TIujjN4uQK/eYOqRfDGJsWoBSeD/EHUv+F+QX8tgSeD6kXqReyE8MYLCXIMl4/V0iZS1dIO0J+N4EqshM4/WDrddyP02zPOM2CyOrKBd5R9u4M6hnqGZ4P9f5g69TaOM1fw8W9Z7TdpZedl53dpXOtyLqP09vuNAv7IRY1Xj87QjtCO0J+N4sjVAw591foUOJQ4lDi8uAF3lDiC+6L++4M+yHIMl4/V0gATwBPO0LIMrAd8Qcu+RrxPed13H/Vf9WD3xrx+QSbFg4fDh8sJZQwfjfIMqYoYByYFfUR7gxKAj/0aOo951foMe3V9QH+TQAq+hLzMe1X6KDj1NqJ0erKOM04zYnRidF/1YPf2+7aALITDh99IH0gDh/qGZsWjw1K+2XpBd513IPf4uRO7Nn5KwoeG3cuXj9XSDhFXj8BOsgypiipFx0AV+ha1zjNX8OiwKLA/8WCyGzPddwa8fkEmxYsJXEscSyLI6AUewFl6SHZWtd/1WzPgshfw1/D6sqD39L4jw2pFx4bYBywHQ4fHhugFFQM0gY8AFH2YOvi5AXe1Nry4FH2Nw77IZQwFjXIMnEsgSqLI+YOU/UW5uLkaOox7QvuC+4a8aj8ng8sJX43OEWNUkNWjVKZSwE6+yEnBgvuddw4zf/F/8X/xTjNWtc959n5KwqYFWAc+yGLI4sjDh/PEgsByfEW5nXcj9P/xam3ALGpt+rKoOP1/psWpijIMqE8Xj+hPMgypij7IX0gDh8eG54PZ/8x7fLgddzy4GjqP/RR9lH2Svv1/kr7P/RO7FDiWteJ0WzPOM3qyjjNIdni5KPvhfkB/tL4o+8L7qzzP/Qx7aDjBd6D31DiPedO7GLwOfez/1oIqReBKqE8V0iNUiNaI1qZSxY1wxgq+gXebM9sz4nROM1szyHZC+7SBmAcpiiBKoEqgSpxLN8mHhtUDEEBLvlx8mjq8uAh2Y/Tf9UF3hrxxwiwHXEsATo4RVdIXj+UMPsh9REmAzn3o+8W5iHZ6sqiwKLAgsiJ0SHZddzi5KPvLvkK/cn7pvfb7hbmoOMW5mXp2+5T9Qr9rwnDGCwldy4WNQE6OEWZSwBPmUs7QsgyLCWpF8ELXQHV9T3nIdla1/Lgo+8B/lQM6hmLI30gqRdaCBrxWteCyF/DosCpt72pLpnCj5KU0aEAsYLI8uAP+K0K6hn7IYsjsB3qGakX9RGvCZoBhfkL7qDjPefI9vEHzxLqGQ4f+yEsJXEsdy6mKH0gsB19IIsjfSDqGV0Q+wMF/C75cvgH+10BOAmeD5sW6hmpFyUR7gzBC8ELKwo4CSsKWgj5BHUErQr1EZsW6hnqGakXmBUlEbYEcfLy4I/TOM3qyv/FosCpt2e0Z7TFvYnR4uTS+CsK6hmmKHcucSz7IaAUxwiZAIX52+6D32zPX8P/xYnRPed1BA4fFjVXSENWI1ojWo1SOEXIMrAdwQuN/Qvuddw4zTjNidFa11rX1Nqg4xLzQAWgFGAcsB3qGc8SrQrj/9vu1NqCyMW9Z7RzrWe0xb04zXXcYOuo/FoIwQuvCbYECv2F+Wf/WghaCIQAOfca8WLwyfE/9Cr6NwQlEX0gcSwWNRY1dy6LI+oZJRFABcz0V+ig44PfBd6g42LwqPzHCJgVLCXIMjtCV0hXSDtCAToWNXEsHhvIAjHtg99a13/VIdlQ4mLwo/43DrAdLCUsJR4b5g6OB1gDdPwa8fLgj9PqyoLI/8X/xerKj9NQ4sj2KwrqGX0gDh/qGakXmBXPEiUR5g7BC8cI1gVABfEHNAueD6kXDh+LI30gzxKdAlH2GvHJ8cnxV+jU2onR6srqyjjNf9Wg41H2JwZdEKkXHhvPEvsDzPQW5lrXOM3/xV/Dxb3IuqLAbM/y4Nvuyfs4CcMYgSqhPFdIV0g4RTtCoTyUMLAdWANX6InRX8PIusW9OM2g43T8oBSBKn43ATrIMoEqiyNgHKAUjw0nBir6aOry4IPfBd7y4FfoKvpdECwlfjc7QjhFXj9+N8gygSoOH1QMOfcW5gXe1NrU2nXcBd7y4FfoyfEP+NL4EvMx7WjqV+hQ4nXcf9U4zYLI6spsz3XcaOqF+SsKwxgsJcgyfjd+N8gydy6BKiwlsB2yEzgJJgOj/j38hfnM9KzzLvlzAjcOHhv7IfshHhuyEzQL3AE/9Ffog9+P0//FyLpntKm3yLqiwDjNBd4a8aP+JQHa/C75Kvra/Lb92fmj7+LkBd6D31DiPecL7tL48QfqGYEqyDJ+N8gypij7IcMYVAwkAr/+fP/yAPYC8Qc3Dp4PwQueD2Ac3yamKCwlfSAeG/UR8QeF/sz0ZemD33XcBd4W5hrxdPxaCOoZdy47QplLV0gBOqYowxitCtz9o+9Q4iHZbM9fw8i6yLrIul/DWtcx7SUBng+YFZgVshPmDq8JLgeMAz38cfI95wXeIdl/1YnRf9Wg4yr6zxLfJsgyoTw7QjhFV0g4RQE6gSrqGa0KJP4S807sYOsx7WLw1fVj/YwDxwivCS4HJwbSBi4H1gUAABLz4uR13FrXidGCyKLAosDqytTaV+ij78nxo+9g6z3n4uSg44Pfddx13FDi4uQ959vud/rWBSURDh9xLHcupigsJSwlLCWLIw4fqRfuDIQAzPQx7WXpPedl6XHyLADmDh4bfSD7IfshDh8OH30giyMOH8MYmxagFF0QrQr2Agf7zPSs84X5ugHxBzcOmxawHWAcmxbuDF0BUfZg66Dj8uAF3nXc1Noh2XXcoOMx7azzcviL+wr9o/4OAI//qPxR9hrxrPM59z/0YvDJ8Qf7wQt9IJQwoTw4RThFoTyUMH0gshNaCAf7TuyD31rXidFsz+rKgsiP0+Lki/s3DqkXYBwOH7AdwxhdENwBMe0h2f/FyLpntHOtvalntF/Dj9NQ4snxmgHuDLITHhuLI6YopiimKN8m+yHDGI8Nhf5O7AXeWtd13GXphfk4CakX+yEsJSwl+yGwHZgVjw04CfEHWAMP+DHtV+ho6mLw2fn5BJ4PmxYeG/shgSp3LnEspigsJbAdoBRaCHf6o+9O7BrxPfxaCCURmBWyE+4MJwZBAT38yPYa8T3nddyP0+rKosCpt6m3X8N/1T3nd/o4CbITsB2mKJQwlDBxLIsjHhugFDQLwwMdAGb+Zv7DADcErwnPEqkXqRebFpsWmxaYFTcOwwNK+z/0Me095/LgWtdsz+rKbM9a1/LgZelx8nf6Cv0H+9X1Me3i5AXe1NrU2iHZj9NszzjNbM9a1+LkU/WJBbITDh+mKJQwlDBxLN8mDh/1EbYEhfka8U7sYOvJ8YQA9REOH98mcSx3LpQwyDIWNZQwLCWYFccItv2j74Pfj9M4zWzPf9Wg49X1KwqwHXcuoTw4RThFoTx3Lg4fzxIuB6j8cfJX6CHZOM3qymzPWteg49vuOP3BC5gVmxbmDnsBzPRi8Brx2+5X6FDiddzU2iHZIdny4E7scvgmAzQLJRGpF7Ad+yGLI98mpijfJn0gmxbBCyYDJP6aAcELzxKgFKAUoBSgFPURwQuMAwH+cvjJ8WDrUOIh2X/Vj9N/1dTag9/i5FfoTuwx7WLwP/Q/9DHt4uSD39TaidGCyF/DX8NfwzjNddwa8UAFmBXfJn43Xj+hPBY1gSoOH8MYmxbDGB4boBR7BoX5yfHJ8dL4WAPBC/URwxgOHw4fqRfmDicGewFfAEb+B/vZ+QX8Dv/2AisKzxLDGOoZmxaYFWAc+yGLIywliyMOH8MYXRBdAWDrf9WCyOrKj9MF3mXpzPSN/VgDjgfHCIkFs/+F+RLzZekF3lrXidFsz2zPWteg43HycwL1EYsjyDI7QgBPQ1YAT14/gSqbFvkEhfli8BbmBd7U2gXe4uRO7Mz0i/udAvEH0gaz/6b3GvEL7qPvEvPV9azzYOvy4CHZj9Nsz4nRWtch2XXcoONo6gvu2+6j7z/02flS/9IGng+gFKAUmBWpF6AUKwoH+wvuZekx7dX1SgI3DpsW6hlgHA4fHhuyEysK8gBy+GLwYOtO7MnxY/3uDGAcpih3LnEsLCWwHakXzxLmDjgJJv8S82jqYOtT9Q4ArwnDGHcuoTw7Ql4/FjWLI+YOyfto6gXef9Vsz4nRidGP03/V1NqD3+Lk2+4593T8Dv84/YX5UfbM9Kb3PACvCeYOng+PDV0QqRewHX0gfSCwHcMY9RErCowDnQKJBTgJ7gxdEJ4PwQsmA3f6Ufaj71DiidH/xV/DgsiP01DiGvF0/J0CQAXWBfIAUfZl6SHZ/8VntHOtvalzrci6bM9l6fkEHhuBKhY1AToBOn43yDKLI8ELC+6P0//FX8OCyCHZP/SyE3cuO0IATyNaI1qNUjhFyDIOH/EHEvNQ4lrXf9XU2lDiTuwS8y75iQXPEh4bDh+wHakXng+vCXsGNwQLAXEAjgf1EakXqRepF6kXshOPDYkFjf1R9snxMe1o6mjqMe2j7xrxYvAx7WDrTuzb7mLwC+4951DioOM952Dr2+5x8i75jAPmDsMYfSDfJqYoLCXqGe4MwwDS+A/4Jv9UDB4b3yZ3LsgyyDLIMpQwgSqpF6P+PeeJ0aLAZ7QAsci6OM2D36Pvhf4rCp4Png/uDEAFKvpO7NTa6srIugCxALFntKm3xb3qyvLgB/ugFKYoyDKUMN8mqRevCb/+pvfI9nT8wwN7BnsG8Qc3DqkXDh+LI98mLCVgHF0QLgdYAzcEjgfHCNIGQQF0/CT+wwPWBXsGwQslEZgVqReYFfURshOpF7AdLCWBKoEqpiiLI+oZrwnI9hbm1Np/1YnRf9UW5nL40gY3DuYONw43DjQLSgJT9RbmWtfqysW9Z7QAsci6gsh13MnxxwhgHHEsoTxXSABPV0ihPHEsqReJBTn3YOvi5FDiFuYL7nL4JwayE7AdsB2bFjcOWAPI9k7sFuag4+Lk4uTi5OLk4uQW5j3nMe2s88j2zPQL7lfo4uSg46DjUOLy4HXcWtda14PfC+4O/+YOHht9IGAcmBVUDPYCB/ty+C75Lvk59w/4Af5ABSsKjw0lETcO9gJy+A/4yAJdEOoZ+yHfJqYo3yZ9IOoZshNdEOYONAv2AtX1V+hQ4qDjaOo591oI6hmmKBY1oTxeP6E8fjdxLGAcrQpR9qDj1Np/1YnRidEh2fLgaOoS8y75Y/2aASYDXQE4/ab3EvOj707sYOtg62DrYOsS85oBXRAOH6YocSxxLKYo+yHDGOYOjgf2Amb+D/is88z0yPYu+XT8cQBABccI0gZdAcn7yPas83HyYvBO7GXpFuby4AXe1Np/1erKX8OiwILIj9MF3mXpU/XJ+wX8yftG/vsD7gygFMMYmxY0C6j8Me3y4NTaoOMS8yQCrQolER4bgSoBOjhFmUtXSF4/lDAOH48Nhf4S89vuGvHM9D/0cfKs83L4of9ABVoIxwivCS4HmgFm/rb9hf7yAHMCmgGMAzQLmBUOHywlLCWLI2Acng/IAkr7UfbJ8THtV+ji5IPf1Npa13XcV+g/9Nz99gL7A8gC2/4P+HHyTuxX6D3nZeli8HL4Zv7IAi4HVAxdEM8SmxbqGQ4f3yZxLHculDDIMpQwgSr7IR4bJREmAwvuIdmCyF/DgsiJ0dTaUOJg68z0wPpm/p0CdQT2Atz9zPRX6CHZ6spfw6LAxb3FvcW96soh2WXpi/s3Dg4f3yb7IZgVNAt1BCwAyftT9THtZekL7nL4tgQlEQ4fdy4WNcgypiiwHZsWzxJdEDcOrwkdAHHyV+ji5D3nyfH7A5sWLCWmKN8mLCX7IQ4fHhupF7ITng/uDK0KjgfWBYkF+wO6AaP+wPp3+r/+NwTHCDQLNAvHCHUERv4P+KzzTuyD34/Tgshfw1/DgshszyHZUOJo6lP12gCtCpgV+yF3LhY1fjeUMCwlmxbHCNoAJP6j/vYCxwjuDJ4PmxawHX0gsB31EfkE2fka8WjqFuby4AXeg9+g4+LkPefb7tL4Z/+P/8D6UfYS8wvuV+ji5FDi1No4zaLAqbfIuurKUOIk/rITfSAsJSwlfSCpF1QMjAMF/FP1o+9l6aDj8uA95xLzjf2aAf8B+wNaCDcOmBUOH6Yody6BKn0goBStCvsDJv/A+tX1C+4W5lDiPedi8Cr61gXPErAdLCWmKHEsyDJ+N343yDIsJc8SDgBx8mjqFubi5FfoMe3J8VH2yfv/AfkEnQI9/z38pvej7z3nUOIF3tTaIdnU2lDiMe2L+zQL6hksJXculDCmKH0gHhupF/URNAtzAi75cfIa8cj2nQJdELAd3yamKIsj6hmeD9YFo/7I9jHtoOMh2YnROM3qyurKbM+P01rX1Nry4D3ncfLJ+2P9pvdi8GDrZell6WDryfGm99L4OffV9azzYvBi8NX1Af6JBVoIxwjBC/UR6hmLI3EslDBxLIsjmxY4CUoCyAI4CV0QshOyE88SXRCPDcELVAzmDjcOWgjb/lH2C+4W5lDi4uRg63HySvvSBqAUiyOBKoEqiyPqGTcOiQXb/tX1Tuzi5IPfddwh2dTa4uQ/9CYDng/qGQ4fDh8eG5sWJRE4CT3/yPYL7hbmg9+D3z3nP/QlATQLmBWwHYsj3ybfJiwl+yEOH+oZ9RGPDVQMrQrWBcn7YOsF3n/VbM+J0VrXddzy4BbmV+hO7BLzCv3SBjcOng+vCXT8YvBg62jqTuwx7WjqaOpi8KzzrPPM9Ar98QclEZsWqRf1ES4HqPzJ8Rbm1NqJ0TjNj9MF3mDr2fmOB/URqReyE/EHY/0P+FH2pvcH+9r82fk591H2pveL+ycGshN9IIEqdy6UMJQwcSwsJWAcmxaeD60KLgeOBzQLjw2gFIsjcSxxLIEqLCUOH6kXXRAuB8D6YvBl6RbmoOOD39TaIdl/1TjN/8X/xerKj9Mh2dTag9895wvuzPTE/zQLmBUeG8MYmBWbFsMYHhseG2AciyOmKHEslDAWNRY1yDIWNRY1cSywHVQMjf0S82DrBd6J0erKX8Nfw+rKWtdQ4hbm4uSg41Diddx/1WzP6sr/xaLAyLqpt8i6gsgh2XHy5g7fJn43Xj84RVdIV0g7QgE6gSoeG+YOCwFx8mDryfFm/jgJ9RGbFsMYmBWPDScGSgIO/yr6U/Xb7hbmUOIF3iHZOM2iwKm3xb2P0+Lko+/S+KH/3AGMA3sGrQqpF4EqATo7QjhFO0IBOncu3ybqGY8NewbBC5sWDh8sJXcuATpeP6E8lDCwHccID/gL7j3ng9+D3z3nYOs954PfBd6g4xbmg98h2VrXWtda19TaBd4F3tTaIdkh2VrXIdkW5tL4VAwOH5QwoTxXSI1SmUsBOosj0gZO7CHZidFsz3/VoOPV9VoIXRCeDysK3AHA+lH2GvFO7GDraOoW5vLgg9+D3yHZ6srFvcW9gsgh2WjqcvivCakXwxjmDsgChfmm9yT+VAxgHCwldy4BOqE8FjWBKn0g6hmYFY8NWgh7Bq8JXRCyE54PWghzAkr7P/RX6HXcf9Uh2fLgFuZo6hLznQLuDF0Q5g6vCXsGNwTWBScGQAXWBXsGWAMH+wvuUOIW5g/4VAwOH8gyO0IAT41SV0gWNYsjJRH1/gvuBd5/1dTa4uQL7sz0Cv3WBSsKiQUq+nHy1fUk/nsBewEdADj9Y/09/wf7Me0F3lrXddxX6D/0o/4AANr82fnJ8VDiIdla13Xc4uRg66zzcQAlER4bYByYFY8NdQRT9fLgidGJ0dTaPedT9cgCVAyyE88SLgcu+cj2PfxxAPsDOAn1ER4bfSB9IOoZ5g6JBT38GvFg62DrC+5T9T38yfvJ8eLk1Noh2QXeUOJg63T8oBR3LjtCmUtXSAE6iyM4CaPvg98h2fLgrPPDA/UR+yGUMJQwpigOHx4bsB0OH2AcqRegFM8SXRBYA6Pv8uDU2nXcBd6D36DjyfGZAFoI1gUq+jHtUOJ13A==\" type=\"audio/wav\" />\n",
       "                    Your browser does not support the audio element.\n",
       "                </audio>\n",
       "              "
      ],
      "text/plain": [
       "<IPython.lib.display.Audio object>"
      ]
     },
     "execution_count": 12,
     "metadata": {},
     "output_type": "execute_result"
    },
    {
     "data": {
      "image/png": "[encoded data removed]",
      "text/plain": [
       "<Figure size 1080x504 with 1 Axes>"
      ]
     },
     "metadata": {
      "needs_background": "light"
     },
     "output_type": "display_data"
    }
   ],
   "source": [
    "track_i = viz.plot_random_track(ds_train)\n",
    "track, *_ = ds_train[track_i]\n",
    "ipd.Audio(audio.mu_expand(track.squeeze().numpy(), p), rate=p.sampling_rate)"
   ]
  },
  {
   "cell_type": "markdown",
   "metadata": {
    "tags": [
     "papermill-error-cell-tag"
    ]
   },
   "source": [
    "<span id=\"papermill-error-cell\" style=\"color:red; font-family:Helvetica Neue, Helvetica, Arial, sans-serif; font-size:2em;\">Execution using papermill encountered an exception here and stopped:</span>"
   ]
  },
  {
   "cell_type": "code",
   "execution_count": 13,
   "metadata": {
    "execution": {
     "iopub.execute_input": "2021-08-28T09:47:31.051856Z",
     "iopub.status.busy": "2021-08-28T09:47:31.051465Z",
     "iopub.status.idle": "2021-08-28T09:47:35.041111Z",
     "shell.execute_reply": "2021-08-28T09:47:35.040258Z"
    },
    "papermill": {
     "duration": 4.007794,
     "end_time": "2021-08-28T09:47:35.041420",
     "exception": true,
     "start_time": "2021-08-28T09:47:31.033626",
     "status": "failed"
    },
    "tags": []
   },
   "outputs": [
    {
     "name": "stderr",
     "output_type": "stream",
     "text": [
      "  0%|          | 0/2990 [00:00<?, ?it/s]/home/purzelrakete/src/github.com/feldberlin/wavenet/.venv/lib/python3.7/site-packages/torch/nn/parallel/_functions.py:68: UserWarning: Was asked to gather along dimension 0, but all input tensors were scalars; will instead unsqueeze and return a vector.\n",
      "  warnings.warn('Was asked to gather along dimension 0, but all '\n",
      "1:0 loss 6.04245 lr 8.800162e-04:   0%|          | 1/2990 [00:03<2:58:13,  3.58s/it]\n"
     ]
    },
    {
     "ename": "RuntimeError",
     "evalue": "Caught RuntimeError in replica 0 on device 0.\nOriginal Traceback (most recent call last):\n  File \"/home/purzelrakete/src/github.com/feldberlin/wavenet/.venv/lib/python3.7/site-packages/torch/nn/parallel/parallel_apply.py\", line 61, in _worker\n    output = module(*input, **kwargs)\n  File \"/home/purzelrakete/src/github.com/feldberlin/wavenet/.venv/lib/python3.7/site-packages/torch/nn/modules/module.py\", line 1071, in _call_impl\n    result = forward_call(*input, **kwargs)\n  File \"/home/purzelrakete/src/github.com/feldberlin/wavenet/wavenet/model.py\", line 112, in forward\n    loss = F.cross_entropy(x, y)\n  File \"/home/purzelrakete/src/github.com/feldberlin/wavenet/.venv/lib/python3.7/site-packages/torch/nn/functional.py\", line 2824, in cross_entropy\n    return torch._C._nn.cross_entropy_loss(input, target, weight, _Reduction.get_enum(reduction), ignore_index)\nRuntimeError: CUDA out of memory. Tried to allocate 64.00 MiB (GPU 0; 10.76 GiB total capacity; 8.54 GiB already allocated; 41.44 MiB free; 9.58 GiB reserved in total by PyTorch)\n",
     "output_type": "error",
     "traceback": [
      "\u001b[0;31m---------------------------------------------------------------------------\u001b[0m",
      "\u001b[0;31mRuntimeError\u001b[0m                              Traceback (most recent call last)",
      "\u001b[0;32m<ipython-input-13-659185871916>\u001b[0m in \u001b[0;36m<module>\u001b[0;34m\u001b[0m\n\u001b[1;32m      1\u001b[0m \u001b[0mutils\u001b[0m\u001b[0;34m.\u001b[0m\u001b[0mseed\u001b[0m\u001b[0;34m(\u001b[0m\u001b[0mp\u001b[0m\u001b[0;34m)\u001b[0m\u001b[0;34m\u001b[0m\u001b[0;34m\u001b[0m\u001b[0m\n\u001b[0;32m----> 2\u001b[0;31m \u001b[0mt\u001b[0m\u001b[0;34m.\u001b[0m\u001b[0mtrain\u001b[0m\u001b[0;34m(\u001b[0m\u001b[0;34m)\u001b[0m\u001b[0;34m\u001b[0m\u001b[0;34m\u001b[0m\u001b[0m\n\u001b[0m",
      "\u001b[0;32m~/src/github.com/feldberlin/wavenet/wavenet/train.py\u001b[0m in \u001b[0;36mtrain\u001b[0;34m(self)\u001b[0m\n\u001b[1;32m    104\u001b[0m         \u001b[0;32mfor\u001b[0m \u001b[0mepoch\u001b[0m \u001b[0;32min\u001b[0m \u001b[0mrange\u001b[0m\u001b[0;34m(\u001b[0m\u001b[0mcfg\u001b[0m\u001b[0;34m.\u001b[0m\u001b[0mmax_epochs\u001b[0m\u001b[0;34m)\u001b[0m\u001b[0;34m:\u001b[0m\u001b[0;34m\u001b[0m\u001b[0;34m\u001b[0m\u001b[0m\n\u001b[1;32m    105\u001b[0m \u001b[0;34m\u001b[0m\u001b[0m\n\u001b[0;32m--> 106\u001b[0;31m             \u001b[0mtrain_loss\u001b[0m \u001b[0;34m=\u001b[0m \u001b[0mrun_epoch\u001b[0m\u001b[0;34m(\u001b[0m\u001b[0;34m\"train\"\u001b[0m\u001b[0;34m)\u001b[0m\u001b[0;34m\u001b[0m\u001b[0;34m\u001b[0m\u001b[0m\n\u001b[0m\u001b[1;32m    107\u001b[0m             \u001b[0;32mif\u001b[0m \u001b[0mtrain_loss\u001b[0m \u001b[0;34m<\u001b[0m \u001b[0mbest\u001b[0m\u001b[0;34m[\u001b[0m\u001b[0;34m\"train\"\u001b[0m\u001b[0;34m]\u001b[0m\u001b[0;34m:\u001b[0m\u001b[0;34m\u001b[0m\u001b[0;34m\u001b[0m\u001b[0m\n\u001b[1;32m    108\u001b[0m                 \u001b[0mbest\u001b[0m\u001b[0;34m[\u001b[0m\u001b[0;34m\"train\"\u001b[0m\u001b[0;34m]\u001b[0m \u001b[0;34m=\u001b[0m \u001b[0mtrain_loss\u001b[0m\u001b[0;34m\u001b[0m\u001b[0;34m\u001b[0m\u001b[0m\n",
      "\u001b[0;32m~/src/github.com/feldberlin/wavenet/wavenet/train.py\u001b[0m in \u001b[0;36mrun_epoch\u001b[0;34m(split)\u001b[0m\n\u001b[1;32m     70\u001b[0m                 \u001b[0;32mwith\u001b[0m \u001b[0mtorch\u001b[0m\u001b[0;34m.\u001b[0m\u001b[0mset_grad_enabled\u001b[0m\u001b[0;34m(\u001b[0m\u001b[0mis_train\u001b[0m\u001b[0;34m)\u001b[0m\u001b[0;34m:\u001b[0m\u001b[0;34m\u001b[0m\u001b[0;34m\u001b[0m\u001b[0m\n\u001b[1;32m     71\u001b[0m                     \u001b[0;32mwith\u001b[0m \u001b[0mamp\u001b[0m\u001b[0;34m.\u001b[0m\u001b[0mautocast\u001b[0m\u001b[0;34m(\u001b[0m\u001b[0menabled\u001b[0m\u001b[0;34m=\u001b[0m\u001b[0mmodel_cfg\u001b[0m\u001b[0;34m.\u001b[0m\u001b[0mmixed_precision\u001b[0m\u001b[0;34m)\u001b[0m\u001b[0;34m:\u001b[0m\u001b[0;34m\u001b[0m\u001b[0;34m\u001b[0m\u001b[0m\n\u001b[0;32m---> 72\u001b[0;31m                         \u001b[0mlogits\u001b[0m\u001b[0;34m,\u001b[0m \u001b[0mloss\u001b[0m \u001b[0;34m=\u001b[0m \u001b[0mmodel\u001b[0m\u001b[0;34m(\u001b[0m\u001b[0mx\u001b[0m\u001b[0;34m,\u001b[0m \u001b[0my\u001b[0m\u001b[0;34m)\u001b[0m\u001b[0;34m\u001b[0m\u001b[0;34m\u001b[0m\u001b[0m\n\u001b[0m\u001b[1;32m     73\u001b[0m                         \u001b[0mloss\u001b[0m \u001b[0;34m=\u001b[0m \u001b[0mloss\u001b[0m\u001b[0;34m.\u001b[0m\u001b[0mmean\u001b[0m\u001b[0;34m(\u001b[0m\u001b[0;34m)\u001b[0m  \u001b[0;31m# collect gpus\u001b[0m\u001b[0;34m\u001b[0m\u001b[0;34m\u001b[0m\u001b[0m\n\u001b[1;32m     74\u001b[0m                         \u001b[0mlosses\u001b[0m\u001b[0;34m.\u001b[0m\u001b[0mappend\u001b[0m\u001b[0;34m(\u001b[0m\u001b[0mloss\u001b[0m\u001b[0;34m.\u001b[0m\u001b[0mitem\u001b[0m\u001b[0;34m(\u001b[0m\u001b[0;34m)\u001b[0m\u001b[0;34m)\u001b[0m\u001b[0;34m\u001b[0m\u001b[0;34m\u001b[0m\u001b[0m\n",
      "\u001b[0;32m~/src/github.com/feldberlin/wavenet/.venv/lib/python3.7/site-packages/torch/nn/modules/module.py\u001b[0m in \u001b[0;36m_call_impl\u001b[0;34m(self, *input, **kwargs)\u001b[0m\n\u001b[1;32m   1049\u001b[0m         if not (self._backward_hooks or self._forward_hooks or self._forward_pre_hooks or _global_backward_hooks\n\u001b[1;32m   1050\u001b[0m                 or _global_forward_hooks or _global_forward_pre_hooks):\n\u001b[0;32m-> 1051\u001b[0;31m             \u001b[0;32mreturn\u001b[0m \u001b[0mforward_call\u001b[0m\u001b[0;34m(\u001b[0m\u001b[0;34m*\u001b[0m\u001b[0minput\u001b[0m\u001b[0;34m,\u001b[0m \u001b[0;34m**\u001b[0m\u001b[0mkwargs\u001b[0m\u001b[0;34m)\u001b[0m\u001b[0;34m\u001b[0m\u001b[0;34m\u001b[0m\u001b[0m\n\u001b[0m\u001b[1;32m   1052\u001b[0m         \u001b[0;31m# Do not call functions when jit is used\u001b[0m\u001b[0;34m\u001b[0m\u001b[0;34m\u001b[0m\u001b[0;34m\u001b[0m\u001b[0m\n\u001b[1;32m   1053\u001b[0m         \u001b[0mfull_backward_hooks\u001b[0m\u001b[0;34m,\u001b[0m \u001b[0mnon_full_backward_hooks\u001b[0m \u001b[0;34m=\u001b[0m \u001b[0;34m[\u001b[0m\u001b[0;34m]\u001b[0m\u001b[0;34m,\u001b[0m \u001b[0;34m[\u001b[0m\u001b[0;34m]\u001b[0m\u001b[0;34m\u001b[0m\u001b[0;34m\u001b[0m\u001b[0m\n",
      "\u001b[0;32m~/src/github.com/feldberlin/wavenet/.venv/lib/python3.7/site-packages/torch/nn/parallel/data_parallel.py\u001b[0m in \u001b[0;36mforward\u001b[0;34m(self, *inputs, **kwargs)\u001b[0m\n\u001b[1;32m    166\u001b[0m                 \u001b[0;32mreturn\u001b[0m \u001b[0mself\u001b[0m\u001b[0;34m.\u001b[0m\u001b[0mmodule\u001b[0m\u001b[0;34m(\u001b[0m\u001b[0;34m*\u001b[0m\u001b[0minputs\u001b[0m\u001b[0;34m[\u001b[0m\u001b[0;36m0\u001b[0m\u001b[0;34m]\u001b[0m\u001b[0;34m,\u001b[0m \u001b[0;34m**\u001b[0m\u001b[0mkwargs\u001b[0m\u001b[0;34m[\u001b[0m\u001b[0;36m0\u001b[0m\u001b[0;34m]\u001b[0m\u001b[0;34m)\u001b[0m\u001b[0;34m\u001b[0m\u001b[0;34m\u001b[0m\u001b[0m\n\u001b[1;32m    167\u001b[0m             \u001b[0mreplicas\u001b[0m \u001b[0;34m=\u001b[0m \u001b[0mself\u001b[0m\u001b[0;34m.\u001b[0m\u001b[0mreplicate\u001b[0m\u001b[0;34m(\u001b[0m\u001b[0mself\u001b[0m\u001b[0;34m.\u001b[0m\u001b[0mmodule\u001b[0m\u001b[0;34m,\u001b[0m \u001b[0mself\u001b[0m\u001b[0;34m.\u001b[0m\u001b[0mdevice_ids\u001b[0m\u001b[0;34m[\u001b[0m\u001b[0;34m:\u001b[0m\u001b[0mlen\u001b[0m\u001b[0;34m(\u001b[0m\u001b[0minputs\u001b[0m\u001b[0;34m)\u001b[0m\u001b[0;34m]\u001b[0m\u001b[0;34m)\u001b[0m\u001b[0;34m\u001b[0m\u001b[0;34m\u001b[0m\u001b[0m\n\u001b[0;32m--> 168\u001b[0;31m             \u001b[0moutputs\u001b[0m \u001b[0;34m=\u001b[0m \u001b[0mself\u001b[0m\u001b[0;34m.\u001b[0m\u001b[0mparallel_apply\u001b[0m\u001b[0;34m(\u001b[0m\u001b[0mreplicas\u001b[0m\u001b[0;34m,\u001b[0m \u001b[0minputs\u001b[0m\u001b[0;34m,\u001b[0m \u001b[0mkwargs\u001b[0m\u001b[0;34m)\u001b[0m\u001b[0;34m\u001b[0m\u001b[0;34m\u001b[0m\u001b[0m\n\u001b[0m\u001b[1;32m    169\u001b[0m             \u001b[0;32mreturn\u001b[0m \u001b[0mself\u001b[0m\u001b[0;34m.\u001b[0m\u001b[0mgather\u001b[0m\u001b[0;34m(\u001b[0m\u001b[0moutputs\u001b[0m\u001b[0;34m,\u001b[0m \u001b[0mself\u001b[0m\u001b[0;34m.\u001b[0m\u001b[0moutput_device\u001b[0m\u001b[0;34m)\u001b[0m\u001b[0;34m\u001b[0m\u001b[0;34m\u001b[0m\u001b[0m\n\u001b[1;32m    170\u001b[0m \u001b[0;34m\u001b[0m\u001b[0m\n",
      "\u001b[0;32m~/src/github.com/feldberlin/wavenet/.venv/lib/python3.7/site-packages/torch/nn/parallel/data_parallel.py\u001b[0m in \u001b[0;36mparallel_apply\u001b[0;34m(self, replicas, inputs, kwargs)\u001b[0m\n\u001b[1;32m    176\u001b[0m \u001b[0;34m\u001b[0m\u001b[0m\n\u001b[1;32m    177\u001b[0m     \u001b[0;32mdef\u001b[0m \u001b[0mparallel_apply\u001b[0m\u001b[0;34m(\u001b[0m\u001b[0mself\u001b[0m\u001b[0;34m,\u001b[0m \u001b[0mreplicas\u001b[0m\u001b[0;34m,\u001b[0m \u001b[0minputs\u001b[0m\u001b[0;34m,\u001b[0m \u001b[0mkwargs\u001b[0m\u001b[0;34m)\u001b[0m\u001b[0;34m:\u001b[0m\u001b[0;34m\u001b[0m\u001b[0;34m\u001b[0m\u001b[0m\n\u001b[0;32m--> 178\u001b[0;31m         \u001b[0;32mreturn\u001b[0m \u001b[0mparallel_apply\u001b[0m\u001b[0;34m(\u001b[0m\u001b[0mreplicas\u001b[0m\u001b[0;34m,\u001b[0m \u001b[0minputs\u001b[0m\u001b[0;34m,\u001b[0m \u001b[0mkwargs\u001b[0m\u001b[0;34m,\u001b[0m \u001b[0mself\u001b[0m\u001b[0;34m.\u001b[0m\u001b[0mdevice_ids\u001b[0m\u001b[0;34m[\u001b[0m\u001b[0;34m:\u001b[0m\u001b[0mlen\u001b[0m\u001b[0;34m(\u001b[0m\u001b[0mreplicas\u001b[0m\u001b[0;34m)\u001b[0m\u001b[0;34m]\u001b[0m\u001b[0;34m)\u001b[0m\u001b[0;34m\u001b[0m\u001b[0;34m\u001b[0m\u001b[0m\n\u001b[0m\u001b[1;32m    179\u001b[0m \u001b[0;34m\u001b[0m\u001b[0m\n\u001b[1;32m    180\u001b[0m     \u001b[0;32mdef\u001b[0m \u001b[0mgather\u001b[0m\u001b[0;34m(\u001b[0m\u001b[0mself\u001b[0m\u001b[0;34m,\u001b[0m \u001b[0moutputs\u001b[0m\u001b[0;34m,\u001b[0m \u001b[0moutput_device\u001b[0m\u001b[0;34m)\u001b[0m\u001b[0;34m:\u001b[0m\u001b[0;34m\u001b[0m\u001b[0;34m\u001b[0m\u001b[0m\n",
      "\u001b[0;32m~/src/github.com/feldberlin/wavenet/.venv/lib/python3.7/site-packages/torch/nn/parallel/parallel_apply.py\u001b[0m in \u001b[0;36mparallel_apply\u001b[0;34m(modules, inputs, kwargs_tup, devices)\u001b[0m\n\u001b[1;32m     84\u001b[0m         \u001b[0moutput\u001b[0m \u001b[0;34m=\u001b[0m \u001b[0mresults\u001b[0m\u001b[0;34m[\u001b[0m\u001b[0mi\u001b[0m\u001b[0;34m]\u001b[0m\u001b[0;34m\u001b[0m\u001b[0;34m\u001b[0m\u001b[0m\n\u001b[1;32m     85\u001b[0m         \u001b[0;32mif\u001b[0m \u001b[0misinstance\u001b[0m\u001b[0;34m(\u001b[0m\u001b[0moutput\u001b[0m\u001b[0;34m,\u001b[0m \u001b[0mExceptionWrapper\u001b[0m\u001b[0;34m)\u001b[0m\u001b[0;34m:\u001b[0m\u001b[0;34m\u001b[0m\u001b[0;34m\u001b[0m\u001b[0m\n\u001b[0;32m---> 86\u001b[0;31m             \u001b[0moutput\u001b[0m\u001b[0;34m.\u001b[0m\u001b[0mreraise\u001b[0m\u001b[0;34m(\u001b[0m\u001b[0;34m)\u001b[0m\u001b[0;34m\u001b[0m\u001b[0;34m\u001b[0m\u001b[0m\n\u001b[0m\u001b[1;32m     87\u001b[0m         \u001b[0moutputs\u001b[0m\u001b[0;34m.\u001b[0m\u001b[0mappend\u001b[0m\u001b[0;34m(\u001b[0m\u001b[0moutput\u001b[0m\u001b[0;34m)\u001b[0m\u001b[0;34m\u001b[0m\u001b[0;34m\u001b[0m\u001b[0m\n\u001b[1;32m     88\u001b[0m     \u001b[0;32mreturn\u001b[0m \u001b[0moutputs\u001b[0m\u001b[0;34m\u001b[0m\u001b[0;34m\u001b[0m\u001b[0m\n",
      "\u001b[0;32m~/src/github.com/feldberlin/wavenet/.venv/lib/python3.7/site-packages/torch/_utils.py\u001b[0m in \u001b[0;36mreraise\u001b[0;34m(self)\u001b[0m\n\u001b[1;32m    423\u001b[0m             \u001b[0;31m# have message field\u001b[0m\u001b[0;34m\u001b[0m\u001b[0;34m\u001b[0m\u001b[0;34m\u001b[0m\u001b[0m\n\u001b[1;32m    424\u001b[0m             \u001b[0;32mraise\u001b[0m \u001b[0mself\u001b[0m\u001b[0;34m.\u001b[0m\u001b[0mexc_type\u001b[0m\u001b[0;34m(\u001b[0m\u001b[0mmessage\u001b[0m\u001b[0;34m=\u001b[0m\u001b[0mmsg\u001b[0m\u001b[0;34m)\u001b[0m\u001b[0;34m\u001b[0m\u001b[0;34m\u001b[0m\u001b[0m\n\u001b[0;32m--> 425\u001b[0;31m         \u001b[0;32mraise\u001b[0m \u001b[0mself\u001b[0m\u001b[0;34m.\u001b[0m\u001b[0mexc_type\u001b[0m\u001b[0;34m(\u001b[0m\u001b[0mmsg\u001b[0m\u001b[0;34m)\u001b[0m\u001b[0;34m\u001b[0m\u001b[0;34m\u001b[0m\u001b[0m\n\u001b[0m\u001b[1;32m    426\u001b[0m \u001b[0;34m\u001b[0m\u001b[0m\n\u001b[1;32m    427\u001b[0m \u001b[0;34m\u001b[0m\u001b[0m\n",
      "\u001b[0;31mRuntimeError\u001b[0m: Caught RuntimeError in replica 0 on device 0.\nOriginal Traceback (most recent call last):\n  File \"/home/purzelrakete/src/github.com/feldberlin/wavenet/.venv/lib/python3.7/site-packages/torch/nn/parallel/parallel_apply.py\", line 61, in _worker\n    output = module(*input, **kwargs)\n  File \"/home/purzelrakete/src/github.com/feldberlin/wavenet/.venv/lib/python3.7/site-packages/torch/nn/modules/module.py\", line 1071, in _call_impl\n    result = forward_call(*input, **kwargs)\n  File \"/home/purzelrakete/src/github.com/feldberlin/wavenet/wavenet/model.py\", line 112, in forward\n    loss = F.cross_entropy(x, y)\n  File \"/home/purzelrakete/src/github.com/feldberlin/wavenet/.venv/lib/python3.7/site-packages/torch/nn/functional.py\", line 2824, in cross_entropy\n    return torch._C._nn.cross_entropy_loss(input, target, weight, _Reduction.get_enum(reduction), ignore_index)\nRuntimeError: CUDA out of memory. Tried to allocate 64.00 MiB (GPU 0; 10.76 GiB total capacity; 8.54 GiB already allocated; 41.44 MiB free; 9.58 GiB reserved in total by PyTorch)\n"
     ]
    }
   ],
   "source": [
    "utils.seed(p)\n",
    "t.train()"
   ]
  },
  {
   "cell_type": "code",
   "execution_count": null,
   "metadata": {
    "papermill": {
     "duration": null,
     "end_time": null,
     "exception": null,
     "start_time": null,
     "status": "pending"
    },
    "tags": []
   },
   "outputs": [],
   "source": [
    "utils.seed(p)\n",
    "tracks, logits, g = sample.fast(m, ds_train.transforms, utils.decode_nucleus(), n_samples=32000, batch_size=10)"
   ]
  },
  {
   "cell_type": "code",
   "execution_count": null,
   "metadata": {
    "papermill": {
     "duration": null,
     "end_time": null,
     "exception": null,
     "start_time": null,
     "status": "pending"
    },
    "tags": []
   },
   "outputs": [],
   "source": [
    "for track in tracks:\n",
    "    track = ds_train.transforms.normalise(track.numpy())\n",
    "    track = audio.mu_expand(track, p)\n",
    "    ipd.display(ipd.Audio(track, rate=p.sampling_rate))"
   ]
  },
  {
   "cell_type": "code",
   "execution_count": null,
   "metadata": {
    "papermill": {
     "duration": null,
     "end_time": null,
     "exception": null,
     "start_time": null,
     "status": "pending"
    },
    "tags": []
   },
   "outputs": [],
   "source": [
    "t.metrics.finish()"
   ]
  }
 ],
 "metadata": {
  "kernelspec": {
   "display_name": ".venv-wavenet",
   "language": "python",
   "name": ".venv-wavenet"
  },
  "language_info": {
   "codemirror_mode": {
    "name": "ipython",
    "version": 3
   },
   "file_extension": ".py",
   "mimetype": "text/x-python",
   "name": "python",
   "nbconvert_exporter": "python",
   "pygments_lexer": "ipython3",
   "version": "3.7.2"
  },
  "papermill": {
   "default_parameters": {},
   "duration": 15.169951,
   "end_time": "2021-08-28T09:47:38.776072",
   "environment_variables": {},
   "exception": true,
   "input_path": "notebooks/train.maestro.ipynb",
   "output_path": "experiment-1630144043.ipynb",
   "parameters": {
    "batch_norm": true,
    "batch_size": 15
   },
   "start_time": "2021-08-28T09:47:23.606121",
   "version": "2.3.3"
  },
  "widgets": {
   "application/vnd.jupyter.widget-state+json": {
    "state": {
     "146869975da9417a8e795b5ffe2def5d": {
      "model_module": "@jupyter-widgets/controls",
      "model_module_version": "1.5.0",
      "model_name": "DescriptionStyleModel",
      "state": {
       "_model_module": "@jupyter-widgets/controls",
       "_model_module_version": "1.5.0",
       "_model_name": "DescriptionStyleModel",
       "_view_count": null,
       "_view_module": "@jupyter-widgets/base",
       "_view_module_version": "1.2.0",
       "_view_name": "StyleView",
       "description_width": ""
      }
     },
     "3458339945b34dac807ffecc0a577b80": {
      "model_module": "@jupyter-widgets/controls",
      "model_module_version": "1.5.0",
      "model_name": "FloatProgressModel",
      "state": {
       "_dom_classes": [],
       "_model_module": "@jupyter-widgets/controls",
       "_model_module_version": "1.5.0",
       "_model_name": "FloatProgressModel",
       "_view_count": null,
       "_view_module": "@jupyter-widgets/controls",
       "_view_module_version": "1.5.0",
       "_view_name": "ProgressView",
       "bar_style": "",
       "description": "",
       "description_tooltip": null,
       "layout": "IPY_MODEL_3aea63b71fc94034ba77b2d56deee2c4",
       "max": 1,
       "min": 0,
       "orientation": "horizontal",
       "style": "IPY_MODEL_f085583692b141688dc630fcd74485e9",
       "value": 0
      }
     },
     "3aea63b71fc94034ba77b2d56deee2c4": {
      "model_module": "@jupyter-widgets/base",
      "model_module_version": "1.2.0",
      "model_name": "LayoutModel",
      "state": {
       "_model_module": "@jupyter-widgets/base",
       "_model_module_version": "1.2.0",
       "_model_name": "LayoutModel",
       "_view_count": null,
       "_view_module": "@jupyter-widgets/base",
       "_view_module_version": "1.2.0",
       "_view_name": "LayoutView",
       "align_content": null,
       "align_items": null,
       "align_self": null,
       "border": null,
       "bottom": null,
       "display": null,
       "flex": null,
       "flex_flow": null,
       "grid_area": null,
       "grid_auto_columns": null,
       "grid_auto_flow": null,
       "grid_auto_rows": null,
       "grid_column": null,
       "grid_gap": null,
       "grid_row": null,
       "grid_template_areas": null,
       "grid_template_columns": null,
       "grid_template_rows": null,
       "height": null,
       "justify_content": null,
       "justify_items": null,
       "left": null,
       "margin": null,
       "max_height": null,
       "max_width": null,
       "min_height": null,
       "min_width": null,
       "object_fit": null,
       "object_position": null,
       "order": null,
       "overflow": null,
       "overflow_x": null,
       "overflow_y": null,
       "padding": null,
       "right": null,
       "top": null,
       "visibility": null,
       "width": null
      }
     },
     "5198fef8cf0a460680c094a0dea2f436": {
      "model_module": "@jupyter-widgets/base",
      "model_module_version": "1.2.0",
      "model_name": "LayoutModel",
      "state": {
       "_model_module": "@jupyter-widgets/base",
       "_model_module_version": "1.2.0",
       "_model_name": "LayoutModel",
       "_view_count": null,
       "_view_module": "@jupyter-widgets/base",
       "_view_module_version": "1.2.0",
       "_view_name": "LayoutView",
       "align_content": null,
       "align_items": null,
       "align_self": null,
       "border": null,
       "bottom": null,
       "display": null,
       "flex": null,
       "flex_flow": null,
       "grid_area": null,
       "grid_auto_columns": null,
       "grid_auto_flow": null,
       "grid_auto_rows": null,
       "grid_column": null,
       "grid_gap": null,
       "grid_row": null,
       "grid_template_areas": null,
       "grid_template_columns": null,
       "grid_template_rows": null,
       "height": null,
       "justify_content": null,
       "justify_items": null,
       "left": null,
       "margin": null,
       "max_height": null,
       "max_width": null,
       "min_height": null,
       "min_width": null,
       "object_fit": null,
       "object_position": null,
       "order": null,
       "overflow": null,
       "overflow_x": null,
       "overflow_y": null,
       "padding": null,
       "right": null,
       "top": null,
       "visibility": null,
       "width": null
      }
     },
     "56a8fe1340204919bc5528e728e242a8": {
      "model_module": "@jupyter-widgets/controls",
      "model_module_version": "1.5.0",
      "model_name": "LabelModel",
      "state": {
       "_dom_classes": [],
       "_model_module": "@jupyter-widgets/controls",
       "_model_module_version": "1.5.0",
       "_model_name": "LabelModel",
       "_view_count": null,
       "_view_module": "@jupyter-widgets/controls",
       "_view_module_version": "1.5.0",
       "_view_name": "LabelView",
       "description": "",
       "description_tooltip": null,
       "layout": "IPY_MODEL_5f541792e19c4a34a35ff493940b7ee1",
       "placeholder": "​",
       "style": "IPY_MODEL_146869975da9417a8e795b5ffe2def5d",
       "value": ""
      }
     },
     "5f541792e19c4a34a35ff493940b7ee1": {
      "model_module": "@jupyter-widgets/base",
      "model_module_version": "1.2.0",
      "model_name": "LayoutModel",
      "state": {
       "_model_module": "@jupyter-widgets/base",
       "_model_module_version": "1.2.0",
       "_model_name": "LayoutModel",
       "_view_count": null,
       "_view_module": "@jupyter-widgets/base",
       "_view_module_version": "1.2.0",
       "_view_name": "LayoutView",
       "align_content": null,
       "align_items": null,
       "align_self": null,
       "border": null,
       "bottom": null,
       "display": null,
       "flex": null,
       "flex_flow": null,
       "grid_area": null,
       "grid_auto_columns": null,
       "grid_auto_flow": null,
       "grid_auto_rows": null,
       "grid_column": null,
       "grid_gap": null,
       "grid_row": null,
       "grid_template_areas": null,
       "grid_template_columns": null,
       "grid_template_rows": null,
       "height": null,
       "justify_content": null,
       "justify_items": null,
       "left": null,
       "margin": null,
       "max_height": null,
       "max_width": null,
       "min_height": null,
       "min_width": null,
       "object_fit": null,
       "object_position": null,
       "order": null,
       "overflow": null,
       "overflow_x": null,
       "overflow_y": null,
       "padding": null,
       "right": null,
       "top": null,
       "visibility": null,
       "width": null
      }
     },
     "e010d9d7aafd42b2b255ccff2847a0d0": {
      "model_module": "@jupyter-widgets/controls",
      "model_module_version": "1.5.0",
      "model_name": "VBoxModel",
      "state": {
       "_dom_classes": [],
       "_model_module": "@jupyter-widgets/controls",
       "_model_module_version": "1.5.0",
       "_model_name": "VBoxModel",
       "_view_count": null,
       "_view_module": "@jupyter-widgets/controls",
       "_view_module_version": "1.5.0",
       "_view_name": "VBoxView",
       "box_style": "",
       "children": [
        "IPY_MODEL_56a8fe1340204919bc5528e728e242a8",
        "IPY_MODEL_3458339945b34dac807ffecc0a577b80"
       ],
       "layout": "IPY_MODEL_5198fef8cf0a460680c094a0dea2f436"
      }
     },
     "f085583692b141688dc630fcd74485e9": {
      "model_module": "@jupyter-widgets/controls",
      "model_module_version": "1.5.0",
      "model_name": "ProgressStyleModel",
      "state": {
       "_model_module": "@jupyter-widgets/controls",
       "_model_module_version": "1.5.0",
       "_model_name": "ProgressStyleModel",
       "_view_count": null,
       "_view_module": "@jupyter-widgets/base",
       "_view_module_version": "1.2.0",
       "_view_name": "StyleView",
       "bar_color": null,
       "description_width": ""
      }
     }
    },
    "version_major": 2,
    "version_minor": 0
   }
  }
 },
 "nbformat": 4,
 "nbformat_minor": 5
}
